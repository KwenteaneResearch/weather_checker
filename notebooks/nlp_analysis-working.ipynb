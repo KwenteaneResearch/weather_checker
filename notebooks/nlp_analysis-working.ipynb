{
 "cells": [
  {
   "cell_type": "code",
   "execution_count": 1,
   "id": "9f5a7673-a0b4-46e7-a97b-5bf12d04608c",
   "metadata": {},
   "outputs": [],
   "source": [
    "# To read the PDF\n",
    "from pypdf import PdfReader\n",
    "#to read environment variables, list PDFs in folder etc\n",
    "import os\n",
    "from dotenv import load_dotenv\n",
    "\n",
    "# to clean text from PDFs\n",
    "import string\n",
    "\n",
    "#to deal with clustering\n",
    "import hdbscan\n",
    "#Using langchain\n",
    "from langchain import LLMChain\n",
    "from langchain.llms import GPT4All\n",
    "from langchain.prompts import PromptTemplate\n",
    "from langchain.chains.summarize import load_summarize_chain\n",
    "from langchain.text_splitter import RecursiveCharacterTextSplitter\n",
    "#from langchain_community.embeddings import GPT4AllEmbeddings\n",
    "\n",
    "from langchain import OpenAI\n",
    "\n",
    "import pandas as pd\n",
    "import numpy as np\n",
    "import matplotlib.pyplot as plt"
   ]
  },
  {
   "cell_type": "code",
   "execution_count": null,
   "id": "6fe7812c-d75e-4fa3-a5bc-7e7f0af1ad93",
   "metadata": {},
   "outputs": [],
   "source": [
    "#when playing with Vertex AI\n",
    "import pandas as pd\n",
    "from langchain import LLMChain\n",
    "from langchain.llms import GPT4All\n",
    "from langchain.prompts import PromptTemplate\n",
    "from langchain.chains.summarize import load_summarize_chain\n",
    "from langchain.text_splitter import RecursiveCharacterTextSplitter\n",
    "#from langchain_google_vertexai import VertexAI\n",
    "\n",
    "from langchain.llms import VertexAI\n"
   ]
  },
  {
   "cell_type": "code",
   "execution_count": null,
   "id": "6500c6fc-0888-4e2d-816f-b5e4ed92ff45",
   "metadata": {},
   "outputs": [],
   "source": [
    "#if getting a warning message when importing VertexAI from langchain\n",
    "#!pip install -U langchain-google-vertexai"
   ]
  },
  {
   "cell_type": "code",
   "execution_count": 14,
   "id": "8b1552b5-aa6f-4b94-9702-3961273dd4b3",
   "metadata": {},
   "outputs": [
    {
     "name": "stdout",
     "output_type": "stream",
     "text": [
      "Collecting tiktoken\n",
      "  Downloading tiktoken-0.6.0-cp310-cp310-manylinux_2_17_x86_64.manylinux2014_x86_64.whl.metadata (6.6 kB)\n",
      "Requirement already satisfied: regex>=2022.1.18 in /home/quentin/.pyenv/versions/3.10.6/envs/weather_checker/lib/python3.10/site-packages (from tiktoken) (2023.12.25)\n",
      "Requirement already satisfied: requests>=2.26.0 in /home/quentin/.pyenv/versions/3.10.6/envs/weather_checker/lib/python3.10/site-packages (from tiktoken) (2.31.0)\n",
      "Requirement already satisfied: charset-normalizer<4,>=2 in /home/quentin/.pyenv/versions/3.10.6/envs/weather_checker/lib/python3.10/site-packages (from requests>=2.26.0->tiktoken) (3.3.2)\n",
      "Requirement already satisfied: idna<4,>=2.5 in /home/quentin/.pyenv/versions/3.10.6/envs/weather_checker/lib/python3.10/site-packages (from requests>=2.26.0->tiktoken) (3.6)\n",
      "Requirement already satisfied: urllib3<3,>=1.21.1 in /home/quentin/.pyenv/versions/3.10.6/envs/weather_checker/lib/python3.10/site-packages (from requests>=2.26.0->tiktoken) (1.26.18)\n",
      "Requirement already satisfied: certifi>=2017.4.17 in /home/quentin/.pyenv/versions/3.10.6/envs/weather_checker/lib/python3.10/site-packages (from requests>=2.26.0->tiktoken) (2024.2.2)\n",
      "Downloading tiktoken-0.6.0-cp310-cp310-manylinux_2_17_x86_64.manylinux2014_x86_64.whl (1.8 MB)\n",
      "\u001b[2K   \u001b[90m━━━━━━━━━━━━━━━━━━━━━━━━━━━━━━━━━━━━━━━━\u001b[0m \u001b[32m1.8/1.8 MB\u001b[0m \u001b[31m8.6 MB/s\u001b[0m eta \u001b[36m0:00:00\u001b[0m00:01\u001b[0m00:01\u001b[0m\n",
      "\u001b[?25hInstalling collected packages: tiktoken\n",
      "Successfully installed tiktoken-0.6.0\n"
     ]
    }
   ],
   "source": [
    "#!pip install langchain==0.0.342\n",
    "#!pip install gpt4all==2.0.2\n",
    "#!pip install tiktoken"
   ]
  },
  {
   "cell_type": "code",
   "execution_count": 2,
   "id": "f20629fa-9386-48ff-adcd-de7bd845e2c6",
   "metadata": {},
   "outputs": [
    {
     "data": {
      "text/plain": [
       "True"
      ]
     },
     "execution_count": 2,
     "metadata": {},
     "output_type": "execute_result"
    }
   ],
   "source": [
    "load_dotenv()"
   ]
  },
  {
   "cell_type": "code",
   "execution_count": null,
   "id": "f8c4de84-dea8-4133-bf39-bbb917af25d9",
   "metadata": {},
   "outputs": [],
   "source": [
    "#specific file\n",
    "pdf_file =\"../raw_data/pdf_reports/2016/160602 (Marex).pdf\"\n",
    "reader = PdfReader(pdf_file)\n",
    "page = reader.pages[0]\n",
    "text =page.extract_text()\n",
    "#comment = text.partition(\"COT\")[2]\n",
    "comment = text\n",
    "comment = comment.lower()\n",
    "comment = ''.join(char for char in comment if not char.isdigit())\n",
    "for punctuation in string.punctuation:\n",
    "    comment = comment.replace(punctuation, '') \n",
    "comment = comment.replace('\\n',\" \")\n",
    "comment = comment.split(\"         \")[-1]\n",
    "len(comment)"
   ]
  },
  {
   "cell_type": "code",
   "execution_count": 42,
   "id": "a3013b3e-f56d-4380-a5c3-1e53bb5f4af6",
   "metadata": {},
   "outputs": [
    {
     "data": {
      "text/plain": [
       "'to say the least it was a violent week for cocoa with prices netting losses of £ respectively yet still rallying nearly points in each market off the lows charted yesterday leaving the recover y almost as equally impressive as the decline  as discussed a shoddy macro backdrop steamrolling of the  equity and commodity markets solid arrivals and perhaps an element of compulsory hedging accelerated the path lower taking prices deep into oversold territory by midweek  value based buying short coveringand a positive chart signal helped catapult prices off the lows with a weaker trending sterling providing the  additional boost for the london market  regarding short covering one other curious aspect of trading this  week involved open interest which remained curiously stable throughout the decline with any material offsets of positions only registered after the market rebounded yesterday  volumes by themselves were  another key feature with each platform averaging about  contracts a day  in theory the market churned over the entire annual global output plus a residual ghana crop in a week’s time  options  volumes kept pace as well with equivalent weekly trading on the two platforms nearly matching the entire ivorian harvest – monstrous figures  all that activity imparted a noticeable impact on implied volatilitiesthat were up about  to  on the mar contract in london and new york respectively  on a final note today’s much anticipated cftc commitments figures revealed a less than expected reduction in ne t  speculative length  lots given the point drop and massive turnover in the later part of the  reporting period  granted rebalancing periods had not commenced but index positions hardly budge d  refuting some beliefs that selling from these entities  due to the general rout in commodities was partl y  responsible for the price activity  leading into next week this could leave the window open for furthe r selling from this camp given the drawdowns across the asset class  have a good weekend '"
      ]
     },
     "execution_count": 42,
     "metadata": {},
     "output_type": "execute_result"
    }
   ],
   "source": [
    "comment.split(\"         \")[-1]"
   ]
  },
  {
   "cell_type": "code",
   "execution_count": 8,
   "id": "0ee2bca6-36fc-4e98-b60c-09f4652fb51b",
   "metadata": {},
   "outputs": [
    {
     "data": {
      "text/plain": [
       "['161010.pdf',\n",
       " '160108.pdf',\n",
       " '160907.pdf',\n",
       " '160205.pdf',\n",
       " '160718.pdf',\n",
       " '160104.pdf',\n",
       " '161122.pdf',\n",
       " '160413.pdf',\n",
       " '161025.pdf',\n",
       " '161228.pdf',\n",
       " '161229.pdf',\n",
       " '161018.pdf',\n",
       " '161219.pdf',\n",
       " '160524.pdf',\n",
       " '160302.pdf',\n",
       " '160111.pdf',\n",
       " '160316.pdf',\n",
       " '161111.pdf',\n",
       " '160210.pdf',\n",
       " '160407.pdf',\n",
       " '161206.pdf',\n",
       " '160706.pdf',\n",
       " '160425.pdf',\n",
       " '160411.pdf',\n",
       " '160816.pdf',\n",
       " '160226.pdf',\n",
       " '160506.pdf',\n",
       " '160412.pdf',\n",
       " '160930.pdf',\n",
       " '160509.pdf',\n",
       " '160314.pdf',\n",
       " '160818.pdf',\n",
       " '160727.pdf',\n",
       " '161213.pdf',\n",
       " '161006.pdf',\n",
       " '161220.pdf',\n",
       " '160408.pdf',\n",
       " '160323.pdf',\n",
       " '160712.pdf',\n",
       " '160830.pdf',\n",
       " '161121.pdf',\n",
       " '160118.pdf',\n",
       " '160726.pdf',\n",
       " '160308.pdf',\n",
       " '161125.pdf',\n",
       " '161114.pdf',\n",
       " '160629.pdf',\n",
       " '161205.pdf',\n",
       " '160307.pdf',\n",
       " '160502.pdf',\n",
       " '160121.pdf',\n",
       " '160128.pdf',\n",
       " '160419.pdf',\n",
       " '160122.pdf',\n",
       " '160915.pdf',\n",
       " '161108.pdf',\n",
       " '161017.pdf',\n",
       " '160610.pdf',\n",
       " '160405.pdf',\n",
       " '160901.pdf',\n",
       " '160811.pdf',\n",
       " '160418.pdf',\n",
       " '160303.pdf',\n",
       " '160527.pdf',\n",
       " '160217.pdf',\n",
       " '160224.pdf',\n",
       " '160929.pdf',\n",
       " '160209.pdf',\n",
       " '160404.pdf',\n",
       " '160531.pdf',\n",
       " '160928.pdf',\n",
       " '161116.pdf',\n",
       " '160211.pdf',\n",
       " '160614.pdf',\n",
       " '161115.pdf',\n",
       " '160119.pdf',\n",
       " '160704.pdf',\n",
       " '160218.pdf',\n",
       " '160621.pdf',\n",
       " '160725.pdf',\n",
       " '160525.pdf',\n",
       " '161208.pdf',\n",
       " '161202.pdf',\n",
       " '160708.pdf',\n",
       " '161103.pdf',\n",
       " '160908.pdf',\n",
       " '161019.pdf',\n",
       " '160822.pdf',\n",
       " '160909.pdf',\n",
       " '161130.pdf',\n",
       " '160812.pdf',\n",
       " '161020.pdf',\n",
       " '160420.pdf',\n",
       " '161109.pdf',\n",
       " '160720.pdf',\n",
       " '160919.pdf',\n",
       " '160923.pdf',\n",
       " '161223.pdf',\n",
       " '161128.pdf',\n",
       " '161005.pdf',\n",
       " '160120.pdf',\n",
       " '160607.pdf',\n",
       " '160129.pdf',\n",
       " '160714.pdf',\n",
       " '160510.pdf',\n",
       " '160815.pdf',\n",
       " '160315.pdf',\n",
       " '160322.pdf',\n",
       " '160516.pdf',\n",
       " '160203.pdf',\n",
       " '161026.pdf',\n",
       " '160426.pdf',\n",
       " '160823.pdf',\n",
       " '161110.pdf',\n",
       " '160729.pdf',\n",
       " '160517.pdf',\n",
       " '160926.pdf',\n",
       " '161104.pdf',\n",
       " '160505.pdf',\n",
       " '160329.pdf',\n",
       " '160520.pdf',\n",
       " '160105.pdf',\n",
       " '161107.pdf',\n",
       " '160504.pdf',\n",
       " '160802.pdf',\n",
       " '160321.pdf',\n",
       " '161004.pdf',\n",
       " '160324.pdf',\n",
       " '160406.pdf',\n",
       " '160927.pdf',\n",
       " '160826.pdf',\n",
       " '160512.pdf',\n",
       " '160622.pdf',\n",
       " '160219.pdf',\n",
       " '160715.pdf',\n",
       " '160601.pdf',\n",
       " '160511.pdf',\n",
       " '161014.pdf',\n",
       " '160831.pdf',\n",
       " '160824.pdf',\n",
       " '160204.pdf',\n",
       " '160603.pdf',\n",
       " '160705.pdf',\n",
       " '160125.pdf',\n",
       " '160616.pdf',\n",
       " '160817.pdf',\n",
       " '160810.pdf',\n",
       " '160523.pdf',\n",
       " '160808.pdf',\n",
       " '160330.pdf',\n",
       " '160106.pdf',\n",
       " '160916.pdf',\n",
       " '160713.pdf',\n",
       " '160628.pdf',\n",
       " '160513.pdf',\n",
       " '161216.pdf',\n",
       " '160801.pdf',\n",
       " '160225.pdf',\n",
       " '161209.pdf',\n",
       " '160222.pdf',\n",
       " '160623.pdf',\n",
       " '161129.pdf',\n",
       " '160112.pdf',\n",
       " '161222.pdf',\n",
       " '160317.pdf',\n",
       " '160707.pdf',\n",
       " '160422.pdf',\n",
       " '161221.pdf',\n",
       " '160126.pdf',\n",
       " '160701.pdf',\n",
       " '160202.pdf',\n",
       " '160819.pdf',\n",
       " '161201.pdf',\n",
       " '160503.pdf',\n",
       " '160721.pdf',\n",
       " '161215.pdf',\n",
       " '161117.pdf',\n",
       " '160208.pdf',\n",
       " '161013.pdf',\n",
       " '160829.pdf',\n",
       " '161101.pdf',\n",
       " '160615.pdf',\n",
       " '160913.pdf',\n",
       " '160216.pdf',\n",
       " '160722.pdf',\n",
       " '161214.pdf',\n",
       " '160608.pdf',\n",
       " '161230.pdf',\n",
       " '160912.pdf',\n",
       " '161003.pdf',\n",
       " '160728.pdf',\n",
       " '160617.pdf',\n",
       " '160914.pdf',\n",
       " '160804.pdf',\n",
       " '160127.pdf',\n",
       " '160825.pdf',\n",
       " '160414.pdf',\n",
       " '160107.pdf',\n",
       " '160526.pdf',\n",
       " '160630.pdf',\n",
       " '160809.pdf',\n",
       " '161027.pdf',\n",
       " '160902.pdf',\n",
       " '161011.pdf',\n",
       " '161123.pdf',\n",
       " '161024.pdf',\n",
       " '161207.pdf',\n",
       " '160115.pdf',\n",
       " '160223.pdf',\n",
       " '160415.pdf',\n",
       " '160301.pdf',\n",
       " '160920.pdf',\n",
       " '160921.pdf',\n",
       " '161021.pdf',\n",
       " '160201.pdf',\n",
       " '160805.pdf',\n",
       " '161227.pdf',\n",
       " '160113.pdf',\n",
       " '160803.pdf',\n",
       " '160518.pdf',\n",
       " '161118.pdf',\n",
       " '161212.pdf',\n",
       " '160304.pdf',\n",
       " '160906.pdf',\n",
       " '161012.pdf',\n",
       " '160331.pdf',\n",
       " '160620.pdf',\n",
       " '160609.pdf',\n",
       " '160212.pdf',\n",
       " '160711.pdf',\n",
       " '160613.pdf',\n",
       " '160318.pdf',\n",
       " '161124.pdf',\n",
       " '160421.pdf',\n",
       " '161007.pdf',\n",
       " '160311.pdf',\n",
       " '160229.pdf',\n",
       " '160519.pdf',\n",
       " '161031.pdf',\n",
       " '160309.pdf',\n",
       " '160719.pdf',\n",
       " '160428.pdf',\n",
       " '161028.pdf',\n",
       " '160922.pdf',\n",
       " '160429.pdf',\n",
       " '160602 (Marex).pdf',\n",
       " '161102.pdf',\n",
       " '160310.pdf']"
      ]
     },
     "execution_count": 8,
     "metadata": {},
     "output_type": "execute_result"
    }
   ],
   "source": [
    "#listing the files from a specific folder\n",
    "from os import listdir\n",
    "from os.path import isfile, join\n",
    "onlyfiles = [f for f in listdir(\"../raw_data/pdf_reports/2016\") if isfile(join(\"../raw_data/pdf_reports/2016\", f))]\n",
    "onlyfiles"
   ]
  },
  {
   "cell_type": "code",
   "execution_count": 35,
   "id": "4ef0aa92-2b2b-4091-ad93-bb6eccc00c2a",
   "metadata": {},
   "outputs": [
    {
     "data": {
      "text/plain": [
       "['160205.pdf',\n",
       " '160210.pdf',\n",
       " '160226.pdf',\n",
       " '160217.pdf',\n",
       " '160224.pdf',\n",
       " '160209.pdf',\n",
       " '160211.pdf',\n",
       " '160218.pdf',\n",
       " '160203.pdf',\n",
       " '160219.pdf',\n",
       " '160204.pdf',\n",
       " '160225.pdf',\n",
       " '160222.pdf',\n",
       " '160202.pdf',\n",
       " '160208.pdf',\n",
       " '160216.pdf',\n",
       " '160223.pdf',\n",
       " '160201.pdf',\n",
       " '160212.pdf',\n",
       " '160229.pdf']"
      ]
     },
     "execution_count": 35,
     "metadata": {},
     "output_type": "execute_result"
    }
   ],
   "source": [
    "month = \"02\"\n",
    "reports = [s for s in onlyfiles if s[2] + s[3] == month]\n",
    "reports"
   ]
  },
  {
   "cell_type": "code",
   "execution_count": 22,
   "id": "c419174d-a4f5-430a-b8d6-e51555aa8c53",
   "metadata": {},
   "outputs": [
    {
     "data": {
      "text/plain": [
       "['160205.pdf', '160210.pdf', '160226.pdf', '160217.pdf', '160224.pdf']"
      ]
     },
     "execution_count": 22,
     "metadata": {},
     "output_type": "execute_result"
    }
   ],
   "source": []
  },
  {
   "cell_type": "code",
   "execution_count": 10,
   "id": "4eea2ad0-8a0f-4110-b095-a6c06f84eade",
   "metadata": {},
   "outputs": [
    {
     "data": {
      "text/plain": [
       "'161010'"
      ]
     },
     "execution_count": 10,
     "metadata": {},
     "output_type": "execute_result"
    }
   ],
   "source": [
    "onlyfiles[0].strip(\".pdf\")"
   ]
  },
  {
   "cell_type": "code",
   "execution_count": null,
   "id": "bbcbaeba-32af-45fe-97c6-5726a4b40323",
   "metadata": {},
   "outputs": [],
   "source": [
    "#look of PDF text before cleaning\n",
    "files = \"160108.pdf\"\n",
    "text = extract_text(f\"../raw_data/pdf_reports/2016/{files}\", maxpages = 1)\n",
    "text"
   ]
  },
  {
   "cell_type": "code",
   "execution_count": 3,
   "id": "c050a270-51cb-4cc7-abe1-3708f15fd2c1",
   "metadata": {},
   "outputs": [],
   "source": [
    "#importaning the list from the existing CSV\n",
    "comments_db = pd.read_csv(\"../raw_data/pdf_reports/comments_2016.csv\")\n",
    "comments_db = comments_db[\"0\"].tolist()"
   ]
  },
  {
   "cell_type": "code",
   "execution_count": 10,
   "id": "3e87e005-e796-40af-9174-56fe7ba4b2de",
   "metadata": {},
   "outputs": [
    {
     "name": "stderr",
     "output_type": "stream",
     "text": [
      "UsageError: Line magic function `%%time` not found.\n"
     ]
    }
   ],
   "source": [
    "%%time\n",
    "#importing daily reports and cleaning text\n",
    "comments_db = []\n",
    "files_not_processed =[]\n",
    "for files in onlyfiles:\n",
    "    #text = extract_text(f\"../raw_data/pdf_reports/2016/{files}\", maxpages = 1)\n",
    "    reader = PdfReader(f\"../raw_data/pdf_reports/2016/{files}\")\n",
    "    page = reader.pages[0]\n",
    "    text =page.extract_text()\n",
    "    comment = text.partition(\"COT\")[2]\n",
    "    comment = comment.lower()\n",
    "    comment = ''.join(char for char in comment if not char.isdigit())\n",
    "    for punctuation in string.punctuation:\n",
    "       comment = comment.replace(punctuation, '') \n",
    "    comment = comment.replace('\\n',\" \")\n",
    "    comment = comment.split(\"         \")[-1]\n",
    "    if len(comment) < 25:\n",
    "        files_not_processed.append(files)\n",
    "    else:\n",
    "        comments_db.append(comment)\n",
    "comments_db"
   ]
  },
  {
   "cell_type": "code",
   "execution_count": 36,
   "id": "59e8e589-287f-4b96-a231-6744b25cf13b",
   "metadata": {},
   "outputs": [
    {
     "name": "stdout",
     "output_type": "stream",
     "text": [
      "CPU times: user 2.43 s, sys: 0 ns, total: 2.43 s\n",
      "Wall time: 2.43 s\n"
     ]
    },
    {
     "data": {
      "text/plain": [
       "['date of report: 160205; report content: email your replies to newedgecocoa@newe dge.com       new york office p:  212-278-4836 f:  212 262-3943  london office p: 207-780-6677 f:  207-676-8650       joseph p. mallaney   todd c. lunstead michael dann jonathan proctor andrew proctor michael juliano devon dinneen jamie ball graham phillipsindex + 37,635137,689net com   net ls com -delaware$413 $300(trade at settlement) 7,178 -24,9210open interest  ~    new  york  spreads    ~  friday, february 05, 2016 352,026cocoa market report open interest  3,123,399 oi nr - com + 142,417 -38,029 12,773net ls104,388 oi 308,27936,082 22,876 162,610239,603 308,2799256 9,544valid certs0.7083 1.406313620.0 4.1550$125 2.13    albany hampton roads67.78 6.571 baltimore totalkey rates dateldn volumes n.y. volumes  ~    london  spreads    ~  suprt & res. ice tas volumes net chng.05-feb-16 2,767 -7,855$263 $110 0.85 may6 new york 290,665 5-feb-16 4,280 3,425,522      while the net changes mask some of the extremities, it was another volatile  affair for the cocoa markets with both extrinsic and extrinsic factors driving  another day of erratic high volume trading.  as has been standard practice this week - in this direction or in reverse - prices opened firm, sold off, rallied the n  repeated the whole process skyrocketing realized volatility as indicated in the charts to the right. (ice just increased margins again)  though expanded, implied volatilities in the options market continue to trade at a steep discount, an odd quirk that was last prevalent with any consistency in the first quarter o f  2012.  in the news, reuters released a poll of thirteen participants with not one forecasting a surplus for the 2015/16. mean balance sheet estimates equated to a sizable 132,636 mt deficit with prices, again on average, expected to top £2100 and $2950 by year end.  with such a sweeping consensus, it is a  bit  surprising that prices have plunged approximately £ 330/$650 from their peaks  in less than two months.  blame the macro environment perha ps, but those are  ginormous downturns should those shortfalls actualize, but potentially valid  should they not.  options expiration in new york likely exacerbated the  volatility with the market crisscrossing  the 2800 strike tw ice in the session where more than 3,700 contracts remained open between both puts and calls. though the closing price, 2772, was safely nestled  between the two closest  strikes, a post settlement rally and last print of 2797 in mar6 leaves the window for some illogicals and perhaps an explosive start to the week – like  any other catalyst was really needed.  on a final note, commitments data fro m the cftc showed a 5,000 lots reduction in net length from the large  speculative category.  sourced from a combination of long liquidation and new short selling, net holdings in this segment have fallen to the smallest level  since april 2013.  one curious component within the report was the sizable presence of indexes that bought nearly 7,000 gross contracts over the volatile  period.  looking across the other commodities, indexes were buyers in 9 out of 12 reported products.  have a good weekend. ',\n",
       " 'date of report: 160210; report content: email your replies to newedgecocoa@newedge.com       new york office p:  212-278-4836 f:  212 262-3943  london office p: 207-780-6677 f:  207-676-8650       joseph p. mallaney   todd c. lunstead michael dann jonathan proctor andrew proctor michael juliano devon dinneen jamie ball graham phillipsdateldn volumes n.y. volumes  ~    london  spreads    ~  suprt & res. ice tas volumes net chng.05-feb-16 2,767 -11,217$263 $110 0.85 may6 new york 310,230 10-feb-16 4,280 3,612,449valid certs0.7077 1.394913460.0 4.1180$125 2.13    alban y hampton roads67.80 6.571 baltimore totalkey rates 239,603 308,2799256 9,544 36,384-38,029 12,773 22,249mng $ netnet ls104,388 oi 308,27936,082 22,876 162,610$413 $300(trade at settlement) 7,178 -24,9210open interest  ~    new  york  spreads    ~  wednesday, february 10, 2016 394,085cocoa market report open interest  3,290,761 oi nr - com + 142,417 index + 37,635137,689net com   net ls com -delaware      the new york market took center staged with more than 56,000 contracts changing hands augmented by the  wind down on the spot position and heavy spread trading.  open interest on mar16 was down nearly 12,500 contracts leaving more than 70% of yesterday’s front month activity to liquidation as first notice day swiftly approaches.  while those changes, albeit sizable, were ordinary this deep in the cycle, there still remains a significant clip of remaining positions to work through as the front month spread continues to scale new depths  trading to a 30 discount at the tail end of the session.  more intriguing was the cumulative change in open interest,  down 10,600 contracts, which has been a fairly consistent theme with only 3,700 contracts of the nearly 21,000 lotstrimmed off the front month reinvested around the curve since friday.  this may also help explain why the sprea d  has come under such pressure should the straight reduction in oi turn out to be long liquation on the next commitments report.  perhaps the excessive volatility has triggered capitulation as there really is no correct outright  position in this environment.  those prices risks were again evident today as agenda based selling dropped futures nearly $50 in the five minutes leading up to the official close on more than 3,000 transactions.  moves of this nature have almost become normalized over the past few weeks – a trend that remains observable in not just cocoa  but numerous other markets as well.  other factors leading to the steep front month inversion include ongoing an d pending grading at the exchange with another ~500 lots added to the queue today.  should everything pass, the cumulative certified stock base would tally to more than 31,000 mts with plenty of time to grow.  while trading wasno less volatile, london remained the more technically sound environment rejecting recent highs for the fifth time  this month.  even so, prices have charted higher lows in each of the last five consecutive sessions expanding theprospect for another explosive move and opening the door for another big volume day in the options space.  majo r deals included nearly 2,000 mar16 2050 / jul16 2250 calendar fences and 2,300 of each the jul16 and sep16 2200-2400-1950 three-ways, call spread vs put, all of which traded laid up.  moving away from cocoa, federal reserve chairwomen janet yellen received a thorough scolding on capitol hill – for many items seemingly not even in he r control - yet her underlying message remained steady; though global economic risks remain a concern a resumption of monetary easing was not on the current horizon.  with that premise leaving many outs, foreign exchange markets were turbulent throughout her testimony with a 950 point range in the dollar index adding another element o f  unpredictability and choppiness to our markets.  have a good evening. ',\n",
       " 'date of report: 160226; report content: email your replies to newedgecocoa@newedge.com       new york office p:  212-278-4836 f:  212 262-3943  london office p: 207-780-6677 f:  207-676-8650       joseph p. mallaney   todd c. lunstead michael dann jonathan proctor andrew proctor michael juliano devon dinneen jamie ball graham phillipsindex + 34,587140,287net com   net ls com -delaware$400 $300(trade at settlement) 7,178 -25,5890open interest  ~    new  york  spreads    ~  friday, february 26, 2016 474,643cocoa market report open interest  3,473,393 oi nr - com + 149,621 37,421-35,051 13,374 22,072mng $ netnet ls114,570 oi 290,53232,998 23,368 165,876236,692 290,5338740 9,034valid certs0.7130 1.407813365.0 4.2070$130 2.15    albany hampton roads68.82 6.539 baltimore totalkey rates dateldn volumes n.y. volumes  ~    london  spreads    ~  suprt & res. ice tas volumes net chng.12-feb-16 2,874 $260 $110 0.80 may6 new york 350,168 26-feb-16 4,280 3,537,343 what started as a relatively tame session morphed into an increasing typical and violent swing in  which cocoa prices plunged 1.4% in london and 2.0% in new york on good volumes.  headlinesfrom the icco, which forecasted a 113,000 mt deficit for 2015/16, certainly did not justify the  declines that seem to occur, in both directions, with little explanation, logic or fundamental support. while arguments can be made for both higher and lower prices, the interim gyrations over the past month that have surged volatility and expanded exchange margins remain nearly impossible to explain on a day-to-day basis.  for today’s price activity, one can argue an explicit defense of the 50-day moving average in new york or perhaps an unwind of a large delta hedge imbedded within a sizable options trade transacted in london.  that trade involved 4,600 dec16 2150-2350 calls spreads  vs. the 2000 puts laid up with a 50 delta and futures at 2150.  either way, on the week, prices i n  london were still up 4.5% - closing above the 100 and 200 day moving averages and fending off a cross of the stochastics.  those gains were assisted by a sharp decline in sterling that fell roughly 500  points against the dollar this week from 144 to 139 primarily on brexit concerns.  in new york, weekly gains tallied to 1.8% as prices continue to move erratically within a well-defined uptrend.commitments data from the cftc showed a nearly 5,000 lot increase in net speculative length with  the largest component of that gain sourced from short covering in the large speculator category as  prices rallied $65 over the reporting period.  nevertheless, the gross short in this segment still sits more than 50% above levels at the close of 2015.  monday’s main and early focus will be on the  mar16 london options expiration that roll off th e board at noon local time.  today’s drop moved  prices nearest the 2150 line where open interest is still an approximate 4,000 contracts but less than half that of either the 2100 or 2200 lines.  have a good weekend. ',\n",
       " 'date of report: 160217; report content: email your replies to newedgecocoa@newedge.com       new york office p:  212-278-4836 f:  212 262-3943  london office p: 207-780-6677 f:  207-676-8650       joseph p. mallaney   todd c. lunstead michael dann jonathan proctor andrew proctor michael juliano devon dinneen jamie ball graham phillipsindex + 35,182131,983net com   net ls com -delaware$400 $300(trade at settlement) 7,178 -23,2010open interest  ~    new  york  spreads    ~  wednesday, february 17, 2016 471,453cocoa market report open interest  3,208,011 oi nr - com + 139,412 38,569-32,953 11,804 20,954mng $ netnet ls106,459 oi 278,92531,454 21,706 155,184225,354 278,9259100 9,517valid certs0.7169 1.405513505.0 4.2125$130 2.15    albany hampton roads68.31 6.527 baltimore totalkey rates dateldn volumes n.y. volumes  ~    london  spreads    ~  suprt & res. ice tas volumes net chng.12-feb-16 2,874 -51,659$260 $110 0.80 may6 new york 322,978 17-feb-16 4,280 3,542,447      after trading on both sides of unchanged for the first 2/3rds of the session, prices in london surged higher after electin g stops above the recent high, 2080 basis the second position.  after crossing this level, futures gained £30 in the subsequent 20 minutes yet gave it all back before another round of market on close buying carried prices in the final minutes, yielding yet another extremely volatile performance.  with prices charting a £55 range, volumes were up significantly from the pas t two days netting nearly 46,000 contracts inclusive of nearly 18,000 spreads with activity increasing on the spot contract now that new york is in delivery.  technical flows were not the only consideration in today’s dealings with the ccc releasing an official arrivals data from the ivory coast.  through january, 1,079,412 mts reached the country’s two main ports comparted to 1,080,360 mts in the same period last season – a marginal difference but impressive given the fact that the2014/15 harvest was a record crop.  the government’s figure was approximately 16,400 mts higher than previous estimatesby local exporters – again, a marginal difference but perhaps kept prices contained in early trading.  for january in isolation , total tonnages were 219,591 compared to 229,059 last season matching the trend reported by exporters that is expected to continue should the reported production impairments due to the strong harmattan materialize.       in new york, system related selling appeared on the official open quickly driving the market into negative territory eventually breaking through 2820 basis may16, the previous day’s low.  trade related buyers joined the fray soon after  preventing further slippage as the market neared the psychological support level of 2800 basis may16.  this sell off proved to be short lived as spillover buying from the greater commodity complex initiated a bevy of technical buy stops being elected above 2860 basis may16 creating a buying vacuum.  the market rallied 30 points in less than a minute on over 1600lots of volume eventually penetrating 2900 basis may16 and touching upon 3½ week highs.  the reuters jefferies crb index rallied 2.3% largely due to a surge in oil prices after positive comments made by iran’s oil minister in relation to the pact struck by qatar, saudi arabia, venezuela, and russia to limit oil production.  this renewed risk appetite was also seen in the equities markets as the s&p 500 and ftse rallied, 1.59% and 1.65% respectively.  although macro related buying played a key role in today’s rally, the growing large gross short spec position (38,881 lots) continues to exacerbate these rallies to the upside with short covering.  it should be noted that in the post settlement trading session, a steady barrage o f commercial selling erased the vast majority of today’s gains leaving the market up a mere 27 points basis may16 and thelondon market due more than £10 lower. ',\n",
       " 'date of report: 160224; report content: email your replies to newedgecocoa@newedge.com       new york office p:  212-278-4836 f:  212 262-3943  london office p: 207-780-6677 f:  207-676-8650       joseph p. mallaney   todd c. lunstead michael dann jonathan proctor andrew proctor michael juliano devon dinneen jamie ball graham phillipsdateldn volumes n.y. volumes  ~    london  spreads    ~  suprt & res. ice tas volumes net chng.12-feb-16 2,874 4,081$260 $110 0.80 may6 new york 343,080 24-feb-16 4,280 3,537,343valid certs0.7177 1.406013405.0 4.2150$130 2.15    albany hampton roads68.53 6.529 baltimore totalkey rates 227,359 280,3478523 8,835 37,421-30,617 9,978 22,072mng $ netnet ls109,931 oi 280,34629,520 19,956 155,615$400 $300(trade at settlement) 7,178 -21,2170open interest  ~    new  york  spreads    ~  wednesday, february 24, 2016 474,643cocoa market report open interest  3,182,805 oi nr - com + 140,548 index + 33,825134,398net com   net ls com -delaware      with the pound finally breaking through the 140 level vs the dollar and depreciating more than 100-points beyond that, prices in london were firm out the gate gapping 8-tics higher on the open and setting the stage fo r  another strong performance.  technical factors also helped  accelerated the market as prices chewed through both the  100 and 200 day moving averages as well as the 50% retracement level of the latest peak to trough £541 swing.  on  the day, futures netted gains of more than 2.3% and have ra llied more than 8% month to date.  surprisingly year to  date losses have been pared down to less than 3% thanks in part to the weakening sterling.  with little changed on  the fundamental landscape, extrinsic fact ors continue to lend a heavy hand to market direction, a trend that is  unlikely to decouple despite cocoa’s legacy of being the anti-commodity.  with mar16 options expiring on monday,the market now appears to be reaching for the 2200 line where more than 11,000 options remain open – a truly massive number this given how little time remains on these contracts but hardly a standout figure when you scan up  and down the sheets.  as of today’s close, nearly 52,000 mar16 options rest in the money while a trip north of 2200 would eclipse the open interest in front month futures.  either way, next week should close out a colossal chunk o f the spot position and potentially have  a major impact on the spread.       after starting the session in nega tive territory due to the fx adjustment , futures in new york were yanked highe r  behind the strength and technical momentum generated abroad.  for the most part, futures remain entrenched in a  well-defined uptrend channel that has been in place since the beginning of the month.  at face value that may pointto stability, however, the r oughly 140-point spread between the upper and lower bounds seemingly gets cycled  through regularly keeping implied volatility in the options space relatively firm.  speaking of, some noteworth y  transactions were conducted in that en vironment that appeared to have a negative market bias with 5,000 jul16 2400  puts trading live between 15 and 16 points and 1,000 may16 2800-2650 1x2 puts spreads also trading withou t  hedge.  in addition, a large handful of may16 tiny puts and put spreads also changed hands.  on a final note, i n response to all the volatility, the exchange raised margin  requirements on cocoa for the second time this month and  fourth time this year.  keep your seat belts buckled. ',\n",
       " 'date of report: 160209; report content: email your replies to newedgecocoa@newedge.com       new york office p:  212-278-4836 f:  212 262-3943  london office p: 207-780-6677 f:  207-676-8650       joseph p. mallaney   todd c. lunstead michael dann jonathan proctor andrew proctor michael juliano devon dinneen jamie ball graham phillipsindex + 37,635137,689net com   net ls com -delaware$413 $300(trade at settlement) 7,178 -24,9210open interest  ~    new  york  spreads    ~  tuesday, february 09, 2016 394,085cocoa market report open interest  3,309,157 oi nr - com + 142,417 36,384-38,029 12,773 22,249mng $ netnet ls104,388 oi 308,27936,082 22,876 162,610239,603 308,2799256 9,544valid certs0.7078 1.396213602.0 4.1550$125 2.13    alban y hampton roads67.88 6.571 baltimore totalkey rates dateldn volumes n.y. volumes  ~    london  spreads    ~  suprt & res. ice tas volumes net chng.05-feb-16 2,767 -10,028$263 $110 0.85 may6 new york 303,051 9-feb-16 4,280 3,623,666      in london, prices bounced around a relatively tame  50-plus point range to chart the first “inside day” in thirty-two consecutive sessions.  encountering technical selling from the onset, prices were soft in the early morning dealings tumbling nearly 40 poi nts in  the first two hour of trading.  basis the second position, the 2075 area has been a key resistance point in 4 out of the last 7 sessions increasing the likelihood that a close above this level, if possible, would be constructive.  nevertheless, futures shrugged of f headlines that centered on ghana and the potential drawdown in production due to the exceptionally strong and dry harmattan, printing ne w  intraday lows as the story hit the tapes.  according to the article, and an unnamed government source, output from worlds the s econ d  largest producer may tally to mere 750 tmts - a nominal bump from last season’s disappointing harvest.  again, these numbers we re  unofficial but mirrored the worries and reoccurring headlines that have primarily focused on the ivory coast.  also concerning ghana, like many economies, the plunge in oil prices has destabilized local budgets leading to potential funding shortfalls.  though n o correlation was made to cocoa, two years ago government official s cut fertilizer subsidies and distributions leading, in part, to material  output changes – hopefully the lesson has been learned and allocations that support the industry will go unscathed.       after an unusual spike higher yesterday, cocoa in the u.s. market returned to its new found form and traded in a very vola tile range today; ending marginally lower on another bout of speculative, fund and cta-related selling.  today, all fingers point to what we’ll call the goldman effect which was all about comments made by leading analysts there that commodities, and in particular metals and  oil, will continue to underperform amidst fears and the usual prognostications about subdued global economic growth and a slugg ish  chinese economy.  oil (wti), they said, was test to test the $18-20 per barrel region from its current $30 level before recover ing, perhaps, not until late 2016 or even next year.  not surprisingly, this set off a deluge of selling across the entire commodity  space as a whole around mid-morning u.s. time which cocoa, also unsurprisingly, was initially happy to oblige. at its nadir today, cocoa w as down a rather surprising $73, or 2.5% which in fact coincided reasonably with both the timing of the goldman comments and the fallout or the beginning of the fallout in a number of other markets today.  while cocoa staged an interesting partial recovery  by the close, the gains were limited and influenced by the fact that each of the major commodity price indices remained squarely on th eir heels.  the main point here, of course, is that the macro, and the macro as presented in the newswires on a daily basis, contin ues to influence money flows which remain the dominant force in cocoa and across the broader commodity landscape as a whole.  as fo r  cocoa itself, despite all the volume (another 59k today) and volatility, it was actually a technically irrelevant session as best exemplified by the fact that it was an inside day (lower high/higher low.)  one could actually re-read yesterday’s comments for  a bit o f  cocoa specific analysis as the other feature today was the continue d demise of the spot mar6/may6.  things only accelerated the re  today as nearly 15k lots traded to as much as a $24 discount today under both heavy liquidation pressure from specs and indexes  alike and the seemingly underlying desire by the stockholders to have the market carry their nearly 26k tonnes of largely unwanted ce rtified  stock.  have a good evening. ',\n",
       " \"date of report: 160211; report content: email your replies to newedgecocoa@newe dge.com       new york office p:  212-278-4836 f:  212 262-3943  london office p: 207-780-6677 f:  207-676-8650       joseph p. mallaney   todd c. lunstead michael dann jonathan proctor andrew proctor michael juliano devon dinneen jamie ball graham phillipsdateldn volumes n.y. volumes  ~    london  spreads    ~  suprt & res. ice tas volumes net chng.05-feb-16 2,767 -3,482$263 $110 0.85 may6 new york 309,317 11-feb-16 4,280 3,608,967valid certs0.7088 1.388413460.0 4.1350$125 2.13    albany hampton roads68.43 6.571 baltimore totalkey rates 239,603 308,2799256 9,544 36,384-38,029 12,773 22,249mng $ netnet ls104,388 oi 308,27936,082 22,876 162,610$413 $300(trade at settlement) 7,178 -24,9210open interest  ~    new  york  spreads    ~  thursday, february 11, 2016 398,874cocoa market report open interest  3,288,192 oi nr - com + 142,417 index + 37,635137,689net com   net ls com -delaware      another flogging of the global risk markets sent cocoa prices tumbling to the tune of 1.7% in london and 1.9%  in new york.  regarding the former, yesterday's quintuple failure at the tried and tested recent highs helped positio n  futures independent lower as technical sellers were present on the opening bell. while a £35 move has become the  norm as of late, another retracement back into the heart of the recent range triggered a mass implosion of implied  volatility within the options space.  on a settlement to settlement basis, at the money mar16 and may16 vols fell  195 and 75 basis points with similar adjustments noted all the way down the curve - which all happened despite  another full standard deviation move in futures.  yesterday's trading of the jul16 and sep16 three-ways returned a  healthy amount of vega to the market while scaled down dealings on near at the money and shorter dated calls  helped push premiums lower.  nevertheless, since prices peaked in early-december implied vols are still up roughly 650 basis points, and more from the recent nadir, but still trading below  15 and 30 period realized levels.  one other  curious feature this week has been the continued strength of differed structure.  with mar16 moving to its own delivery influenced bias, the may16/may17 spread has gained £24 since friday and £36 since the beginning of the  month.  without obvious forward hedging, back month volumes have been uninspired and 2017 arbitrage positions trade at ambivalent levels,  concerns over the tail end of the crop have likely been the dominant influence.       in new york, a steady barrage of commercial and system related selling appeared from the onset quickly driving the market into negative territory. after penetrating the psychological support level 2800 basis may16, a quick burst of system related short covering propelled the market 40 points higher.  at the tail end of the session, spillover  selling from the greater commodity complex brought the market back to the lows of the day as the reuters jefferies crb index closed 138 points lower. with first notice day fast approaching and 13, 853 lots still open in mar16, nearby structure remains a central focus.  the path of least of least resistance continues to be lower in  mar16/may16 as it moves further into contango trading as low as 38 discount while may16/july16 remains  steadfast closing at 3 premium.  after accounting for today’s activity open interest should be around 7k to 8k i n mar16. it should be noted that first notice day is on tuesday, february 16th, so tomorrow will be the last trading da y  before fnd as monday the market is closed in the u.s. due to holiday. \",\n",
       " 'date of report: 160218; report content: email your replies to newedgecocoa@newedge.com       new york office p:  212-278-4836 f:  212 262-3943  london office p: 207-780-6677 f:  207-676-8650       joseph p. mallaney   todd c. lunstead michael dann jonathan proctor andrew proctor michael juliano devon dinneen jamie ball graham phillipsdateldn volumes n.y. volumes  ~    london  spreads    ~  suprt & res. ice tas volumes net chng.12-feb-16 2,874 -27,585$260 $110 0.80 may6 new york 322,153 18-feb-16 4,280 3,514,862valid certs0.7137 1.404313490.0 4.1600$130 2.15    albany hampton roads68.54 6.516 baltimore totalkey rates 225,354 278,9259100 9,517 38,569-32,953 11,804 20,954mng $ netnet ls106,459 oi 278,92531,454 21,706 155,184$400 $300(trade at settlement) 7,178 -23,2010open interest  ~    new  york  spreads    ~  thursday, february 18, 2016 471,453cocoa market report open interest  3,181,251 oi nr - com + 139,412 index + 35,182131,983net com   net ls com -delaware      after a seemingly quiet start to the session, prices  in london resurrected momentum off yesterday’s technical  breakout to rally more than 1.3% in good volume.  with the chart looking constructive, prices accelerated through  the 38% retracement level of the latest, and massive, £350+ peak to trough decline.  the next key resistance points reside up near 2150 basis the second month continuation chart, which coincides with both the 50% retracement o f  the aforementioned range as well as the 200 day moving average.  the 50-day moving average sits just beneath  those levels that could create another speed bump should  prices continue higher.  of course macro-economic  headwinds could easily derail this projection, however, a firming structure - may16/may17 moved £12 higher today alone - served as another fundamental indicator that the path of least resistance remains to the upside.  though arbitrage values narrowed slightly on the back end of the curve, dealings in the 2017 positions remained thin relative  to the more than 40,000 contracts that changed hands toda y suggesting the recent rally has yet to arouse any material  forward hedging.  options activity was brisk led by the trading of more than 2,500 mar16 2100-2200 call spreads, two strikes that have more than 8,000 lots open in each with 11 days to expiration.  other noteworthy transactionsincluded nearly 2,000 may16 2150-2350 call spreads vs the 2000 puts, 1,200 may16 2250-1900 fences and 1,000 jul16 2050 puts – all of which traded laid up.      in new york, fresh discretionary fund buying was seen on the official open quickly penetrating the psychological resistance level of 2900 basis may16 eventually breaking through 2915 the previous day’s high.  a steady barrage o f  commercial selling soon ensued preventing further upside momentum for the duration of the trading session despiteanother tranche of fund buying on the close. similar to  yesterday in the post settlement trading session, a steady barrage of system related selling erased the majority of the day’s gains as the aforementioned buyers became absen t from the marketplace.   it should also be noted the open in terest rose by 1,404 lots which is surprising considering that yesterday’s rally appeared to be a short covering event.  it was a usually quiet day in the greater commodity complex as the reuters jefferies crb index closed 65 points lower. ',\n",
       " 'date of report: 160219; report content: email your replies to newedgecocoa@newedge.com       new york office p:  212-278-4836 f:  212 262-3943  london office p: 207-780-6677 f:  207-676-8650       joseph p. mallaney   todd c. lunstead michael dann jonathan proctor andrew proctor michael juliano devon dinneen jamie ball graham phillipsdateldn volumes n.y. volumes  ~    london  spreads    ~  suprt & res. ice tas volumes 322,153 18-feb-16net chng.12-feb-16 2,874 -1,625$260 $110 0.80 may6 new york 322,195 19-feb-16 4,280 3,513,237 7,178valid certs0.7122 1.405213490.0 4.2030$130 2.15    albany hampton roads68.54 6.520 baltimore totalkey rates 471,453 227,359 280,3478523 8,835-27,585 3,514,862 38,569-30,617 9,978 20,954mng $ netnet ls109,931 oi 280,34629,520 19,956 155,615$400 $300(trade at settlement) 7,178 -21,2170 4,280 0open interest  ~    new  york  spreads    ~  friday, february 19, 2016 474,643cocoa market report open interest  3,181,2513,179,584 oi nr - com + 140,548 index + 33,825134,398net com   net ls com -delaware      after staging a solid rally and technical beak out to the upside over the past two sessions, cocoa  prices tumbled in excess of 2% across the two platforms.  a retracement within the energy complex and lower global equity markets might have impeded to any early momentum, however, prices in  london were able to chart a new high for the move before spiraling lower.  on the charts, that price activity – a higher high followed by a close beneath the previous session’s lows - translated to a downside key reversal mitigating some of the technical progress prices had made this week.  nevertheless, both markets were able to hold the lower bounds of an uptrend line that has been  firmly in place since the beginning of the month .  a break below these levels should positions themarket for a retest of the recent lows.  though, as  evidenced today, this should be no easy feat as the new york market absorbed the selling, and related delta hedging, of 6,000 live may16 3100- 3300 call spreads that traded on the lows of the day.  although the spread only had a 10 to 11 delta that is still about 600+ futures traded in post sett lement dealings late on a friday.  though probabl y  unrelated, a similar strategy was observed in sugar, with 5,000 tiny may16 upside calls spreads sold.  monday’s opening remains key, as the market sits at a pivotal point between unraveling and keeping the uptrend intact.  arrivals data  probably will not be the influential factor as comparative figures slip into a season lull of 26,000 mts and taper out from there until the mid-crop.  on a final note, the cftc commitments of traders report showed large speculators continued to shed net length, almost 2,000 lots, as prices chopped around over the last reporting period. at just under 10,000 lots net long, that positon is the smallest since april of 2013.  have a good weekend.  ',\n",
       " 'date of report: 160225; report content: email your replies to newedgecocoa@newedge.com       new york office p:  212-278-4836 f:  212 262-3943  london office p: 207-780-6677 f:  207-676-8650       joseph p. mallaney   todd c. lunstead michael dann jonathan proctor andrew proctor michael juliano devon dinneen jamie ball graham phillipsindex + 33,825134,398net com   net ls com -delaware$400 $300(trade at settlement) 7,178 -21,2170open interest  ~    new  york  spreads    ~  thursday, february 25, 2016 474,643cocoa market report open interest  3,340,839 oi nr - com + 140,548 37,421-30,617 9,978 22,072mng $ netnet ls109,931 oi 280,34629,520 19,956 155,615227,359 280,3478523 8,835valid certs0.7197 1.402913406.0 4.2160$130 2.15    albany hampton roads68.84 6.532 baltimore totalkey rates dateldn volumes n.y. volumes  ~    london  spreads    ~  suprt & res. ice tas volumes net chng.12-feb-16 2,874 $260 $110 0.80 may6 new york 335,294 25-feb-16 4,280 3,537,343      in london, with the 50, 100, and 200 day moving averages all severely penetrated technical buyers were seen from the onset eventually penetrating the psychological resistance of 2200 basis may16.  currency related buyers provided the additional leg higher due to a weaker pound eventually touching the highs of earl y january.  sterling traded near 7 year lows, as it was on pace for the heaviest fall since 2009 over concerns thepossible british exit from the european union.  at the tail  end of the session, arbitrage selling as result of a currency bounce and origin hedging erased some of the previous gains. it should also be noted the uptick in volume in mar17 over the course of week (11,995lot) indicative of west african selling.  options expiration, and the hedging and trading around the massive opening inte rest still present in the mar16 contract, will remain  a central theme over the next session and a half.  at current, the markets feels poised to pin the 2200 strike, however, in this volatile environment anything is possible.        while the official close revealed a gain of 18 points on the day, another suspicious post settlement sell off in  new york left prices virtually unchanged on the day.  while the late dip occurred under thin volume, the  pattern was prevalent yesterday as well as on wednesday, thursday and friday of last week.  nevertheless,  prices continue to appreciate maintaining a well-defined  uptrend that has been in place since the beginning o f  the month.  further, these late declines seem to have limited bearing on the london market’s opening despite  the negative £11 call warranted by today’s price activity.  even as prices rallied, which essentially happened i n one major 25-point spurt straddling the “official” 8 am opening, may16 structure softened throughout the da y relinquishing some of the gains achieved over the past two weeks.  even so, the still inverted structure, trending  market, and stabilizing equity and energy complexes should provide the optimum conditions for systems to  maintain a long bias going forward.  however, one trouble could be the excessive volatility, which makes it hard to hold any position whether right or wrong, and another, the seasonal tendency for prices to decline i n  march.  have a good evening. ',\n",
       " 'date of report: 160222; report content: email your replies to newedgecocoa@newedge.com       new york office p:  212-278-4836 f:  212 262-3943  london office p: 207-780-6677 f:  207-676-8650       joseph p. mallaney   todd c. lunstead michael dann jonathan proctor andrew proctor michael juliano devon dinneen jamie ball graham phillipsindex + 33,825134,398net com   net ls com -delaware$400 $300(trade at settlement) 7,178 -21,2170open interest  ~    new  york  spreads    ~  monday, february 22, 2016 474,643cocoa market report open interest  3,149,083 oi nr - com + 140,548 37,421-30,617 9,978 22,072mng $ netnet ls109,931 oi 280,34629,520 19,956 155,615227,359 280,3478523 8,835valid certs0.7241 1.399113435.0 4.1940$130 2.15    albany hampton roads68.53 6.520 baltimore totalkey rates dateldn volumes n.y. volumes  ~    london  spreads    ~  suprt & res. ice tas volumes net chng.12-feb-16 2,874 -18,014$260 $110 0.80 may6 new york 334,682 22-feb-16 4,280 3,495,223      undoubtedly the sizable downward decline in sterling, which traded to a seven year low against the dollar behind growing political momentum to break ties with the european  union, helped cocoa prices in london gain more than 2.2% - erasing all of friday’s losses and allowing prices to trade to a new high for the recent move.  all things equal,  one could attribute £40 of today’s advance to the fx component while a general rebound in risk appetite across the globe might be written off for the remainder.  however, the market continues to trade, albeit volatilely, within a well- defined uptrend with west african output in a seasonal lull and forward hedging scant.  speaking of output, ivoryarrivals for the week ending february 21 st were estimated at 26,000 mts, matching comparative data from last season. on a cumulative basis, arrivals stand at 1.173 mmts versus 1.188 during the record harvest cultivated last season – a  rounding error differential and still an impressive figure thus far given all the weather concerns that may still impact  midcrop out.  the later worries may be responsible for the resurgent back end structure as sep16/mar17 closed at a  fresh life of contract high, £69 premium.  commitments data was essential a moot point as the reporting period failedto capture the upside breakout and little net movement in futures.  the managed money category netted a 1,148 lo t reduction in length keeping positons approximately 60% off their recent peak.    in new york, after gapping 17 points lower on the open a steady stream of discretionary fund and macro related buying played the lead role in propelling the market into positive territory.   fresh discretionary buying was seen  from the onset quickly pushing the market into higher  ground.  commercial relate d and dollar related selling  prevented the market from further gains above 2900 basis may16 despite an influx of macro related buying.    the greater commodity complex continues to play a role in price movement as spillover buying buoyed the market for the majority of the session. the reuters jefferies crb index finished 2% higher largely due to a surge in oil prices on concerns of an accelerated decline in u.s. oil production.  in structure activity, may16/july16 moved further into backwardation during the flat price rally closing at 7 premium and in unusually high volume as close to 13,000 lots exchanged hands.  it was a quiet day in the options arena, the main highlight included: 500 may16 3200/3500 call spreads trading 15 basis 2863.  it should be noted, that open interest in the may16 3100 and 3300 calls were reduced  by 5,449 and 4,229 lots respectively which appears to be liquidation as a result of the 6,000 may16 3100/3300 call spreads that traded on friday. ',\n",
       " 'date of report: 160202; report content: email your replies to newedgecocoa@newe dge.com       new york office p:  212-278-4836 f:  212 262-3943  london office p: 207-780-6677 f:  207-676-8650       joseph p. mallaney   todd c. lunstead michael dann jonat han proctor andrew proctor michael juliano devon dinneen jamie ball graham phillipsdateldn volumes n.y. volumes  ~    london  spreads    ~  suprt & res. ice tas volumes net chng.29-jan-16 2,767 -15,063$270 $120 0.85 may6 new york 286,551 2-feb-16 4,280 3,441,871valid certs0.7055 1.427013680.0 4.2050$110 2.14    albany hampton roads67.93 6.580 baltimore totalkey rates 236,396 304,0538993 9,254 43,339-40,340 17,790 24,761mng $ netnet ls106,355 oi 304,05338,686 27,740 167,594$400 $300(trade at settlement) 7,178 -29,6570open interest  ~    new  york  spreads    ~  tuesday, february 02, 2016 333,624cocoa market report open interest  3,143,862 oi nr - com + 146,695 index + 30,978137,937net com   net ls com -delaware      clearly newton was observing cocoa futures when he termed the old adage “what goes up must come down.” and down prices came with each market shedding approximately 3.6% erasing yesterday’s rally in new yor k  literally to the dollar and usurping previous gains in london by a hefty £25.  possible triggers for today’s  retracement might have been the surprising 6,000 lot increase in open interest in london that undermined nearly all  assumptions that the rally was fueled at least in part by short covering.  either new length was added or shorts  remained astoundingly undaunted by the price action selling aggressively into the rally and presumably continuing to do so today.  further, the negative macro environment could not be ignored with the energy and equity complexes each falling sharply.  the correlation was explicitly evident in today’s session with the 9:30 estopening of the us stock markets corresponding to a $40 plunge in new york in the subsequent two minutes – the  steepest of the intraday declines.  coffee and sugar experienced similar patterns as well but the net result was a  mere blip for those markets whereas cocoa continued to struggle.  newswires remained focused on the strength o f  the harmattan and the potential impact on the ivorian mid-crop, which according to the article, could contract as  much as 40%.  while arrivals and purchase data do not suggest any supply interruptions to date, should those forecasts come to fruition and reverberate through ghana as well, the latest price activity could yield a potentialbear trap for all the recently added shorts.  if not, the market is likely facing another balanced to positive s&d for  2015/16 essentially mirroring the last two crop years.  either way, market volatility remains epic with prices not  trading with this level of variability, returning about 27 and 29.5 percent on a 30 day basis in london and newyork respectively, since the q3 of 2012.  even more perplexing, at the money implieds in the options market are  currently trading under realized volatility, which is not unprecedented but certainly a rarity with the last occurrence of any substance observed in early 2012 when the market was trying to find its footing following the massive post-civil war/embargo sell off.  at minimums, it is fairly remarkably that current market conditions are being  contrasted against that historic backdrop.  have a good evening. ',\n",
       " 'date of report: 160208; report content: email your replies to newedgecocoa@newedge.com       new york office p:  212-278-4836 f:  212 262-3943  london office p: 207-780-6677 f:  207-676-8650       joseph p. mallaney   todd c. lunstead michael dann jonathan proctor andrew proctor michael juliano devon dinneen jamie ball graham phillipsdateldn volumes n.y. volumes  ~    london  spreads    ~  suprt & res. ice tas volumes net chng.05-feb-16 2,767 208,172$263 $110 0.85 may6 new york 296,880 8-feb-16 4,280 3,633,694valid certs0.7094 1.404513620.0 4.1550$125 2.13    alban y hampton roads67.98 6.571 baltimore totalkey rates 239,603 308,2799256 9,544 36,384-38,029 12,773 22,249mng $ netnet ls104,388 oi 308,27936,082 22,876 162,610$413 $300(trade at settlement) 7,178 -24,9210open interest  ~    new  york  spreads    ~  monday, february 08, 2016 379,818cocoa market report open interest  3,325,356 oi nr - com + 142,417 index + 37,635137,689net com   net ls com -delaware      despite another dismal performance across the macro backdrop, cocoa futures surged higher with gains in london tallying to more than 3.3% for two day gains on £92.  on that side of the pond, a few catalysts worked in conjunction to foster another explosive trading environment.  first, sterling traded steeply lower against the euro, down 0.76% close to  close and hitting a 13-month low, as boe commentary last week and uncertainty about britain’s fate in the european union wreaked havoc on the local currency.  second, ivory arrivals for the week ending february 7th were estimated at 41,000 mts  slightly lower than the 48,000 mts recorded in the corresponding period last season.  on a cumulative basis, this season’s  harvest was running 37,000 mts behind the 2014/15 record harvest – 1.104 versus 1.141 mmts.  next, commitments data from the exchange showed a nearly 17,000 lot reduction in net speculative length aided largely in part by a 9,000 lot no t  negative from swap dealer category.  the managed money sector liquidated almost 5,500 lots of gross length, trimming net holdings to the smallest level since april of 2013.  last but not least, another headline voiced concern over dry weather in  the ivory coast and the potential damage done to the mid-crop breathing additional life into the risk premiums.       the u.s. market also obviously caught a nice bid today although it seemingly only went along for the ride today on the back of the aforementioned cot changes that london saw.  indigenous oversold conditions didn’t hurt again however, as  the aggressive bear traders who have so dominated cocoa trading of late were notably conspicuous in their absence.  as such, the active may6 contract was allowed to rally nearly $90 today or more than 3% on a high-volume combination o f  speculative, fund, trade and options related buying.  the trading volume was eye-opening again at nearly 74k lots today  although more than 31k spreads heavily bolstered the overall final turnover.  by most accounts, the fact that the flat price  market rallied as much as it did today was impressive for two reasons.  first, the macroeconomic environment was by no means accommodating as the global equity markets and oil once again spent the majority of the day on their knees in the face of general global growth concerns.  second, the behavior of the spot month spread continued to suggest anything and everything but a tight cash market as mar6/may6 traded to a new low of a $14 discount in very significant volume of nearly 18k lots.  yes, we’re in the midst of the index rollover period but it should be remembered that the index length, although  mysteriously larger after last week, remains comparatively small on a net basis as a direct function of relatively depressed environment for commodity-based investing.  as such, with nearby cash market differentials still weak, the weakness in the spot month spread is, perhaps, behaving as a true economic indicator of either unwanted stock or the desire on behalf of the  stockholders to have the market carry it for them.  either way, structural weakness isn’t particularly beholden of asustainable bull market so let’s see if this divergent behavior ultimately catches up with one of them.  have a good evening.',\n",
       " 'date of report: 160216; report content: email your replies to newedgecocoa@newedge.com       new york office p:  212-278-4836 f:  212 262-3943  london office p: 207-780-6677 f:  207-676-8650       joseph p. mallaney   todd c. lunstead michael dann jonathan proctor andrew proctor michael juliano devon dinneen jamie ball graham phillipsindex + 35,182131,983net com   net ls com -delaware$400 $300(trade at settlement) 7,178 -23,2010open interest  ~    new  york  spreads    ~  tuesday, february 16, 2016 459,037cocoa market report open interest  3,266,723 oi nr - com + 139,412 38,569-32,953 11,804 20,954mng $ netnet ls106,459 oi 278,92531,454 21,706 155,184225,354 278,9259100 9,517valid certs0.7098 1.405013395.0 4.1500$130 2.15    albany hampton roads68.47 6.515 baltimore totalkey rates dateldn volumes n.y. volumes  ~    london  spreads    ~  suprt & res. ice tas volumes net chng.12-feb-16 2,874 9,346$260 $110 0.80 may6 new york 315,925 16-feb-16 4,280 3,594,106      following yesterday’s failed break out to the upside, prices in london slipped back into the confines of their  recent range trading under good volume.  a late push into new intraday highs yielded the only potential spark, yet at this juncture it feels as if a close above 2100, basis th e second potion, would be required to generate any follo w  though interest or material short covering  as prices continue to coil.  weakne ss in sterling, which fell steeply against  both the dollar and the euro on lower inflation expectations and uncertainty about the uk’s future within the eu, helped keep prices near the upper limits of the recent trading band and safety above a short term uptrend line tha t has been in place since the beginning of the month.  external influences continue to carry much weight as a seasonal  lull in arrivals and dry weather reports feel priced ge nerating limited reactions.  th e uninspired trading activity  continue to put downward pressures on options premiums with implied volatilities contracting further from multi- month highs established just last week.  though trading in these secondary derivatives was relatively light, the more  meaty may16 options were in about 1.5 percentage points since over the last few days tracking a downturn in the  futures variability.  should prices remain stable, this  erosion should only accelerate leading into the mar16  expiration at the end of the month were a massive 45,000 contracts remain open just between the 2100 and 2000 strikes.       new york saw an initial bout of selling which was mainly  and adjustment to london’s settlement the previous day.  after penetrating the 2833 basis may16, the 20 day moving average value based buyers joined the fra y preventing further slippage fo r the duration of the trading session.  on the close, a minor battle between technical  sellers and trade related buyers failed to gain traction in either di rection. it should be no ted there was minor spillover from the greater commodity complex as the reuters jefferies crb index closed 150 points lower.   in structure  activity, may16/july16 remains in a minor inversion closing at 1 premium while mar16/may16 has become rapidl y illiquid as expected with first notice day and 1,794 lots still open in mar16. ',\n",
       " 'date of report: 160223; report content: email your replies to newedgecocoa@newedge.com       new york office p:  212-278-4836 f:  212 262-3943  london office p: 207-780-6677 f:  207-676-8650       joseph p. mallaney   todd c. lunstead michael dann jonathan proctor andrew proctor michael juliano devon dinneen jamie ball graham phillipsdateldn volumes n.y. volumes  ~    london  spreads    ~  suprt & res. ice tas volumes net chng.12-feb-16 2,874 38,039$260 $110 0.80 may6 new york 344,262 23-feb-16 4,280 3,533,262valid certs0.7210 1.407913420.0 4.1980$130 2.15    albany hampton roads68.55 6.526 baltimore totalkey rates 227,359 280,3478523 8,835 37,421-30,617 9,978 22,072mng $ netnet ls109,931 oi 280,34629,520 19,956 155,615$400 $300(trade at settlement) 7,178 -21,2170open interest  ~    new  york  spreads    ~  tuesday, february 23, 2016 474,643cocoa market report open interest  3,177,542 oi nr - com + 140,548 index + 33,825134,398net com   net ls com -delaware      in london, prices built on yesterday’s strength to establish and close at a new high for the recent move unde r  good volume.  once again, currency played a role with the pound testing the 1.40 level against the dollar and was  off more than a ½ percent on a close to close basis.  brexit concerns and a retracement lower within the global equity and energy markets added an element of volatility to the session as prices charted a near £50 range in the last  hour of trading.  speaking of late trading, more than 2,600 mar16/may16 changed hands in the five minute post  settlement window dropping the front month spread from a closing values of -13 down to a new intraday day low o f  -16.  curiously, but to a lesser extent, the same pattern was observed yesterday on approximately 1,400 lots that  widened the same spread from -13 out to -17.  newswires were plush with information today spanning from a recall by one branded confectioner, estimates for a nearly 130,000 mt deficit for the current year from a major chocolatemanufacturer, high rejection rates due to the low quality of cocoa reaching ports in the ivory coast and a  purchase figure from the bank of ghana.  regarding the later, the central bank stated production had reached 573,734 mts in the first 14 weeks of the season compared to 451,116 mts in the same period a year prior.  with a hefty increase ove r  last year, the data fell in line to slightly above unofficial figures published a month ago that stated purchase had  reached 590,000 mts through january 14th, 15 weeks into the season.       in new york, system related sellers were seen from the onset eventually electing multiple sell stops below 2880 basis may16 creating a selling vacuum. this rally proved to be short-lived as a heavy bout of discretionary fund  buying quickly erased the previous losses.   spillover selli ng from the greater commodity complex prevented further upside momentum above 2900 basis may16 for the duration of the trading session despite another tranche o f discretionary fund buying. the reuters jefferies crb index closed 202 points lower and remains well below the  march 2009 lows.  it should be noted, the cit index position ,perhaps the best measure of macro appetite, is also touching upon levels last seen during  the financial crisis as it currently st ands at 13,749 lots,  the lowest amoun t  since december 2008.  in the options arena, upside calls in may16 and sep16 garnered the most attention as 550 may16 3100 calls traded 37-38 basis 2892, 900 may 3200 calls traded 37-38 basis 2890, and a total of 4,250 sep16  call spreads with strike combinations ranging from 3100 to 3500. ',\n",
       " 'date of report: 160201; report content: email your replies to newedgecocoa@newe dge.com       new york office p:  212-278-4836 f:  212 262-3943  london office p: 207-780-6677 f:  207-676-8650       joseph p. mallaney   todd c. lunstead michael dann jonat han proctor andrew proctor michael juliano devon dinneen jamie ball graham phillipsindex + 30,978137,937net com   net ls com -delaware$400 $300(trade at settlement) 7,178 -29,6570open interest  ~    new  york  spreads    ~  monday, february 01, 2016 328,270cocoa market report open interest  3,157,153 oi nr - com + 146,695 43,339-40,340 17,790 24,761mng $ netnet ls106,355 oi 304,05338,686 27,740 167,594236,396 304,0538993 9,254valid certs0.7082 1.423613635.0 4.1500$110 2.14    albany hampton roads67.85 6.578 baltimore totalkey rates dateldn volumes n.y. volumes  ~    london  spreads    ~  suprt & res. ice tas volumes net chng.29-jan-16 2,767 -24,433$270 $120 0.85 may6 new york 288,323 1-feb-16 4,280 3,456,934      when compared to the gains abroad, prices in london gained a mere  2.5% on the second position as a near 200- point  advance in sterling against the dollar and 100-point rally against the euro on a close to close basis helped temper a n  otherwise explosive rally.  weekly arrivals estimates from the ivory coast posted another healthy figure, 49,000 mts fo r  the week ending january 31st compared to 48,000 mts in the corresponding week last season.  on a cumulative basis,  arrivals are running just 30,000 mts shy of last season’s record harvest at 1.063 mmts.  this might have provided a fundamentally sound reason for the market to trade lower on the opening and retest the 2000 level before finding  support.  nevertheless ongoing talk of dry weather, and its potential negative impact on the mid-crop, was on hand to counterbalance these seemingly strong weekly numbers.   commitments data from the exchange might have provided the final catalyst to turn prices higher revealing a sizable decrease in net speculative length.  over the last seven weeks, gross  longs within the managed money category have been decimated by more than 45,000 contracts and now sit at the lowes t  level in nearly a year – a point that corresponded to the 2015 market lows.  while not constructive on its own, therebound off last week’s potential double bottom, inability to trade lower, over sold conditions and the approximate £300rapid decline from the highs likely prompted short covering that only accelerated as prices moved higher.  as expected, structure was also a major beneficiary with mar16/may16 halving its level of carry to close at an eight discount.      new york rallied 3.8% due to a heavy round of system related short covering. after trading sideways for the earl y party of the session, a multitude of  buy stops were elected above the psychological resistance level of 2800 basis may16 creating a buying vacuum as the market rallied more than 70 points. at the tail end of the session, commercial sellers joined the fray preventing further upward momentum for the duration.  the market is susceptible to these short covering  events for the time being as the gross short large spec position has risen over 15,000 lots since january 5th.  although,  today’s rally percentage wise is significant it still remains well below the key moving averages with the 20 da closest onein reach, 2913 basis may16.  nearby structure also strengthened during the rally as both mar16/may16 an d july16/sep16 closed at 3 discount.  in the options arena, the two main highlights included 3,500 may16 3000/3200 callspreads trading 26 basis 2770 and 2500 may16 3100/3300 call spreads trading 22 basis 2812. ',\n",
       " 'date of report: 160212; report content: email your replies to newedgecocoa@newedge.com       new york office p:  212-278-4836 f:  212 262-3943  london office p: 207-780-6677 f:  207-676-8650       joseph p. mallaney   todd c. lunstead michael dann jonathan proctor andrew proctor michael juliano devon dinneen jamie ball graham phillipsdateldn volumes n.y. volumes  ~    london  spreads    ~  suprt & res. ice tas volumes net chng.05-feb-16 2,767 -24,207$263 $110 0.85 may6 new york 312,935 12-feb-16 4,280 3,584,760valid certs0.7097 1.395913485.0 4.1670$125 2.13    albany hampton roads68.12 6.571 baltimore totalkey rates 225,354 278,9259100 9,517 36,384-32,953 11,804 22,249mng $ netnet ls106,459 oi 278,92531,454 21,706 155,184$413 $300(trade at settlement) 7,178 -23,2010open interest  ~    new  york  spreads    ~  friday, february 12, 2016 398,874cocoa market report open interest  3,260,367 oi nr - com + 139,412 index + 35,182131,983net com   net ls com -delaware it was another high volume affair (50,723 lots)  in new york as it continues to take center stage closing 2.4%  higher due to a combination of system related short covering and spillover buying from the greater commodity complex.  system related short covering appeared on the official open electing multiple buy stops creating a buying vacuum causing the market to rally more than 50 points.  after temporarily stalling due to commercial selling, an infusion of macro related buying provided the final leg higher as the reuters jefferies crb index closed 3.5% higher.  oil led the charge in the commodities sector, as it rallied 12.3% due to speculation of  production cuts among opec members.  with first notice day on tuesday, the 16th and 8,481 lots still open in  mar16 nearby structure was also a focal point.  mar16/may16 continues to move further into contango as it traded as low as 62 discount as the path of least resistance continues to be lower.  on a final note, the cot report showed a mild decrease of 969 lots in the net large spec long position which now stands at 11,804 lots.  the index position however continues to have massive swings as it was reduced by 4,039 lots after gaining more than 7,000 lots the previous week.  london continues to operate in the shadows of the new york market closing 2.3% higher as it was also buoyed by macro related buyers and system related short covering.  with minimal west african hedging in the market, the aforementioned buyers faced minimal resistance in the  propelling into positive territory. please note that monday is a national holiday in the u.s. and ice u.s will be  closed.  ',\n",
       " 'date of report: 160229; report content: email your replies to newedgecocoa@newedge.com       new york office p:  212-278-4836 f:  212 262-3943  london office p: 207-780-6677 f:  207-676-8650       joseph p. mallaney   todd c. lunstead michael dann jonathan procto r andrew procto r michael juliano devon dinneen jamie ball graham phillipsdateldn volumes n.y. volumes  ~    london  spreads    ~  suprt & res. ice tas volumes net chng.12-feb-16 2,874 $260 $110 0.80 may6 new york 353,158 29-feb-16 4,280 3,537,343valid certs0.7145 1.405713367.0 4.2000$130 2.15    alban y hampton roads68.23 6.553 baltimore totalkey rates 43,59124,007mng $ net$400 $300(trade at settlement) 7,178 0open interest  ~    new  york  spreads    ~  monday, february 29, 2016 474,643cocoa market report open interest  3,464,015delaware      one would have to assume the options expiration in london played a key role in today’s price activity with futures  gravitating towards and trading through the 2200 line where more than 10,500  contracts, primarily calls, remained open.  in the  first hour of trading, volumes were fairly routine as futures climbed nearly £40 higher towards the strike -by days end, future s  would also print and close at a new high for the recent move.  only as the noon expiration approached did activity accelerate which, including nearly 13,000 efs’s, tallied to more than 23,000 contracts changing hands on the spot month.  this should  significantly wither the more than 51,000 spot month futures contracts still outstanding.  curiously, more options ended in the   money than there were open futures contracts potentially igniting more volatility into the front month spread leading into firs t  notice day.  one other note about the options before moving on - the expiration of the mar16 contract wiped out approximately 25% of the massive 600,000+ open contracts domiciled in the secondary derivatives space.  arrivals figures from the ivor y  coast were reported at an interesting 24,000 mts for the week ending february 28th, up from the 16,000 mts recorded in the same  period last year.  that figure helped narrow the cumulative gap to a mere 7,000 mts with seasonal tonnages for tallying to 1.19 7 million.  rainfall was said to return to the region’s main growing areas potentially alleviating some of the quality and mid-cr op  output concerns.  however, the main question still remains, at his juncture is any precipitation too little too late?       the fact that it was an inside day in the u.s. market spoke volumes today about the indecisiveness that remains so prevale nt in cocoa these days.  the trading volume was quite reasonable at nearly 35k lots how much of it was the product of considerable   spread activity and heavy day trading activity within the framework of a relatively uninteresting, albeit expanded, $77 range.  in  a sense, it was a rather bizarre session today in that without any major driving news, the market was happy to oblige theaforementioned expiry dynamics to surge higher and retest the recent highs.  all the while, it showed no regard for somethingmost people see as a major driver of late in the pound which weakened considerably against the dollar.  about the only thing that made perfect and perhaps more consistent sense today was the poor price action post close.  the fact of the matter is that  it’s a theme these days and that theme centers on the 50-day moving average.  for three consecutive sessions now, the market has tested, and even traded above the key resistance level only to be thwarted each time by a late session selloff.  seemingly, thi s mark is now simply ‘owned’ by the incremental gross speculative short that clearly still exists in the u.s. market and ashistorically proven, they will keep defending it and only stop defending it when it no longer works.  today, it looked like it was going to be a case of the third time being a charm and that we were going to see a sustained punch through it.  however postclose, it was no dice with a palpable bout of purposeful selling pushing it aggressively off the key mark and as much as $27  dollars off the official closing price.  if nothing else, validation of moving average analysis aside, it’s indeed rather inter esting to observe said behavior as it probably speaks volumes how the pure price driven players, i.e. systems and algos work and particularly so relative to a market with a sister environment (ldn) with a radically different technical profile.  what’s particularly interesting is that the incremental gross speculative short that was put on in early january seemingly has noknowledge that the london market even exists (nor cares) and that its sole universe is comprised of defined price points in theu.s. market only.  while they seem to be fighting a bit of a losing battle since late january, the war seems far from over with  yet  as evidenced again today by another obvious barrage of defensive tactics. ']"
      ]
     },
     "execution_count": 36,
     "metadata": {},
     "output_type": "execute_result"
    }
   ],
   "source": [
    "%%time\n",
    "#importing daily reports but keeping text for llm\n",
    "comments_db_full = []\n",
    "files_not_processed =[]\n",
    "for files in reports:\n",
    "    #text = extract_text(f\"../raw_data/pdf_reports/2016/{files}\", maxpages = 1)\n",
    "    reader = PdfReader(f\"../raw_data/pdf_reports/2016/{files}\")\n",
    "    page = reader.pages[0]\n",
    "    text =page.extract_text()\n",
    "    comment = text.partition(\"COT\")[2]\n",
    "    comment = comment.lower()\n",
    "    #comment = ''.join(char for char in comment if not char.isdigit())\n",
    "    #for punctuation in string.punctuation:\n",
    "    #   comment = comment.replace(punctuation, '') \n",
    "    comment = comment.replace('\\n',\" \")\n",
    "    comment = comment.split(\"         \")[-1]\n",
    "    if len(comment) < 25:\n",
    "        files_not_processed.append(files)\n",
    "    else:\n",
    "        comments_db_full.append(f\"date of report: {files.strip('.pdf')}; report content: {comment}\")\n",
    "comments_db_full"
   ]
  },
  {
   "cell_type": "code",
   "execution_count": 23,
   "id": "4b076219-e26e-4fb6-8ab5-6103f5322b40",
   "metadata": {},
   "outputs": [
    {
     "data": {
      "text/plain": [
       "'date of report: 161117; report content: email your replies to newedgecocoa@newedge.com       new york office p:  212-278-4836 f:  212 262-3943  lo ndon office p: 207-780-6677 f:  207-676-8650       joseph p. mallaney   todd c. lunstead michael dann jonathan proctor andrew proctor  michael juliano devon dinneen jamie ball graham phillips index +  33,575 141,740  net com   net ls com - delaware $400  $330 (trade at settlement)  7,178  -21,865 0open interest  ~    new  york  spreads    ~  thursday, november 17, 2016  328,009 cocoa market report  open interest  2,595,222  oi nr - com +  -1,758 7,265  mng $ net net ls oi  284,124 18,889 163,605 284,124 11,424 valid certs 0.7458  1.4176 13375.0  4.3716 $140  2.60      albany hampton roads 67.86  6.891  baltimore total key rates  date ldn volumes n.y. volumes  ~    london  spreads    ~  suprt & res. ice tas  net chng. 11-nov-16  2,471  8,851 $280  $140  n/a mar 17  new york  260,428 17-nov-16 3,761 2,866,589       in london, prices carved out a new annual low before late session buying, in elevated volumes, carried the market back  to unchanged.  while technicians might throw a fanc y label on today’s prices activity - such as a “ham mer bottom” - and  point out the second consecutive “stabilizing close”, the marketed failed to trade a bove wednesday’s high and still remains  within the confines of downward sloping trend chann el, albeit of short duration.  a strong follow thro ugh tomorrow might  validate these reversal patterns, which consequentl y fall in harmony with oversold rsi’s and a normall y constructive  crossing of the stochastics.  whether that amounts to anything remains to be seen as any rally in flat  price may merely  amount to a selling opportunity with system shorts comfortably positioned, weekly arrivals in the ivor y coast beginning to  outpace comparative data and oodles of forward sell ing somewhere in the pipeline.  regarding the world ’s top producer,  rainfall data for the first ten days of november wa s down from the previous ten days and forecasted to  decrease in the week  ahead.  while that might sound worrisome, cumulativ e rainfall for the season is still running ahead of  last year and outlooks  for the current main crops remain optimistic.  in t he options space, most of the activity focused on t he short d ated dec16  expiration with large handfuls of each the 2050 and  2100 calls trading.  another tranche of dec16/may17 call sprea ds  highlighted the gulf between the front and third po sitions with the front month trading more than nine  vols over.       for the second consecutive session, the dollar surg ed higher, coffee, sugar and commodities in general  fell and cocoa  prices were stable to higher.  there was lots of ta lk around about exhaustion in cocoa, rsi divergence, loss of downside  momentum and the market being oversold in general w hich seemingly took hold at least temporarily today in both the flat  pr ice and structural environment.  the trading volume  in the u.s. market was ok which helped to confirm the affair how ever  the bounce, unfortunately, was unconvincing by othe r technical measures.  yes, we got the outside day higher (debatable  though as we settled inside the previous sessions r ange rather than above it ) but failed again at the key breakdown level on  the monthly chart.  one can be fairly critical of a nalysis on the basis of the monthly chart given that there’s plenty of time  to correct it however the key levels are already be ing watched.  it’s fairly obvious on an intraday ba sis and the close  potentially lea ves the cta in control again on a friday to close o ut the week; let’s see.  really, the (slightly) more interesting  highlight today was the tightening of the mar17 str ucture.  we’d enjoy telling a tale of there being a n evolving tightness in  the cash market but believe it would only be just t hat; a tale as crops are large, growing even and by  most standa rds sufficient  at this juncture relative to demand.  as such, perh aps front month short covering on the basis of the aforementioned oversold  conditions along with what essentially is the final  resolution of the dec16 contract deserves the prop er a ttribution (yawn)  for what many (some, fewer than before) are hoping is the evolution of a bottoming pattern.  otherwise, it was a fairly  routine affair in cocoa today with the market in ge neral remaining entirely devoid of interesting news  or fresh information. '"
      ]
     },
     "execution_count": 23,
     "metadata": {},
     "output_type": "execute_result"
    }
   ],
   "source": [
    "comments_db_full[172]"
   ]
  },
  {
   "cell_type": "code",
   "execution_count": 26,
   "id": "1544ba39-9fc1-4335-93b5-d34799241cd7",
   "metadata": {},
   "outputs": [],
   "source": [
    "#exporting to csv\n",
    "comments_db_df = pd.DataFrame(comments_db)\n",
    "comments_db_df.to_csv(path_or_buf=\"../raw_data/pdf_reports/full_comments_2016.csv\",index=False)"
   ]
  },
  {
   "cell_type": "code",
   "execution_count": 5,
   "id": "bff8a4b9-949c-4a79-99f1-ce869118c625",
   "metadata": {},
   "outputs": [
    {
     "data": {
      "text/plain": [
       "241"
      ]
     },
     "execution_count": 5,
     "metadata": {},
     "output_type": "execute_result"
    }
   ],
   "source": [
    "len(comments_db)"
   ]
  },
  {
   "cell_type": "code",
   "execution_count": 37,
   "id": "1f00c0de-e442-4dc5-a7d5-aea191f70df8",
   "metadata": {},
   "outputs": [
    {
     "data": {
      "text/plain": [
       "5"
      ]
     },
     "execution_count": 37,
     "metadata": {},
     "output_type": "execute_result"
    }
   ],
   "source": [
    "comments_full_small = comments_db_full[:5]\n",
    "len(comments_full_small)"
   ]
  },
  {
   "cell_type": "code",
   "execution_count": 38,
   "id": "aac40f33-1447-49bb-99f2-bd4af3a32f0f",
   "metadata": {},
   "outputs": [
    {
     "data": {
      "text/plain": [
       "'date of report: 160217; report content: email your replies to newedgecocoa@newedge.com       new york office p:  212-278-4836 f:  212 262-3943  london office p: 207-780-6677 f:  207-676-8650       joseph p. mallaney   todd c. lunstead michael dann jonathan proctor andrew proctor michael juliano devon dinneen jamie ball graham phillipsindex + 35,182131,983net com   net ls com -delaware$400 $300(trade at settlement) 7,178 -23,2010open interest  ~    new  york  spreads    ~  wednesday, february 17, 2016 471,453cocoa market report open interest  3,208,011 oi nr - com + 139,412 38,569-32,953 11,804 20,954mng $ netnet ls106,459 oi 278,92531,454 21,706 155,184225,354 278,9259100 9,517valid certs0.7169 1.405513505.0 4.2125$130 2.15    albany hampton roads68.31 6.527 baltimore totalkey rates dateldn volumes n.y. volumes  ~    london  spreads    ~  suprt & res. ice tas volumes net chng.12-feb-16 2,874 -51,659$260 $110 0.80 may6 new york 322,978 17-feb-16 4,280 3,542,447      after trading on both sides of unchanged for the first 2/3rds of the session, prices in london surged higher after electin g stops above the recent high, 2080 basis the second position.  after crossing this level, futures gained £30 in the subsequent 20 minutes yet gave it all back before another round of market on close buying carried prices in the final minutes, yielding yet another extremely volatile performance.  with prices charting a £55 range, volumes were up significantly from the pas t two days netting nearly 46,000 contracts inclusive of nearly 18,000 spreads with activity increasing on the spot contract now that new york is in delivery.  technical flows were not the only consideration in today’s dealings with the ccc releasing an official arrivals data from the ivory coast.  through january, 1,079,412 mts reached the country’s two main ports comparted to 1,080,360 mts in the same period last season – a marginal difference but impressive given the fact that the2014/15 harvest was a record crop.  the government’s figure was approximately 16,400 mts higher than previous estimatesby local exporters – again, a marginal difference but perhaps kept prices contained in early trading.  for january in isolation , total tonnages were 219,591 compared to 229,059 last season matching the trend reported by exporters that is expected to continue should the reported production impairments due to the strong harmattan materialize.       in new york, system related selling appeared on the official open quickly driving the market into negative territory eventually breaking through 2820 basis may16, the previous day’s low.  trade related buyers joined the fray soon after  preventing further slippage as the market neared the psychological support level of 2800 basis may16.  this sell off proved to be short lived as spillover buying from the greater commodity complex initiated a bevy of technical buy stops being elected above 2860 basis may16 creating a buying vacuum.  the market rallied 30 points in less than a minute on over 1600lots of volume eventually penetrating 2900 basis may16 and touching upon 3½ week highs.  the reuters jefferies crb index rallied 2.3% largely due to a surge in oil prices after positive comments made by iran’s oil minister in relation to the pact struck by qatar, saudi arabia, venezuela, and russia to limit oil production.  this renewed risk appetite was also seen in the equities markets as the s&p 500 and ftse rallied, 1.59% and 1.65% respectively.  although macro related buying played a key role in today’s rally, the growing large gross short spec position (38,881 lots) continues to exacerbate these rallies to the upside with short covering.  it should be noted that in the post settlement trading session, a steady barrage o f commercial selling erased the vast majority of today’s gains leaving the market up a mere 27 points basis may16 and thelondon market due more than £10 lower. '"
      ]
     },
     "execution_count": 38,
     "metadata": {},
     "output_type": "execute_result"
    }
   ],
   "source": [
    "comments_full_small[3]"
   ]
  },
  {
   "cell_type": "code",
   "execution_count": 9,
   "id": "6141b6d6-0bf9-4fb6-b001-364f8c09e250",
   "metadata": {},
   "outputs": [
    {
     "data": {
      "text/plain": [
       "'in london prices carved out a new annual low before late session buying in elevated volumes carried the market back  to unchanged  while technicians might throw a fanc y label on today’s prices activity  such as a “ham mer bottom”  and  point out the second consecutive “stabilizing close” the marketed failed to trade a bove wednesday’s high and still remains  within the confines of downward sloping trend chann el albeit of short duration  a strong follow thro ugh tomorrow might  validate these reversal patterns which consequentl y fall in harmony with oversold rsi’s and a normall y constructive  crossing of the stochastics  whether that amounts to anything remains to be seen as any rally in flat  price may merely  amount to a selling opportunity with system shorts comfortably positioned weekly arrivals in the ivor y coast beginning to  outpace comparative data and oodles of forward sell ing somewhere in the pipeline  regarding the world ’s top producer  rainfall data for the first ten days of november wa s down from the previous ten days and forecasted to  decrease in the week  ahead  while that might sound worrisome cumulativ e rainfall for the season is still running ahead of  last year and outlooks  for the current main crops remain optimistic  in t he options space most of the activity focused on t he short d ated dec  expiration with large handfuls of each the  and   calls trading  another tranche of decmay call sprea ds  highlighted the gulf between the front and third po sitions with the front month trading more than nine  vols over       for the second consecutive session the dollar surg ed higher coffee sugar and commodities in general  fell and cocoa  prices were stable to higher  there was lots of ta lk around about exhaustion in cocoa rsi divergence loss of downside  momentum and the market being oversold in general w hich seemingly took hold at least temporarily today in both the flat  pr ice and structural environment  the trading volume  in the us market was ok which helped to confirm the affair how ever  the bounce unfortunately was unconvincing by othe r technical measures  yes we got the outside day higher debatable  though as we settled inside the previous sessions r ange rather than above it  but failed again at the key breakdown level on  the monthly chart  one can be fairly critical of a nalysis on the basis of the monthly chart given that there’s plenty of time  to correct it however the key levels are already be ing watched  it’s fairly obvious on an intraday ba sis and the close  potentially lea ves the cta in control again on a friday to close o ut the week let’s see  really the slightly more interesting  highlight today was the tightening of the mar str ucture  we’d enjoy telling a tale of there being a n evolving tightness in  the cash market but believe it would only be just t hat a tale as crops are large growing even and by  most standa rds sufficient  at this juncture relative to demand  as such perh aps front month short covering on the basis of the aforementioned oversold  conditions along with what essentially is the final  resolution of the dec contract deserves the prop er a ttribution yawn  for what many some fewer than before are hoping is the evolution of a bottoming pattern  otherwise it was a fairly  routine affair in cocoa today with the market in ge neral remaining entirely devoid of interesting news  or fresh information '"
      ]
     },
     "execution_count": 9,
     "metadata": {},
     "output_type": "execute_result"
    }
   ],
   "source": [
    "comments_db[172]"
   ]
  },
  {
   "cell_type": "code",
   "execution_count": 7,
   "id": "f98ba81b-298e-48ec-ac9b-97faa62f0a74",
   "metadata": {},
   "outputs": [
    {
     "data": {
      "text/plain": [
       "['160104.pdf',\n",
       " '160203.pdf',\n",
       " '160329.pdf',\n",
       " '160204.pdf',\n",
       " '160825.pdf',\n",
       " '160331.pdf',\n",
       " '160602 (Marex).pdf']"
      ]
     },
     "execution_count": 7,
     "metadata": {},
     "output_type": "execute_result"
    }
   ],
   "source": [
    "files_not_processed"
   ]
  },
  {
   "cell_type": "code",
   "execution_count": 121,
   "id": "a9a62cf6-8d59-42f2-b7d9-91592b50723e",
   "metadata": {},
   "outputs": [],
   "source": [
    "comments_db_df = pd.DataFrame(comments_db)\n",
    "comments_db_df.to_csv(path_or_buf=\"../raw_data/pdf_reports/comments_2016.csv\",index=False)"
   ]
  },
  {
   "cell_type": "code",
   "execution_count": null,
   "id": "0f559c9b-ec79-4a7b-bfe2-9a776b2a8cf4",
   "metadata": {},
   "outputs": [],
   "source": [
    "#embedding"
   ]
  },
  {
   "cell_type": "code",
   "execution_count": 108,
   "id": "58b45ab6-f425-44ff-ae28-95cc3f988eb2",
   "metadata": {},
   "outputs": [
    {
     "name": "stderr",
     "output_type": "stream",
     "text": [
      "100%|█████████████████████████████████████████████████████████████████████████| 45.9M/45.9M [00:07<00:00, 6.36MiB/s]\n"
     ]
    },
    {
     "name": "stdout",
     "output_type": "stream",
     "text": [
      "bert_load_from_file: gguf version     = 2\n",
      "bert_load_from_file: gguf alignment   = 32\n",
      "bert_load_from_file: gguf data offset = 695552\n",
      "bert_load_from_file: model name           = BERT\n",
      "bert_load_from_file: model architecture   = bert\n",
      "bert_load_from_file: model file type      = 1\n",
      "bert_load_from_file: bert tokenizer vocab = 30522\n"
     ]
    }
   ],
   "source": [
    "gpt4all_embd = GPT4AllEmbeddings()"
   ]
  },
  {
   "cell_type": "code",
   "execution_count": 124,
   "id": "1ef5b68c-f185-431a-9719-1b45ddb923db",
   "metadata": {},
   "outputs": [
    {
     "name": "stdout",
     "output_type": "stream",
     "text": [
      "CPU times: user 2.94 s, sys: 0 ns, total: 2.94 s\n",
      "Wall time: 738 ms\n"
     ]
    }
   ],
   "source": [
    "%%time\n",
    "#to embed a single piece of text\n",
    "query_result = gpt4all_embd.embed_query(comments_db[0])"
   ]
  },
  {
   "cell_type": "code",
   "execution_count": null,
   "id": "ad480d5f-e660-4f89-a8e0-769fe8f8bcea",
   "metadata": {},
   "outputs": [],
   "source": [
    "%%time\n",
    "#to embed multiple pieces of text\n",
    "doc_result = gpt4all_embd.embed_documents(comments_db)\n",
    "doc_result"
   ]
  },
  {
   "cell_type": "code",
   "execution_count": 132,
   "id": "8003557d-fc60-4b94-b783-afce8909f298",
   "metadata": {},
   "outputs": [
    {
     "data": {
      "text/plain": [
       "241"
      ]
     },
     "execution_count": 132,
     "metadata": {},
     "output_type": "execute_result"
    }
   ],
   "source": [
    "len(doc_result)"
   ]
  },
  {
   "cell_type": "code",
   "execution_count": 134,
   "id": "b1dd84c4-56ef-4dbf-beb2-3729492d3bbf",
   "metadata": {},
   "outputs": [
    {
     "data": {
      "text/plain": [
       "array([-1, -1, -1, -1, -1, -1, -1, -1, -1, -1, -1, -1, -1, -1, -1, -1, -1,\n",
       "       -1, -1, -1, -1, -1, -1, -1,  0,  0,  0, -1, -1, -1, -1, -1, -1, -1,\n",
       "        1, -1, -1, -1, -1, -1, -1, -1, -1, -1, -1,  0, -1, -1, -1, -1, -1,\n",
       "       -1, -1, -1, -1, -1, -1,  0, -1, -1, -1, -1, -1, -1, -1,  1, -1, -1,\n",
       "       -1, -1, -1, -1, -1, -1, -1, -1,  0, -1, -1, -1, -1, -1, -1, -1, -1,\n",
       "       -1, -1, -1, -1, -1, -1, -1, -1, -1, -1, -1, -1, -1, -1, -1, -1, -1,\n",
       "       -1, -1, -1, -1,  0, -1, -1,  0, -1,  1, -1,  0, -1, -1, -1, -1, -1,\n",
       "       -1, -1,  0, -1, -1, -1, -1, -1, -1, -1, -1,  0, -1, -1, -1, -1, -1,\n",
       "       -1, -1, -1, -1, -1, -1, -1, -1, -1, -1, -1, -1, -1, -1, -1, -1, -1,\n",
       "       -1, -1, -1, -1,  1, -1, -1, -1, -1, -1, -1, -1, -1, -1, -1, -1, -1,\n",
       "       -1, -1, -1, -1, -1, -1, -1, -1,  1,  0, -1, -1, -1, -1, -1, -1, -1,\n",
       "       -1, -1, -1, -1, -1, -1, -1, -1, -1, -1, -1, -1, -1, -1, -1, -1, -1,\n",
       "       -1, -1, -1, -1, -1, -1, -1, -1, -1, -1, -1, -1, -1,  0, -1, -1, -1,\n",
       "       -1, -1, -1, -1, -1, -1, -1, -1,  0, -1, -1, -1, -1, -1, -1, -1, -1,\n",
       "       -1, -1, -1])"
      ]
     },
     "execution_count": 134,
     "metadata": {},
     "output_type": "execute_result"
    }
   ],
   "source": [
    "hdb = hdbscan.HDBSCAN(min_samples=3, min_cluster_size=3).fit(doc_result)\n",
    "hdb.labels_"
   ]
  },
  {
   "cell_type": "code",
   "execution_count": 135,
   "id": "8faf2a42-274c-4268-8c49-c3ca491b3263",
   "metadata": {},
   "outputs": [
    {
     "data": {
      "text/plain": [
       "array([0.12377707, 0.11296396, 0.0412268 , 0.00431169, 0.1312749 ,\n",
       "       0.32891157, 0.00927263, 0.3332661 , 0.05556474, 0.09642357,\n",
       "       0.29447528, 0.27625234, 0.26099976, 0.16977193, 0.32913341,\n",
       "       0.00865932, 0.29647474, 0.29912884, 0.25051276, 0.31677281,\n",
       "       0.14363675, 0.09744723, 0.15778816, 0.04690834, 0.03407516,\n",
       "       0.06260645, 0.0471761 , 0.1784305 , 0.21448001, 0.26445818,\n",
       "       0.27582476, 0.03462653, 0.27315884, 0.41941459, 0.        ,\n",
       "       0.02287688, 0.12291867, 0.08568888, 0.29170737, 0.30081635,\n",
       "       0.11858978, 0.15316798, 0.32765181, 0.22232283, 0.18169023,\n",
       "       0.        , 0.26741131, 0.06321568, 0.08327259, 0.21457622,\n",
       "       0.1385791 , 0.14414101, 0.29500154, 0.0159716 , 0.03553177,\n",
       "       0.15945385, 0.13402494, 0.04156014, 0.52516747, 0.16608708,\n",
       "       0.39228801, 0.09859296, 0.05413311, 0.24924937, 0.22468491,\n",
       "       0.        , 0.07927674, 0.08313156, 0.1350486 , 0.06015834,\n",
       "       0.13316906, 0.31745659, 0.11475   , 0.07226672, 0.1214511 ,\n",
       "       0.24717892, 0.        , 0.10197748, 0.03095766, 0.16969254,\n",
       "       0.28459862, 0.40736506, 0.15857592, 0.33342263, 0.17507866,\n",
       "       0.14318813, 0.13555686, 0.49111822, 0.07098428, 0.15724806,\n",
       "       0.09446475, 0.07819099, 0.08325464, 0.38669126, 0.0419641 ,\n",
       "       0.01674018, 0.11943193, 0.06813645, 0.48298665, 0.3337946 ,\n",
       "       0.07431667, 0.15457584, 0.02981395, 0.29307759, 0.31603079,\n",
       "       0.29765744, 0.03590126, 0.25900447, 0.1439123 , 0.06273582,\n",
       "       0.22443271, 0.00122564, 0.08691454, 0.06118823, 0.02327515,\n",
       "       0.20378132, 0.00249545, 0.1284201 , 0.03291532, 0.25065355,\n",
       "       0.07927674, 0.01698247, 0.11329044, 0.60276779, 0.56537116,\n",
       "       0.1591881 , 0.35206244, 0.29701807, 0.2137642 , 0.49104729,\n",
       "       0.01776126, 0.12347532, 0.16971441, 0.33797101, 0.06958519,\n",
       "       0.38767221, 0.08614195, 0.1226347 , 0.15992015, 0.08691454,\n",
       "       0.28146366, 0.00252472, 0.00865932, 0.07969725, 0.2508445 ,\n",
       "       0.32697663, 0.26164461, 0.29472161, 0.03696488, 0.07941539,\n",
       "       0.36887698, 0.27609141, 0.3204946 , 0.01144349, 0.05882772,\n",
       "       0.24924937, 0.22529868, 0.00549545, 0.37694003, 0.39185265,\n",
       "       0.46983875, 0.13356373, 0.42696999, 0.12573679, 0.03095766,\n",
       "       0.11439169, 0.33822019, 0.09280992, 0.01674018, 0.12233812,\n",
       "       0.04417601, 0.11369704, 0.14418512, 0.20242875, 0.04270092,\n",
       "       0.49876569, 0.33480251, 0.34474733, 0.        , 0.0471761 ,\n",
       "       0.09350864, 0.19595434, 0.08313156, 0.13162668, 0.32159022,\n",
       "       0.43285616, 0.0419641 , 0.5582609 , 0.11832699, 0.30334391,\n",
       "       0.35209591, 0.16954988, 0.18902233, 0.16331184, 0.11467743,\n",
       "       0.38998496, 0.08398104, 0.25114132, 0.10209267, 0.18254756,\n",
       "       0.38109367, 0.03501058, 0.30045404, 0.35039986, 0.19394691,\n",
       "       0.1396116 , 0.26893991, 0.14387021, 0.21795009, 0.3260766 ,\n",
       "       0.3916242 , 0.12420908, 0.08690281, 0.08802383, 0.28644756,\n",
       "       0.10424771, 0.25753499, 0.06256765, 0.15120686, 0.34509095,\n",
       "       0.08301512, 0.08306438, 0.0716674 , 0.09361984, 0.05259155,\n",
       "       0.11530999, 0.37150965, 0.09924988, 0.29651182, 0.        ,\n",
       "       0.04857297, 0.41287205, 0.35206236, 0.12037828, 0.02547585,\n",
       "       0.00893662, 0.11233438, 0.06982392, 0.19149886, 0.10637206,\n",
       "       0.29362981])"
      ]
     },
     "execution_count": 135,
     "metadata": {},
     "output_type": "execute_result"
    }
   ],
   "source": [
    "hdb.outlier_scores_"
   ]
  },
  {
   "cell_type": "code",
   "execution_count": null,
   "id": "d7f69375-b889-4c61-8438-3705f8bfe09b",
   "metadata": {},
   "outputs": [],
   "source": [
    "#with Vertex AI\n",
    "#running into model limitations after iterating through less than 10 daily reports\n",
    "llm_vertex = VertexAI(model_name=\"text-bison\")"
   ]
  },
  {
   "cell_type": "code",
   "execution_count": null,
   "id": "352e82ce-5b5c-4abc-91ea-71933a3e241c",
   "metadata": {},
   "outputs": [],
   "source": []
  },
  {
   "cell_type": "code",
   "execution_count": null,
   "id": "59d92964-ac14-4862-9828-08f7f706ed72",
   "metadata": {},
   "outputs": [],
   "source": []
  },
  {
   "cell_type": "code",
   "execution_count": null,
   "id": "f87e6d20-7422-4a7f-83d8-34364ba46779",
   "metadata": {},
   "outputs": [],
   "source": []
  },
  {
   "cell_type": "code",
   "execution_count": null,
   "id": "3db1b04c-5eb1-4544-89e7-a1c28845234c",
   "metadata": {},
   "outputs": [],
   "source": [
    "#trying with locally hosted model"
   ]
  },
  {
   "cell_type": "code",
   "execution_count": 5,
   "id": "826d74b4-ffa3-4e1a-a378-6c275c703b9a",
   "metadata": {},
   "outputs": [],
   "source": [
    "#Instantiating the LLM\n",
    "local_path = (\"../models/mistral-7b-instruct-v0.1.Q4_0.gguf\")\n",
    "llm = GPT4All(model=local_path)"
   ]
  },
  {
   "cell_type": "code",
   "execution_count": 6,
   "id": "e4cfdd44-bb00-4d11-bf0a-7846afd7f991",
   "metadata": {},
   "outputs": [],
   "source": [
    "#starting with a simple prompt\n",
    "template = \"\"\"\n",
    "Please write a one sentence summary of the following text:\n",
    "\n",
    "{comment}\n",
    "\"\"\"\n",
    "\n",
    "prompt = PromptTemplate(\n",
    "    input_variables=[\"comment\"],\n",
    "    template=template\n",
    ")"
   ]
  },
  {
   "cell_type": "code",
   "execution_count": 7,
   "id": "5e31692f-ce23-42c5-90c0-0c803dfc76f4",
   "metadata": {},
   "outputs": [
    {
     "name": "stderr",
     "output_type": "stream",
     "text": [
      "/home/quentin/.pyenv/versions/3.10.6/envs/weather_checker/lib/python3.10/site-packages/tqdm/auto.py:21: TqdmWarning: IProgress not found. Please update jupyter and ipywidgets. See https://ipywidgets.readthedocs.io/en/stable/user_install.html\n",
      "  from .autonotebook import tqdm as notebook_tqdm\n"
     ]
    },
    {
     "name": "stdout",
     "output_type": "stream",
     "text": [
      "This prompt + comment has 828 tokens\n"
     ]
    },
    {
     "name": "stderr",
     "output_type": "stream",
     "text": [
      "Exception ignored on calling ctypes callback function: <function LLModel._prompt_callback at 0x7fe536fafc70>\n",
      "Traceback (most recent call last):\n",
      "  File \"/home/quentin/.pyenv/versions/3.10.6/envs/weather_checker/lib/python3.10/site-packages/gpt4all/pyllmodel.py\", line 479, in _prompt_callback\n",
      "    @staticmethod\n",
      "KeyboardInterrupt: \n"
     ]
    },
    {
     "name": "stdout",
     "output_type": "stream",
     "text": [
      "Summary: The cocoa market report for Monday, October 25th indicates that system related selling and discretionary fund liquidation drove the market down. The front month's system-related sellers eventually penetrated the market by day, electing multiple sell stop orders in the process. A selling vacuum ensued as speculative liquidation added to the downward pressure on prices. However, trade-related buyers prevented the market from breaking through its recent low where many potential sell stops could be lurking for the duration of the trading session. The latest report shows that the fundamental news front did not provide any indication of an imminent selloff, with an expected low arrivals figure in the Ivory Coast. Despite this, prices fell beyond an early double bottom on the weekly charts as momentum indicators slid just north of oversold conditions. New York was surprisingly the volume leader, with highlights including Mar puts and Dec call spreads. The latter traded at an almost volatility premium to the near strike, indicating a strong aversion to relinquish gamma.\n",
      "\n",
      "\n",
      "This prompt + comment has 395 tokens\n",
      "Summary: In summary, cocoa prices experienced significant losses during the past week, but managed to rally off their lows by midweek. This was due to value-based buying, short covering, and positive chart signals. Open interest remained stable throughout the decline, while volumes were extremely high. Implied volatilities also increased as a result of all the trading activity. The CFTC's commitments figures revealed that speculative length in net positions did not decrease significantly, which could leave the door open for further selling from this camp in the coming week.\n",
      "\n",
      "\n",
      "This prompt + comment has 891 tokens\n",
      "Summary: joseph p mallaney todd c lunstead michael dann jonathan proctor andrew proctor michael juliano devon dinneen jamie ball graham phillipsdateldn volumes ny volumes      london  spreads      suprt  res ice tas  sepnet chngaug     dec new york  sep   valid certs        alban y hampton roads  baltimore totalkey rates        trade at settlement    open interest      new  york  spreads      wednesday september   cocoa market report open interest   oi nr  com  net com   net ls com delaware      in the us market an outside day lower back through the mini  day uptrend put a fairly negative spin on the trading session today the trading volume wasn’t great but the price action alone arguably stood out as yet another technical failure in cocoa to be fair that analysis is based on the daily second month continuation chart which tends to be somewhat microfocused perhaps too much on short term behavior while shortterm behavior remains an important consideration and particularly so relative to the ever powerful cta community a look at the weekly chart undeniably tells a slightly different tale\n",
      "\n",
      "\n",
      "This prompt + comment has 619 tokens\n"
     ]
    },
    {
     "name": "stderr",
     "output_type": "stream",
     "text": [
      "Exception ignored on calling ctypes callback function: <function LLModel._prompt_callback at 0x7fe536fafc70>\n",
      "Traceback (most recent call last):\n",
      "  File \"/home/quentin/.pyenv/versions/3.10.6/envs/weather_checker/lib/python3.10/site-packages/gpt4all/pyllmodel.py\", line 479, in _prompt_callback\n",
      "    @staticmethod\n",
      "KeyboardInterrupt: \n"
     ]
    },
    {
     "name": "stdout",
     "output_type": "stream",
     "text": [
      "Summary: The cocoa market experienced another day of erratic high volume trading with both extrinsic and intrinsic factors driving prices. Prices opened firm, sold off, rallied, and then skyrocketed due to realized volatility as indicated in the charts. The macro environment is blamed for the downturns but options expiration exacerbated the volatility. Commitments data from the CFTC showed a reduction in net length from the large speculative category with indexes being buyers of nearly gross contracts over the volatile period.\n",
      "\n",
      "\n",
      "This prompt + comment has 534 tokens\n",
      "Summary: The market in London posted a light volume inside day as prices continued to trend downward despite a modest rebound in sterling. The curve strengthened, and there was an undersupplied market on a final note. In New York, the market gapped higher but failed to gain steam due to commercial selling. Sepdec's premium eroded further with a growing net spec long position mainly concentrated in  sep. There were minor activities in the grading room, and Brazilian arrivals for the second quarter were down from the previous year.\n",
      "\n",
      "\n"
     ]
    }
   ],
   "source": [
    "#running the summarisation as a sequence\n",
    "for comment in comments_small:\n",
    "    summary_prompt = prompt.format(comment=comment)\n",
    "    \n",
    "    num_tokens = llm.get_num_tokens(summary_prompt)\n",
    "    print (f\"This prompt + comment has {num_tokens} tokens\")\n",
    "    \n",
    "    summary = llm(summary_prompt)\n",
    "    \n",
    "    print (f\"Summary: {summary.strip()}\")\n",
    "    print (\"\\n\")"
   ]
  },
  {
   "cell_type": "code",
   "execution_count": null,
   "id": "75652ffb-5f45-4d31-bdfe-01789f26a7ec",
   "metadata": {},
   "outputs": [],
   "source": [
    "#now trying with OpenAI API"
   ]
  },
  {
   "cell_type": "code",
   "execution_count": 15,
   "id": "5329e422-9fe6-42b1-8490-521cbee6dc9e",
   "metadata": {},
   "outputs": [],
   "source": [
    "openai_api_key = os.getenv('OPENAI_API_KEY')"
   ]
  },
  {
   "cell_type": "code",
   "execution_count": 16,
   "id": "c06f8613-2406-464c-92f3-3be16491c2a6",
   "metadata": {},
   "outputs": [],
   "source": [
    "llm_openai = OpenAI(model =\"gpt-3.5-turbo-instruct\",temperature=0, openai_api_key=openai_api_key)"
   ]
  },
  {
   "cell_type": "code",
   "execution_count": null,
   "id": "a72e6e0d-ae94-46a8-a0d6-b3721c44d49d",
   "metadata": {},
   "outputs": [],
   "source": []
  },
  {
   "cell_type": "code",
   "execution_count": 30,
   "id": "5fb63d30-da80-4603-85de-7458e1af5e28",
   "metadata": {},
   "outputs": [],
   "source": [
    "#using a two sentences summary and weather prompt structure\n",
    "weather_prompt_template = \"\"\"\n",
    "You are a cocoa commodity market analyst\n",
    "Please write a two sentence summary of the following text which is a daily report of the cocoa futures market\n",
    "Please mention the date of the following text which is indicated at the beginning in a yy-mm-dd format.\n",
    "Please mention specifically if anything about weather, precipitation, climate is indicated in the text.\n",
    "{comment}\n",
    "\"\"\"\n",
    "\n",
    "prompt = PromptTemplate(\n",
    "    input_variables=[\"comment\"],\n",
    "    template=weather_prompt_template\n",
    ")"
   ]
  },
  {
   "cell_type": "code",
   "execution_count": 34,
   "id": "cdd88ccb-e4f3-4b25-ae60-f48ebfbba209",
   "metadata": {},
   "outputs": [
    {
     "name": "stdout",
     "output_type": "stream",
     "text": [
      "This prompt + comment has 1284 tokens\n",
      "Summary: The report discusses the cocoa market on October 10, 2016, including trading volumes and prices in New York and London. It also mentions a decrease in cocoa arrivals in the Ivory Coast and a decrease in the net spec long position.\n",
      "\n",
      "\n",
      "This prompt + comment has 933 tokens\n",
      "Summary: The report discusses the recent volatility in the cocoa market, with prices dropping and then rebounding due to various factors such as a weak macro backdrop, solid arrivals, and short covering. Open interest and trading volumes were also high, with options trading matching the entire annual global output. Implied volatilities were up and there was a less than expected reduction in speculative length.\n",
      "\n",
      "\n",
      "This prompt + comment has 1168 tokens\n",
      "Summary: The report discusses the current state of the cocoa market, including trading volume and price action. It also mentions a potential surplus and weather conditions in Cote d'Ivoire.\n",
      "\n",
      "\n",
      "This prompt + comment has 871 tokens\n",
      "Summary: The report discusses the volatile nature of the cocoa market, with both intrinsic and extrinsic factors driving high volume trading. It also mentions a poll predicting a deficit and high prices for cocoa, despite recent price drops.\n",
      "\n",
      "\n",
      "This prompt + comment has 949 tokens\n",
      "Summary: The report discusses cocoa market trends and trading activity in New York and London on July 18, 2016. It mentions a decrease in managed money positions and a potential oversupply in the world's top producer, as well as a weakening premium in near-term structure.\n",
      "\n",
      "\n",
      "This prompt + comment has 1093 tokens\n",
      "Summary: The report discusses cocoa market activity in New York and London, including trading volumes and prices. The market appears to have stabilized after a recent downturn, but trading has slowed down. There is also mention of a potential decrease in cocoa production due to disease.\n",
      "\n",
      "\n",
      "This prompt + comment has 957 tokens\n",
      "Summary: The report discusses cocoa market data and trading activity in New York and London. It mentions a slight decrease in European processing and a decline in sterling against the dollar, but does not mention any specific weather, precipitation, or climate information.\n",
      "\n",
      "\n",
      "This prompt + comment has 1157 tokens\n",
      "Summary: The report discusses cocoa market activity on October 25, 2016, with a focus on New York and London offices. There is mention of weather and crop concerns, as well as trading and open interest numbers.\n",
      "\n",
      "\n",
      "This prompt + comment has 1063 tokens\n",
      "Summary: The report discusses the cocoa market, with a focus on arrivals data and discrepancies between different data providers. There is also mention of bean stocks in the Ivory Coast and a quiet session in New York with low trading volume.\n",
      "\n",
      "\n",
      "This prompt + comment has 1038 tokens\n",
      "Summary: The report discusses trading activity and market trends in the cocoa industry, with a focus on the New York and London offices. There is mention of a backlog of cocoa in the Ivory Coast due to logistical issues, and a weaker dollar and stronger softs complex may have cushioned declines in prices.\n",
      "\n",
      "\n"
     ]
    }
   ],
   "source": [
    "#running the summarisation as a sequence\n",
    "for comment in comments_full_small:\n",
    "    summary_prompt = prompt.format(comment=comment)\n",
    "    \n",
    "    num_tokens = llm_openai.get_num_tokens(summary_prompt)\n",
    "    print (f\"This prompt + comment has {num_tokens} tokens\")\n",
    "    \n",
    "    summary = llm_openai(summary_prompt)\n",
    "    \n",
    "    print (f\"Summary: {summary.strip()}\")\n",
    "    print (\"\\n\")"
   ]
  },
  {
   "cell_type": "code",
   "execution_count": 39,
   "id": "debdbb21-c4bd-4179-8d4a-f2ae16959fee",
   "metadata": {},
   "outputs": [
    {
     "data": {
      "text/plain": [
       "'date of report: 160718; report content: email your replies to newedgecocoa@newedge.com       new york office p:  212-278-4836 f:  212 262-3943  london office p: 207-780-6677 f:  207-676-8650       joseph p. mallaney   todd c. lunstead michael dann jonathan proctor andrew proctor michael juliano devon dinneen jamie ball graham phillipsindex + 33,30039,827 115,126117,503net com   net ls com -delaware$500 $425(trade at settlement) 7,178 -48,9080open interest  ~    new  york  spreads    ~  monday, july 18, 2016 162,024cocoa market report open interest  3,236,766 oi nr - com + 150,129 144,841 65,286-55,800 -53,738 -44,603 159,729 32,706 29,258 46,361mng $ netnet ls94,329 91,103 249,524oi 260,347 32,42250,056 43,160 166,41148,930 249,523213,944 205,072 260,3466927 7,132 6,4986270valid certs0.7593 1.348213085.0 3.9750$145 2.45     alban y hampton roads67.15 6.701 baltimore totalkey rates dateldn volumes n.y. volumes  ~    london  spreads    ~  suprt & res. ice tas net chng.15-jul-16 3,050 -29,129$350 $150 0.72 dec6 new york 317,986 18-jul-16 4,280 3,566,210      in london, the market posted a light volume inside day as prices continued to trend downward since  peaking last week.  despite a modest rebound in sterling, prices still managed to trade roughly 0.75% higher  with the curve strengthening - sep16/dec16 added £4 albeit on little more than 2,000 lots.  nevertheless, a  break above friday’s high would be required to generate any potential technical strength by activating a  potential bull flag.  until/if then, the market continues to absorb poor comparative arrivals data as well as wait  for further clarifications on next year’s crop.  regarding the former, local exporters in the ivory coas t  estimated that 12,000 mts reached the countries ports through july 17th compared to 26,000 mts at the same  juncture last season.  this discrepancy helped widen to the output gap in the world’s top producer to nearl y  200,000 mts according to reuters.  other news services had the spread even wider which does at least yield some fundamental justification for current price levels particularly with positive grind figures reported out o f  europe and north america.  while the later might present a misrepresentation of global processing, the  headline data along with an inverted curve does allude to an undersupplied market.  on a final note,commitments data released by the exchange revealed managed money positions decreased by 1,700 lots net with options as prices touched new multi-decade highs over the reporting period.      in new york, the market gapped higher on the open due to an initial bout of technical buying.  this rall y  failed to gain steam as a steady barrage of commercial selling prevented any further upside momentum for the duration leaving the market in an inside day formation.  perhaps the most interesting action occurred in nearb y structure as sep16/dec16’s premium continues to erode.  sep16/dec16 traded as low as 10 premium and couldhave further room to weaken with a growing net spec long position (55,209 lots) that is mainly concentrated in  sep16.  there has been minor activity in the grading room with 13 lots in the queue and 46 lots passing thus far.  in the fundamental news front, brazilian arrivals were 52,695 tonnes for the second quarter down 2.8% from the previous year (52,843 tonnes). '"
      ]
     },
     "execution_count": 39,
     "metadata": {},
     "output_type": "execute_result"
    }
   ],
   "source": [
    "comments_full_small[4]"
   ]
  },
  {
   "cell_type": "code",
   "execution_count": 17,
   "id": "8f53dd51-8c1b-40fc-9bf4-5f4908da21c6",
   "metadata": {},
   "outputs": [],
   "source": [
    "#using a more complex prompt for the summarize chain using map_reduce with OpenAI\n",
    "map_prompt_template = \"\"\"\n",
    "                      Write a summary of this chunk of text that includes the main points and any important details.\n",
    "                      {text}\n",
    "                      \"\"\"\n",
    "\n",
    "map_prompt = PromptTemplate(template=map_prompt_template, input_variables=[\"text\"])\n",
    "\n",
    "combine_prompt_template = \"\"\"\n",
    "                      Write a concise summary of the following text delimited by triple backquotes.\n",
    "                      Return your response in bullet points which covers the key points of the text.\n",
    "                      ```{text}```\n",
    "                      BULLET POINT SUMMARY:\n",
    "                      \"\"\"\n",
    "\n",
    "combine_prompt = PromptTemplate(\n",
    "    template=combine_prompt_template, input_variables=[\"text\"]\n",
    ")"
   ]
  },
  {
   "cell_type": "code",
   "execution_count": 18,
   "id": "be513dd6-889e-499f-bf91-fc78b0210598",
   "metadata": {},
   "outputs": [],
   "source": [
    "# create LLM chain\n",
    "map_reduce_chain = load_summarize_chain(\n",
    "    llm_openai,\n",
    "    chain_type=\"map_reduce\",\n",
    "    map_prompt=map_prompt,\n",
    "    combine_prompt=combine_prompt,\n",
    "    return_intermediate_steps=False,\n",
    "    verbose=True\n",
    ")"
   ]
  },
  {
   "cell_type": "code",
   "execution_count": 39,
   "id": "85509827-fd4a-4468-9fb5-fd05752ea84b",
   "metadata": {},
   "outputs": [
    {
     "name": "stdout",
     "output_type": "stream",
     "text": [
      "CPU times: user 12.8 ms, sys: 754 µs, total: 13.5 ms\n",
      "Wall time: 13.2 ms\n"
     ]
    }
   ],
   "source": [
    "%%time\n",
    "#splitting documents\n",
    "#split in chunks of 1000 characters \n",
    "text_splitter = RecursiveCharacterTextSplitter(chunk_size=2500, chunk_overlap=100)\n",
    "docs = text_splitter.create_documents(comments_full_small)\n",
    "docs = text_splitter.split_documents(docs)"
   ]
  },
  {
   "cell_type": "code",
   "execution_count": 40,
   "id": "4e25536e-88e8-4617-bb02-7c45bd4352ea",
   "metadata": {},
   "outputs": [
    {
     "name": "stdout",
     "output_type": "stream",
     "text": [
      "Now we have 10 documents and the document0 has 689 tokens\n",
      "Now we have 10 documents and the document1 has 172 tokens\n",
      "Now we have 10 documents and the document2 has 676 tokens\n",
      "Now we have 10 documents and the document3 has 311 tokens\n",
      "Now we have 10 documents and the document4 has 716 tokens\n",
      "Now we have 10 documents and the document5 has 137 tokens\n",
      "Now we have 10 documents and the document6 has 686 tokens\n",
      "Now we have 10 documents and the document7 has 342 tokens\n",
      "Now we have 10 documents and the document8 has 710 tokens\n",
      "Now we have 10 documents and the document9 has 252 tokens\n"
     ]
    }
   ],
   "source": [
    "num_docs = len(docs)\n",
    "for doc in range(num_docs):\n",
    "    num_tokens = llm_openai.get_num_tokens(docs[doc].page_content)\n",
    "    print (f\"Now we have {num_docs} documents and the document{doc} has {num_tokens} tokens\")"
   ]
  },
  {
   "cell_type": "code",
   "execution_count": 34,
   "id": "7ea69169-45a5-49d3-a5a3-5fead5d2abc3",
   "metadata": {},
   "outputs": [
    {
     "data": {
      "text/plain": [
       "3"
      ]
     },
     "execution_count": 34,
     "metadata": {},
     "output_type": "execute_result"
    }
   ],
   "source": [
    "token=llm_openai.get_num_tokens(docs[0].page_content)\n",
    "token"
   ]
  },
  {
   "cell_type": "code",
   "execution_count": 26,
   "id": "8f149d8d-1581-487c-a4ef-d31f6068bbec",
   "metadata": {},
   "outputs": [
    {
     "name": "stdout",
     "output_type": "stream",
     "text": [
      "\n",
      "\n",
      "\u001b[1m> Entering new MapReduceDocumentsChain chain...\u001b[0m\n",
      "\n",
      "\n",
      "\u001b[1m> Entering new LLMChain chain...\u001b[0m\n",
      "Prompt after formatting:\n",
      "\u001b[32;1m\u001b[1;3m\n",
      "                      Write a summary of this chunk of text that includes the main points and any important details.\n",
      "                      trade at settlement     open interest      new  york  spreads      monday october     cocoa market report  open interest    oi nr  com     index      net com   net ls com  delaware       in london a heavy bout of system related sell ing and discretionary fund liquidation were the mai n culprits in driving the ma rket  down  basis the front month  system related selling appeared from the onset eventually  penetrating  basis mar the   day moving average electing multiple sell stop s in the process a selling vacuum ensued as spec l iquidation added a furt her leg  lower with market finally finding support at  b asis mar  trade related buyers prevented the market from brea king through   basis mar the recent low where many potent ial sell stops could be lurking for the duration of  the trading session n earby  structure finally showed signs of weakness during the flat price sell off as its prem ium quickly deteriorated with decmar  closing at  premium and marmay moving into c ontango settlling at  discount   the fundamental news front did not give  any indication of an imminent sell off with an expe cted low arrivals figure in the ivory coast  arrivals in the ivory coast were down   in in the first week of the  in compar ison to the same time frame last year exporters est imated  tonnes a rrived  from oct  st  till  th  down from  tonnes last year according to reu ters  the latest cot report also did not provide any  justification for the sell off as the net spec long position diminished by a m ere  lots and now stands at  lots       augmented by another downtick in sterling pri ces in new york suffered even greater losses with t he first position slumping  more than  while the second month fell nearly    as was the case abroad the front month spread got annihilated plunging   points and surrendering a third of its premium i n one fell swoop  that swoop included more transac tions  transactions   almost none of which traded tas equating to massiv e volumes for a non “roll” period  the inverted st ructure and the short term  physical tightness it represented had been the gra nd inconsistency to recent downward movements in flat price  while still trading  at a  premium the erosion on decmar compounded the overall marke t weakness and likely emboldened the systematic  community that embraced one sell signal after the n ext  from a technical perspective today’s price a ctivity was simply utter  devastation  not only did prices basis the second  month\n",
      "                      \u001b[0m\n",
      "Prompt after formatting:\n",
      "\u001b[32;1m\u001b[1;3m\n",
      "                      Write a summary of this chunk of text that includes the main points and any important details.\n",
      "                      today’s price a ctivity was simply utter  devastation  not only did prices basis the second  month continuation take out the recently lows fu tures fell beyond an early   double bottom on the weekly charts  this leap into  the abyss occurred as momentum indicators slid jus t north of oversold conditions   which could point to a potential relief rally  how ever even if that is the case since midaugust ea ch upward bounce has proved  short lived as the market focuses more on this seas on’s potential surplus and less on past deficits  in the options space new york  was surprisingly the volume leader with highlights including  mar  puts and  dec   call spr eads   interesting the latter traded at an almost  vola tility premium to the near strike indicating a stro ng aversion to relinquish gamma  – which make sense given the fact that prices moved m ultiple standard deviations today and have endure five different moves in  excess of  over last  trading days  while vola tilities on the short dated futures and options hav e exhibited convergence  mar  implieds were trading at a more than  discount to historicals suggesting either a looming slowdown or  a mispricing\n",
      "                      \u001b[0m\n",
      "Prompt after formatting:\n",
      "\u001b[32;1m\u001b[1;3m\n",
      "                      Write a summary of this chunk of text that includes the main points and any important details.\n",
      "                      to say the least it was a violent week for cocoa with prices netting losses of £ respectively yet still rallying nearly points in each market off the lows charted yesterday leaving the recover y almost as equally impressive as the decline  as discussed a shoddy macro backdrop steamrolling of the  equity and commodity markets solid arrivals and perhaps an element of compulsory hedging accelerated the path lower taking prices deep into oversold territory by midweek  value based buying short coveringand a positive chart signal helped catapult prices off the lows with a weaker trending sterling providing the  additional boost for the london market  regarding short covering one other curious aspect of trading this  week involved open interest which remained curiously stable throughout the decline with any material offsets of positions only registered after the market rebounded yesterday  volumes by themselves were  another key feature with each platform averaging about  contracts a day  in theory the market churned over the entire annual global output plus a residual ghana crop in a week’s time  options  volumes kept pace as well with equivalent weekly trading on the two platforms nearly matching the entire ivorian harvest – monstrous figures  all that activity imparted a noticeable impact on implied volatilitiesthat were up about  to  on the mar contract in london and new york respectively  on a final note today’s much anticipated cftc commitments figures revealed a less than expected reduction in ne t  speculative length  lots given the point drop and massive turnover in the later part of the  reporting period  granted rebalancing periods had not commenced but index positions hardly budge d  refuting some beliefs that selling from these entities  due to the general rout in commodities was partl y  responsible for the price activity  leading into next week this could leave the window open for furthe r selling from this camp given the drawdowns across the asset class  have a good weekend\n",
      "                      \u001b[0m\n",
      "Prompt after formatting:\n",
      "\u001b[32;1m\u001b[1;3m\n",
      "                      Write a summary of this chunk of text that includes the main points and any important details.\n",
      "                      joseph p mallaney   todd c lunstead michael dann jonathan proctor andrew proctor michael juliano devon dinneen jamie ball graham phillipsdateldn volumes ny volumes      london  spreads      suprt  res ice tas  sepnet chngaug     dec new york  sep   valid certs        alban y hampton roads  baltimore totalkey rates        trade at settlement    open interest      new  york  spreads      wednesday september   cocoa market report open interest   oi nr  com  net com   net ls com delaware      in the us market an outside day lower back through the mini  day uptrend put a fairly negative spin on the trading ses sion today the trading volume wasn’t great but the price action alone arguably stood out as yet another technical failure in cocoa  to b e fair tha t analysis is basis the daily  second month continuation chart which tends to be somewhat microfocused perhaps too much on short term behavior  while shortterm behavior remains an important consideration and particularly so relative to the ever powerful cta community a look at the weekly chart undeniably tells a slightly different tale about the longer term health of the current en vironmen t in cocoa  in short it just isn’t the tale of woe that the daily chart speaks of and one that likely reflects a market that is  more in relative balance and one that is only now trying to answer the question of what magnitude of surplus can or will counterbalance the cur rent crop drawdown  in other words the reflection is of a market that is much more sd neutral at present then perhaps recent price action o r current marketwide new crop projections surplus surplus and surplus may be reflecting  obviously that could change quit e quickl y and particularly as we’re bumping along the bottom again but until then the jury probably remains undecided  something not to  forge t is that the purportedly imminent surplus will mainly be embedded in the mids and its still only early september…  otherwise opinionated musing aside there wasn’t much else to talk about today as the market and even the newswires remained fairly devoi d of fresh news  there was another news story as reported by bloomberg that one of the weather services has observed precipitation in cote d’ivoire running  above average  whether accurate or not few know but if nothing else it may have attracted some attentio n from some of those demon systems scouring the newswires for something to trade on  last feature of note in the us market today wa s on a contrary note\n",
      "                      \u001b[0m\n",
      "Prompt after formatting:\n",
      "\u001b[32;1m\u001b[1;3m\n",
      "                      Write a summary of this chunk of text that includes the main points and any important details.\n",
      "                      for something to trade on  last feature of note in the us market today wa s on a contrary note to the bearish price action on the daily chart and the aforementioned cropfavorable weather story  that was t he trading of  lots of a mar  call spread at  basis  with a smallish  delta  we’ll assume that paper bought  and di d so expressly on the basis of the aforementioned weekly chart…      london continues to trade in a consolidated manner as a battle between system related sellers and trade related buyers failed to gai n traction in either direction  technical and trade related buyers appeared from the onset quickly driving the market into posit ive territory after failing to penetrate the  day moving average  basis dec this rally quickly deteriorated as a steady stream of syste m related selling brought the market back to unchanged levels  currency related buyers joined the fray to due to a weaker pound preventing further slippage despite another bout of system related selling as the market ultimately closed above the  day moving average   basis dec   the pound fell against the greenback for the first time in six sessions due to concerns over the potential rate cuts by the bank of england  in structure activity sepdec stabilized for the time being after seeing the majority of its premium van ish ove r the past week closing at  premium  in the options arena the dec  put spread remains a focus as  lots traded  basis  with another  lots of the aforementioned strategy exchanging hands in the previous trading session\n",
      "                      \u001b[0m\n",
      "Prompt after formatting:\n",
      "\u001b[32;1m\u001b[1;3m\n",
      "                      Write a summary of this chunk of text that includes the main points and any important details.\n",
      "                      joseph p mallaney   todd c lunstead michael dann jonathan proctor andrew proctor michael juliano devon dinneen jamie ball graham phillipsindex  net com   net ls com delaware trade at settlement  open interest      new  york  spreads      friday february   cocoa market report open interest   oi nr  com    net ls oi     valid certs       albany hampton roads  baltimore totalkey rates dateldn volumes ny volumes      london  spreads      suprt  res ice tas volumes net chngfeb     may new york  feb        while the net changes mask some of the extremities it was another volatile  affair for the cocoa markets with both extrinsic and extrinsic factors driving  another day of erratic high volume trading  as has been standard practice this week  in this direction or in reverse  prices opened firm sold off rallied the n  repeated the whole process skyrocketing realized volatility as indicated in the charts to the right ice just increased margins again  though expanded implied volatilities in the options market continue to trade at a steep discount an odd quirk that was last prevalent with any consistency in the first quarter o f    in the news reuters released a poll of thirteen participants with not one forecasting a surplus for the  mean balance sheet estimates equated to a sizable  mt deficit with prices again on average expected to top £ and  by year end  with such a sweeping consensus it is a  bit  surprising that prices have plunged approximately £  from their peaks  in less than two months  blame the macro environment perha ps but those are  ginormous downturns should those shortfalls actualize but potentially valid  should they not  options expiration in new york likely exacerbated the  volatility with the market crisscrossing  the  strike tw ice in the session where more than  contracts remained open between both puts and calls though the closing price  was safely nestled  between the two closest  strikes a post settlement rally and last print of  in mar leaves the window for some illogicals and perhaps an explosive start to the week – like  any other catalyst was really needed  on a final note commitments data fro m the cftc showed a  lots reduction in net length from the large  speculative category  sourced from a combination of long liquidation and new short selling net holdings in this segment have fallen to the smallest level  since april   one curious component within the report was the sizable presence of indexes that bought nearly  gross contracts\n",
      "                      \u001b[0m\n",
      "Prompt after formatting:\n",
      "\u001b[32;1m\u001b[1;3m\n",
      "                      Write a summary of this chunk of text that includes the main points and any important details.\n",
      "                      component within the report was the sizable presence of indexes that bought nearly  gross contracts over the volatile  period  looking across the other commodities indexes were buyers in  out of  reported products  have a good weekend\n",
      "                      \u001b[0m\n",
      "Prompt after formatting:\n",
      "\u001b[32;1m\u001b[1;3m\n",
      "                      Write a summary of this chunk of text that includes the main points and any important details.\n",
      "                      valid certs        alban y hampton roads  baltimore totalkey rates dateldn volumes ny volumes      london  spreads      suprt  res ice tas net chngjul     dec new york  jul        in london the market posted a light volume inside day as prices continued to trend downward since  peaking last week  despite a modest rebound in sterling prices still managed to trade roughly  higher  with the curve strengthening  sepdec added £ albeit on little more than  lots  nevertheless a  break above friday’s high would be required to generate any potential technical strength by activating a  potential bull flag  untilif then the market continues to absorb poor comparative arrivals data as well as wait  for further clarifications on next year’s crop  regarding the former local exporters in the ivory coas t  estimated that  mts reached the countries ports through july th compared to  mts at the same  juncture last season  this discrepancy helped widen to the output gap in the world’s top producer to nearl y   mts according to reuters  other news services had the spread even wider which does at least yield some fundamental justification for current price levels particularly with positive grind figures reported out o f  europe and north america  while the later might present a misrepresentation of global processing the  headline data along with an inverted curve does allude to an undersupplied market  on a final notecommitments data released by the exchange revealed managed money positions decreased by  lots net with options as prices touched new multidecade highs over the reporting period      in new york the market gapped higher on the open due to an initial bout of technical buying  this rall y  failed to gain steam as a steady barrage of commercial selling prevented any further upside momentum for the duration leaving the market in an inside day formation  perhaps the most interesting action occurred in nearb y structure as sepdec’s premium continues to erode  sepdec traded as low as  premium and couldhave further room to weaken with a growing net spec long position  lots that is mainly concentrated in  sep  there has been minor activity in the grading room with  lots in the queue and  lots passing thus far  in the fundamental news front brazilian arrivals were  tonnes for the second quarter down  from the previous year  tonnes\n",
      "                      \u001b[0m\n",
      "\n",
      "\u001b[1m> Finished chain.\u001b[0m\n",
      "\n",
      "\n",
      "\u001b[1m> Entering new LLMChain chain...\u001b[0m\n",
      "Prompt after formatting:\n",
      "\u001b[32;1m\u001b[1;3m\n",
      "                      Write a concise summary of the following text delimited by triple backquotes.\n",
      "                      Return your response in bullet points which covers the key points of the text.\n",
      "                      ```\n",
      "This chunk of text discusses the cocoa market report from Monday, October. It mentions that open interest and spreads were important factors in driving the market down, along with system-related selling and discretionary fund liquidation. The market found support at a certain level, but there were potential sell stops lurking. The fundamental news did not indicate a sell-off, and the net spec long position diminished. In New York, prices suffered even greater losses, with the front month spread plunging and surrendering a third of its premium. The inverted structure and short-term physical tightness were inconsistent with recent downward movements in flat price. The erosion on decmar compounded the overall market weakness and likely emboldened the systematic community. From a technical perspective, today's price activity was utter devastation.\n",
      "\n",
      "\n",
      "Today's price activity was extremely negative, with prices falling below recent lows and futures dropping beyond a double bottom on the weekly charts. Momentum indicators suggest a potential relief rally, but recent upward bounces have been short-lived as the market focuses on this season's potential surplus. In the options market, New York saw high volume, with notable trades including March puts and December call spreads. The latter traded at a volatility premium, indicating a strong aversion to giving up gamma. Volatilities on short-dated futures and options have converged, but March implieds were trading at a discount to historicals, suggesting a potential slowdown or mispricing.\n",
      "\n",
      "\n",
      "This text discusses the recent volatility in cocoa prices, which saw significant losses followed by a strong recovery. The decline was attributed to a poor macroeconomic climate, while the rebound was aided by value-based buying, short covering, and a positive chart signal. Despite the decline, open interest remained stable and trading volumes were high, with options trading also seeing significant activity. This had an impact on implied volatilities, which increased by about 20% on both the London and New York markets. The CFTC commitments figures showed a smaller-than-expected reduction in speculative positions, suggesting that further selling from this group may occur in the future. \n",
      "\n",
      "\n",
      "The text discusses the current state of the cocoa market in New York and London. It mentions the names of several individuals involved in the market, as well as key rates and trade settlements. The text also notes that the market is currently in a state of surplus, but the extent of this surplus is still uncertain. The daily chart shows a negative trend, but the weekly chart tells a different story. The text also mentions a news story about above-average precipitation in Cote d'Ivoire, which may have attracted attention from traders. Overall, the market is currently in a state of relative balance, but this could change quickly. There was not much else to report on in the market today.\n",
      "\n",
      "\n",
      "This text discusses the trading activity in the US and London markets, with a focus on the agricultural market. In the US, there was a bearish price action on the daily chart, but a bullish trading of a call spread at a smallish delta. In London, the market was consolidated due to a battle between system-related sellers and trade-related buyers. Technical and trade-related buyers initially drove the market into positive territory, but it ultimately closed above the  day moving average. The pound fell against the greenback due to concerns over potential rate cuts by the Bank of England. In the options arena, the dec put spread remains a focus with a large amount of trading activity.\n",
      "\n",
      "\n",
      "This chunk of text discusses the cocoa market report for Friday, February, focusing on open interest, spreads, key rates, volumes, and net changes. The report highlights the volatility of the market, with both intrinsic and extrinsic factors driving high volume trading. Reuters released a poll showing a consensus of a deficit in the market, but prices have still dropped significantly in the past two months. The market also saw a lot of activity in options expiration, with a large number of open contracts. The CFTC's commitments data showed a decrease in net length from large speculative traders, with a notable presence of indexes buying contracts.\n",
      "\n",
      "\n",
      "The main point of this text is that there was a significant amount of index buying during a volatile period, with nearly gross contracts being bought. This was seen across various commodities indexes, with buyers in out of reported products. The text ends with a casual remark about having a good weekend.\n",
      "\n",
      "\n",
      "\n",
      "The text discusses the current state of the market for valid certificates in various locations, including London, New York, and Brazil. In London, prices have been trending downward since last week, but there was a modest rebound in sterling prices. The market is waiting for further clarification on next year's crop and is absorbing poor comparative arrivals data. In New York, the market gapped higher on the open due to technical buying, but commercial selling prevented further upside momentum. The spread between September and December contracts continues to erode, and there is a growing net spec long position in September. In the grading room, there have been  lots in the queue and  lots passing so far. In Brazil, arrivals were down from the previous year.```\n",
      "                      BULLET POINT SUMMARY:\n",
      "                      \u001b[0m\n",
      "\n",
      "\u001b[1m> Finished chain.\u001b[0m\n",
      "\n",
      "\u001b[1m> Finished chain.\u001b[0m\n",
      "CPU times: user 48.8 ms, sys: 3.13 ms, total: 51.9 ms\n",
      "Wall time: 5.6 s\n"
     ]
    }
   ],
   "source": [
    "%%time\n",
    "map_reduce_outputs = map_reduce_chain({\"input_documents\": docs})"
   ]
  },
  {
   "cell_type": "code",
   "execution_count": 27,
   "id": "ee4cec27-4a25-4911-9fe3-98596de70e8f",
   "metadata": {},
   "outputs": [
    {
     "data": {
      "text/plain": [
       "{'input_documents': [Document(page_content='trade at settlement     open interest      new  york  spreads      monday october     cocoa market report  open interest    oi nr  com     index      net com   net ls com  delaware       in london a heavy bout of system related sell ing and discretionary fund liquidation were the mai n culprits in driving the ma rket  down  basis the front month  system related selling appeared from the onset eventually  penetrating  basis mar the   day moving average electing multiple sell stop s in the process a selling vacuum ensued as spec l iquidation added a furt her leg  lower with market finally finding support at  b asis mar  trade related buyers prevented the market from brea king through   basis mar the recent low where many potent ial sell stops could be lurking for the duration of  the trading session n earby  structure finally showed signs of weakness during the flat price sell off as its prem ium quickly deteriorated with decmar  closing at  premium and marmay moving into c ontango settlling at  discount   the fundamental news front did not give  any indication of an imminent sell off with an expe cted low arrivals figure in the ivory coast  arrivals in the ivory coast were down   in in the first week of the  in compar ison to the same time frame last year exporters est imated  tonnes a rrived  from oct  st  till  th  down from  tonnes last year according to reu ters  the latest cot report also did not provide any  justification for the sell off as the net spec long position diminished by a m ere  lots and now stands at  lots       augmented by another downtick in sterling pri ces in new york suffered even greater losses with t he first position slumping  more than  while the second month fell nearly    as was the case abroad the front month spread got annihilated plunging   points and surrendering a third of its premium i n one fell swoop  that swoop included more transac tions  transactions   almost none of which traded tas equating to massiv e volumes for a non “roll” period  the inverted st ructure and the short term  physical tightness it represented had been the gra nd inconsistency to recent downward movements in flat price  while still trading  at a  premium the erosion on decmar compounded the overall marke t weakness and likely emboldened the systematic  community that embraced one sell signal after the n ext  from a technical perspective today’s price a ctivity was simply utter  devastation  not only did prices basis the second  month'),\n",
       "  Document(page_content='today’s price a ctivity was simply utter  devastation  not only did prices basis the second  month continuation take out the recently lows fu tures fell beyond an early   double bottom on the weekly charts  this leap into  the abyss occurred as momentum indicators slid jus t north of oversold conditions   which could point to a potential relief rally  how ever even if that is the case since midaugust ea ch upward bounce has proved  short lived as the market focuses more on this seas on’s potential surplus and less on past deficits  in the options space new york  was surprisingly the volume leader with highlights including  mar  puts and  dec   call spr eads   interesting the latter traded at an almost  vola tility premium to the near strike indicating a stro ng aversion to relinquish gamma  – which make sense given the fact that prices moved m ultiple standard deviations today and have endure five different moves in  excess of  over last  trading days  while vola tilities on the short dated futures and options hav e exhibited convergence  mar  implieds were trading at a more than  discount to historicals suggesting either a looming slowdown or  a mispricing'),\n",
       "  Document(page_content='to say the least it was a violent week for cocoa with prices netting losses of £ respectively yet still rallying nearly points in each market off the lows charted yesterday leaving the recover y almost as equally impressive as the decline  as discussed a shoddy macro backdrop steamrolling of the  equity and commodity markets solid arrivals and perhaps an element of compulsory hedging accelerated the path lower taking prices deep into oversold territory by midweek  value based buying short coveringand a positive chart signal helped catapult prices off the lows with a weaker trending sterling providing the  additional boost for the london market  regarding short covering one other curious aspect of trading this  week involved open interest which remained curiously stable throughout the decline with any material offsets of positions only registered after the market rebounded yesterday  volumes by themselves were  another key feature with each platform averaging about  contracts a day  in theory the market churned over the entire annual global output plus a residual ghana crop in a week’s time  options  volumes kept pace as well with equivalent weekly trading on the two platforms nearly matching the entire ivorian harvest – monstrous figures  all that activity imparted a noticeable impact on implied volatilitiesthat were up about  to  on the mar contract in london and new york respectively  on a final note today’s much anticipated cftc commitments figures revealed a less than expected reduction in ne t  speculative length  lots given the point drop and massive turnover in the later part of the  reporting period  granted rebalancing periods had not commenced but index positions hardly budge d  refuting some beliefs that selling from these entities  due to the general rout in commodities was partl y  responsible for the price activity  leading into next week this could leave the window open for furthe r selling from this camp given the drawdowns across the asset class  have a good weekend'),\n",
       "  Document(page_content='joseph p mallaney   todd c lunstead michael dann jonathan proctor andrew proctor michael juliano devon dinneen jamie ball graham phillipsdateldn volumes ny volumes      london  spreads      suprt  res ice tas  sepnet chngaug     dec new york  sep   valid certs        alban y hampton roads  baltimore totalkey rates        trade at settlement    open interest      new  york  spreads      wednesday september   cocoa market report open interest   oi nr  com  net com   net ls com delaware      in the us market an outside day lower back through the mini  day uptrend put a fairly negative spin on the trading ses sion today the trading volume wasn’t great but the price action alone arguably stood out as yet another technical failure in cocoa  to b e fair tha t analysis is basis the daily  second month continuation chart which tends to be somewhat microfocused perhaps too much on short term behavior  while shortterm behavior remains an important consideration and particularly so relative to the ever powerful cta community a look at the weekly chart undeniably tells a slightly different tale about the longer term health of the current en vironmen t in cocoa  in short it just isn’t the tale of woe that the daily chart speaks of and one that likely reflects a market that is  more in relative balance and one that is only now trying to answer the question of what magnitude of surplus can or will counterbalance the cur rent crop drawdown  in other words the reflection is of a market that is much more sd neutral at present then perhaps recent price action o r current marketwide new crop projections surplus surplus and surplus may be reflecting  obviously that could change quit e quickl y and particularly as we’re bumping along the bottom again but until then the jury probably remains undecided  something not to  forge t is that the purportedly imminent surplus will mainly be embedded in the mids and its still only early september…  otherwise opinionated musing aside there wasn’t much else to talk about today as the market and even the newswires remained fairly devoi d of fresh news  there was another news story as reported by bloomberg that one of the weather services has observed precipitation in cote d’ivoire running  above average  whether accurate or not few know but if nothing else it may have attracted some attentio n from some of those demon systems scouring the newswires for something to trade on  last feature of note in the us market today wa s on a contrary note'),\n",
       "  Document(page_content='for something to trade on  last feature of note in the us market today wa s on a contrary note to the bearish price action on the daily chart and the aforementioned cropfavorable weather story  that was t he trading of  lots of a mar  call spread at  basis  with a smallish  delta  we’ll assume that paper bought  and di d so expressly on the basis of the aforementioned weekly chart…      london continues to trade in a consolidated manner as a battle between system related sellers and trade related buyers failed to gai n traction in either direction  technical and trade related buyers appeared from the onset quickly driving the market into posit ive territory after failing to penetrate the  day moving average  basis dec this rally quickly deteriorated as a steady stream of syste m related selling brought the market back to unchanged levels  currency related buyers joined the fray to due to a weaker pound preventing further slippage despite another bout of system related selling as the market ultimately closed above the  day moving average   basis dec   the pound fell against the greenback for the first time in six sessions due to concerns over the potential rate cuts by the bank of england  in structure activity sepdec stabilized for the time being after seeing the majority of its premium van ish ove r the past week closing at  premium  in the options arena the dec  put spread remains a focus as  lots traded  basis  with another  lots of the aforementioned strategy exchanging hands in the previous trading session'),\n",
       "  Document(page_content='joseph p mallaney   todd c lunstead michael dann jonathan proctor andrew proctor michael juliano devon dinneen jamie ball graham phillipsindex  net com   net ls com delaware trade at settlement  open interest      new  york  spreads      friday february   cocoa market report open interest   oi nr  com    net ls oi     valid certs       albany hampton roads  baltimore totalkey rates dateldn volumes ny volumes      london  spreads      suprt  res ice tas volumes net chngfeb     may new york  feb        while the net changes mask some of the extremities it was another volatile  affair for the cocoa markets with both extrinsic and extrinsic factors driving  another day of erratic high volume trading  as has been standard practice this week  in this direction or in reverse  prices opened firm sold off rallied the n  repeated the whole process skyrocketing realized volatility as indicated in the charts to the right ice just increased margins again  though expanded implied volatilities in the options market continue to trade at a steep discount an odd quirk that was last prevalent with any consistency in the first quarter o f    in the news reuters released a poll of thirteen participants with not one forecasting a surplus for the  mean balance sheet estimates equated to a sizable  mt deficit with prices again on average expected to top £ and  by year end  with such a sweeping consensus it is a  bit  surprising that prices have plunged approximately £  from their peaks  in less than two months  blame the macro environment perha ps but those are  ginormous downturns should those shortfalls actualize but potentially valid  should they not  options expiration in new york likely exacerbated the  volatility with the market crisscrossing  the  strike tw ice in the session where more than  contracts remained open between both puts and calls though the closing price  was safely nestled  between the two closest  strikes a post settlement rally and last print of  in mar leaves the window for some illogicals and perhaps an explosive start to the week – like  any other catalyst was really needed  on a final note commitments data fro m the cftc showed a  lots reduction in net length from the large  speculative category  sourced from a combination of long liquidation and new short selling net holdings in this segment have fallen to the smallest level  since april   one curious component within the report was the sizable presence of indexes that bought nearly  gross contracts'),\n",
       "  Document(page_content='component within the report was the sizable presence of indexes that bought nearly  gross contracts over the volatile  period  looking across the other commodities indexes were buyers in  out of  reported products  have a good weekend'),\n",
       "  Document(page_content='valid certs        alban y hampton roads  baltimore totalkey rates dateldn volumes ny volumes      london  spreads      suprt  res ice tas net chngjul     dec new york  jul        in london the market posted a light volume inside day as prices continued to trend downward since  peaking last week  despite a modest rebound in sterling prices still managed to trade roughly  higher  with the curve strengthening  sepdec added £ albeit on little more than  lots  nevertheless a  break above friday’s high would be required to generate any potential technical strength by activating a  potential bull flag  untilif then the market continues to absorb poor comparative arrivals data as well as wait  for further clarifications on next year’s crop  regarding the former local exporters in the ivory coas t  estimated that  mts reached the countries ports through july th compared to  mts at the same  juncture last season  this discrepancy helped widen to the output gap in the world’s top producer to nearl y   mts according to reuters  other news services had the spread even wider which does at least yield some fundamental justification for current price levels particularly with positive grind figures reported out o f  europe and north america  while the later might present a misrepresentation of global processing the  headline data along with an inverted curve does allude to an undersupplied market  on a final notecommitments data released by the exchange revealed managed money positions decreased by  lots net with options as prices touched new multidecade highs over the reporting period      in new york the market gapped higher on the open due to an initial bout of technical buying  this rall y  failed to gain steam as a steady barrage of commercial selling prevented any further upside momentum for the duration leaving the market in an inside day formation  perhaps the most interesting action occurred in nearb y structure as sepdec’s premium continues to erode  sepdec traded as low as  premium and couldhave further room to weaken with a growing net spec long position  lots that is mainly concentrated in  sep  there has been minor activity in the grading room with  lots in the queue and  lots passing thus far  in the fundamental news front brazilian arrivals were  tonnes for the second quarter down  from the previous year  tonnes')],\n",
       " 'output_text': \"\\n- Cocoa market report from Monday, October\\n- Factors driving market down: open interest, spreads, system-related selling, discretionary fund liquidation\\n- Market found support at certain level, but potential sell stops lurking\\n- Fundamental news did not indicate sell-off, net spec long position diminished\\n- New York prices suffered greater losses, front month spread plunged and surrendered a third of its premium\\n- Inverted structure and short-term physical tightness inconsistent with recent downward movements in flat price\\n- Erosion on decmar compounded overall market weakness and emboldened systematic community\\n- Today's price activity was utter devastation from technical perspective\\n- Extremely negative price activity, falling below recent lows and dropping beyond double bottom on weekly charts\\n- Momentum indicators suggest potential relief rally, but market focused on potential surplus\\n- High volume in options market, notable trades including March puts and December call spreads\\n- New York market saw increase in implied volatilities, potential slowdown or mispricing\\n- Decline in cocoa prices attributed to poor macroeconomic climate, rebound aided by value-based buying, short covering, and positive chart signal\\n- Open interest remained stable, high trading volumes and activity in options market\\n- CFTC commitments figures showed smaller-than-expected reduction in speculative positions,\"}"
      ]
     },
     "execution_count": 27,
     "metadata": {},
     "output_type": "execute_result"
    }
   ],
   "source": [
    "map_reduce_outputs"
   ]
  },
  {
   "cell_type": "code",
   "execution_count": 29,
   "id": "4e1fa591-6a49-4889-b279-e4758ac2e8c2",
   "metadata": {},
   "outputs": [
    {
     "data": {
      "text/plain": [
       "dict_keys(['input_documents', 'output_text'])"
      ]
     },
     "execution_count": 29,
     "metadata": {},
     "output_type": "execute_result"
    }
   ],
   "source": [
    "map_reduce_outputs.keys()"
   ]
  },
  {
   "cell_type": "code",
   "execution_count": 31,
   "id": "08e630b5-3b12-4efb-a2f6-0f459f0a7cee",
   "metadata": {},
   "outputs": [
    {
     "name": "stdout",
     "output_type": "stream",
     "text": [
      "\n",
      "- Cocoa market report from Monday, October\n",
      "- Factors driving market down: open interest, spreads, system-related selling, discretionary fund liquidation\n",
      "- Market found support at certain level, but potential sell stops lurking\n",
      "- Fundamental news did not indicate sell-off, net spec long position diminished\n",
      "- New York prices suffered greater losses, front month spread plunged and surrendered a third of its premium\n",
      "- Inverted structure and short-term physical tightness inconsistent with recent downward movements in flat price\n",
      "- Erosion on decmar compounded overall market weakness and emboldened systematic community\n",
      "- Today's price activity was utter devastation from technical perspective\n",
      "- Extremely negative price activity, falling below recent lows and dropping beyond double bottom on weekly charts\n",
      "- Momentum indicators suggest potential relief rally, but market focused on potential surplus\n",
      "- High volume in options market, notable trades including March puts and December call spreads\n",
      "- New York market saw increase in implied volatilities, potential slowdown or mispricing\n",
      "- Decline in cocoa prices attributed to poor macroeconomic climate, rebound aided by value-based buying, short covering, and positive chart signal\n",
      "- Open interest remained stable, high trading volumes and activity in options market\n",
      "- CFTC commitments figures showed smaller-than-expected reduction in speculative positions,\n"
     ]
    }
   ],
   "source": [
    "print(map_reduce_outputs[\"output_text\"])"
   ]
  },
  {
   "cell_type": "code",
   "execution_count": 11,
   "id": "b9ed8f52-31dd-4040-9a5a-5170324b17b6",
   "metadata": {},
   "outputs": [
    {
     "name": "stderr",
     "output_type": "stream",
     "text": [
      "/home/quentin/.pyenv/versions/3.10.6/envs/weather_checker/lib/python3.10/site-packages/tqdm/auto.py:21: TqdmWarning: IProgress not found. Please update jupyter and ipywidgets. See https://ipywidgets.readthedocs.io/en/stable/user_install.html\n",
      "  from .autonotebook import tqdm as notebook_tqdm\n"
     ]
    },
    {
     "name": "stdout",
     "output_type": "stream",
     "text": [
      "Now we have 8 documents and the first one has 584 tokens\n"
     ]
    }
   ],
   "source": [
    "#trying map_reduce with local llm\n",
    "# create LLM chain\n",
    "map_reduce_chain_local = load_summarize_chain(\n",
    "    llm,\n",
    "    chain_type=\"map_reduce\",\n",
    "    map_prompt=map_prompt,\n",
    "    combine_prompt=combine_prompt,\n",
    "    return_intermediate_steps=False,\n",
    "    verbose=True\n",
    ")\n",
    "num_docs = len(docs)\n",
    "num_tokens_first_doc = llm.get_num_tokens(docs[0].page_content)\n",
    "print (f\"Now we have {num_docs} documents and the first one has {num_tokens_first_doc} tokens\")"
   ]
  },
  {
   "cell_type": "code",
   "execution_count": null,
   "id": "a2303754-e7c1-441b-a045-3cdd5e62e869",
   "metadata": {},
   "outputs": [
    {
     "name": "stdout",
     "output_type": "stream",
     "text": [
      "\n",
      "\n",
      "\u001b[1m> Entering new MapReduceDocumentsChain chain...\u001b[0m\n",
      "\n",
      "\n",
      "\u001b[1m> Entering new LLMChain chain...\u001b[0m\n",
      "Prompt after formatting:\n",
      "\u001b[32;1m\u001b[1;3m\n",
      "                      Write a summary of this chunk of text that includes the main points and any important details.\n",
      "                      trade at settlement     open interest      new  york  spreads      monday october     cocoa market report  open interest    oi nr  com     index      net com   net ls com  delaware       in london a heavy bout of system related sell ing and discretionary fund liquidation were the mai n culprits in driving the ma rket  down  basis the front month  system related selling appeared from the onset eventually  penetrating  basis mar the   day moving average electing multiple sell stop s in the process a selling vacuum ensued as spec l iquidation added a furt her leg  lower with market finally finding support at  b asis mar  trade related buyers prevented the market from brea king through   basis mar the recent low where many potent ial sell stops could be lurking for the duration of  the trading session n earby  structure finally showed signs of weakness during the flat price sell off as its prem ium quickly deteriorated with decmar  closing at  premium and marmay moving into c ontango settlling at  discount   the fundamental news front did not give  any indication of an imminent sell off with an expe cted low arrivals figure in the ivory coast  arrivals in the ivory coast were down   in in the first week of the  in compar ison to the same time frame last year exporters est imated  tonnes a rrived  from oct  st  till  th  down from  tonnes last year according to reu ters  the latest cot report also did not provide any  justification for the sell off as the net spec long position diminished by a m ere  lots and now stands at  lots       augmented by another downtick in sterling pri ces in new york suffered even greater losses with t he first position slumping  more than  while the second month fell nearly    as was the case abroad the front month spread got annihilated plunging   points and surrendering a third of its premium i n one fell swoop  that swoop included more transac tions  transactions   almost none of which traded tas equating to massiv e volumes for a non “roll” period  the inverted st ructure and the short term  physical tightness it represented had been the gra nd inconsistency to recent downward movements in flat price  while still trading  at a  premium the erosion on decmar compounded the overall marke t weakness and likely emboldened the systematic  community that embraced one sell signal after the n ext  from a technical perspective today’s price a ctivity was simply utter  devastation  not only did prices basis the second  month\n",
      "                      \u001b[0m\n",
      "Prompt after formatting:\n",
      "\u001b[32;1m\u001b[1;3m\n",
      "                      Write a summary of this chunk of text that includes the main points and any important details.\n",
      "                      today’s price a ctivity was simply utter  devastation  not only did prices basis the second  month continuation take out the recently lows fu tures fell beyond an early   double bottom on the weekly charts  this leap into  the abyss occurred as momentum indicators slid jus t north of oversold conditions   which could point to a potential relief rally  how ever even if that is the case since midaugust ea ch upward bounce has proved  short lived as the market focuses more on this seas on’s potential surplus and less on past deficits  in the options space new york  was surprisingly the volume leader with highlights including  mar  puts and  dec   call spr eads   interesting the latter traded at an almost  vola tility premium to the near strike indicating a stro ng aversion to relinquish gamma  – which make sense given the fact that prices moved m ultiple standard deviations today and have endure five different moves in  excess of  over last  trading days  while vola tilities on the short dated futures and options hav e exhibited convergence  mar  implieds were trading at a more than  discount to historicals suggesting either a looming slowdown or  a mispricing\n",
      "                      \u001b[0m\n",
      "Prompt after formatting:\n",
      "\u001b[32;1m\u001b[1;3m\n",
      "                      Write a summary of this chunk of text that includes the main points and any important details.\n",
      "                      to say the least it was a violent week for cocoa with prices netting losses of £ respectively yet still rallying nearly points in each market off the lows charted yesterday leaving the recover y almost as equally impressive as the decline  as discussed a shoddy macro backdrop steamrolling of the  equity and commodity markets solid arrivals and perhaps an element of compulsory hedging accelerated the path lower taking prices deep into oversold territory by midweek  value based buying short coveringand a positive chart signal helped catapult prices off the lows with a weaker trending sterling providing the  additional boost for the london market  regarding short covering one other curious aspect of trading this  week involved open interest which remained curiously stable throughout the decline with any material offsets of positions only registered after the market rebounded yesterday  volumes by themselves were  another key feature with each platform averaging about  contracts a day  in theory the market churned over the entire annual global output plus a residual ghana crop in a week’s time  options  volumes kept pace as well with equivalent weekly trading on the two platforms nearly matching the entire ivorian harvest – monstrous figures  all that activity imparted a noticeable impact on implied volatilitiesthat were up about  to  on the mar contract in london and new york respectively  on a final note today’s much anticipated cftc commitments figures revealed a less than expected reduction in ne t  speculative length  lots given the point drop and massive turnover in the later part of the  reporting period  granted rebalancing periods had not commenced but index positions hardly budge d  refuting some beliefs that selling from these entities  due to the general rout in commodities was partl y  responsible for the price activity  leading into next week this could leave the window open for furthe r selling from this camp given the drawdowns across the asset class  have a good weekend\n",
      "                      \u001b[0m\n",
      "Prompt after formatting:\n",
      "\u001b[32;1m\u001b[1;3m\n",
      "                      Write a summary of this chunk of text that includes the main points and any important details.\n",
      "                      joseph p mallaney   todd c lunstead michael dann jonathan proctor andrew proctor michael juliano devon dinneen jamie ball graham phillipsdateldn volumes ny volumes      london  spreads      suprt  res ice tas  sepnet chngaug     dec new york  sep   valid certs        alban y hampton roads  baltimore totalkey rates        trade at settlement    open interest      new  york  spreads      wednesday september   cocoa market report open interest   oi nr  com  net com   net ls com delaware      in the us market an outside day lower back through the mini  day uptrend put a fairly negative spin on the trading ses sion today the trading volume wasn’t great but the price action alone arguably stood out as yet another technical failure in cocoa  to b e fair tha t analysis is basis the daily  second month continuation chart which tends to be somewhat microfocused perhaps too much on short term behavior  while shortterm behavior remains an important consideration and particularly so relative to the ever powerful cta community a look at the weekly chart undeniably tells a slightly different tale about the longer term health of the current en vironmen t in cocoa  in short it just isn’t the tale of woe that the daily chart speaks of and one that likely reflects a market that is  more in relative balance and one that is only now trying to answer the question of what magnitude of surplus can or will counterbalance the cur rent crop drawdown  in other words the reflection is of a market that is much more sd neutral at present then perhaps recent price action o r current marketwide new crop projections surplus surplus and surplus may be reflecting  obviously that could change quit e quickl y and particularly as we’re bumping along the bottom again but until then the jury probably remains undecided  something not to  forge t is that the purportedly imminent surplus will mainly be embedded in the mids and its still only early september…  otherwise opinionated musing aside there wasn’t much else to talk about today as the market and even the newswires remained fairly devoi d of fresh news  there was another news story as reported by bloomberg that one of the weather services has observed precipitation in cote d’ivoire running  above average  whether accurate or not few know but if nothing else it may have attracted some attentio n from some of those demon systems scouring the newswires for something to trade on  last feature of note in the us market today wa s on a contrary note\n",
      "                      \u001b[0m\n",
      "Prompt after formatting:\n",
      "\u001b[32;1m\u001b[1;3m\n",
      "                      Write a summary of this chunk of text that includes the main points and any important details.\n",
      "                      for something to trade on  last feature of note in the us market today wa s on a contrary note to the bearish price action on the daily chart and the aforementioned cropfavorable weather story  that was t he trading of  lots of a mar  call spread at  basis  with a smallish  delta  we’ll assume that paper bought  and di d so expressly on the basis of the aforementioned weekly chart…      london continues to trade in a consolidated manner as a battle between system related sellers and trade related buyers failed to gai n traction in either direction  technical and trade related buyers appeared from the onset quickly driving the market into posit ive territory after failing to penetrate the  day moving average  basis dec this rally quickly deteriorated as a steady stream of syste m related selling brought the market back to unchanged levels  currency related buyers joined the fray to due to a weaker pound preventing further slippage despite another bout of system related selling as the market ultimately closed above the  day moving average   basis dec   the pound fell against the greenback for the first time in six sessions due to concerns over the potential rate cuts by the bank of england  in structure activity sepdec stabilized for the time being after seeing the majority of its premium van ish ove r the past week closing at  premium  in the options arena the dec  put spread remains a focus as  lots traded  basis  with another  lots of the aforementioned strategy exchanging hands in the previous trading session\n",
      "                      \u001b[0m\n",
      "Prompt after formatting:\n",
      "\u001b[32;1m\u001b[1;3m\n",
      "                      Write a summary of this chunk of text that includes the main points and any important details.\n",
      "                      joseph p mallaney   todd c lunstead michael dann jonathan proctor andrew proctor michael juliano devon dinneen jamie ball graham phillipsindex  net com   net ls com delaware trade at settlement  open interest      new  york  spreads      friday february   cocoa market report open interest   oi nr  com    net ls oi     valid certs       albany hampton roads  baltimore totalkey rates dateldn volumes ny volumes      london  spreads      suprt  res ice tas volumes net chngfeb     may new york  feb        while the net changes mask some of the extremities it was another volatile  affair for the cocoa markets with both extrinsic and extrinsic factors driving  another day of erratic high volume trading  as has been standard practice this week  in this direction or in reverse  prices opened firm sold off rallied the n  repeated the whole process skyrocketing realized volatility as indicated in the charts to the right ice just increased margins again  though expanded implied volatilities in the options market continue to trade at a steep discount an odd quirk that was last prevalent with any consistency in the first quarter o f    in the news reuters released a poll of thirteen participants with not one forecasting a surplus for the  mean balance sheet estimates equated to a sizable  mt deficit with prices again on average expected to top £ and  by year end  with such a sweeping consensus it is a  bit  surprising that prices have plunged approximately £  from their peaks  in less than two months  blame the macro environment perha ps but those are  ginormous downturns should those shortfalls actualize but potentially valid  should they not  options expiration in new york likely exacerbated the  volatility with the market crisscrossing  the  strike tw ice in the session where more than  contracts remained open between both puts and calls though the closing price  was safely nestled  between the two closest  strikes a post settlement rally and last print of  in mar leaves the window for some illogicals and perhaps an explosive start to the week – like  any other catalyst was really needed  on a final note commitments data fro m the cftc showed a  lots reduction in net length from the large  speculative category  sourced from a combination of long liquidation and new short selling net holdings in this segment have fallen to the smallest level  since april   one curious component within the report was the sizable presence of indexes that bought nearly  gross contracts\n",
      "                      \u001b[0m\n",
      "Prompt after formatting:\n",
      "\u001b[32;1m\u001b[1;3m\n",
      "                      Write a summary of this chunk of text that includes the main points and any important details.\n",
      "                      component within the report was the sizable presence of indexes that bought nearly  gross contracts over the volatile  period  looking across the other commodities indexes were buyers in  out of  reported products  have a good weekend\n",
      "                      \u001b[0m\n",
      "Prompt after formatting:\n",
      "\u001b[32;1m\u001b[1;3m\n",
      "                      Write a summary of this chunk of text that includes the main points and any important details.\n",
      "                      valid certs        alban y hampton roads  baltimore totalkey rates dateldn volumes ny volumes      london  spreads      suprt  res ice tas net chngjul     dec new york  jul        in london the market posted a light volume inside day as prices continued to trend downward since  peaking last week  despite a modest rebound in sterling prices still managed to trade roughly  higher  with the curve strengthening  sepdec added £ albeit on little more than  lots  nevertheless a  break above friday’s high would be required to generate any potential technical strength by activating a  potential bull flag  untilif then the market continues to absorb poor comparative arrivals data as well as wait  for further clarifications on next year’s crop  regarding the former local exporters in the ivory coas t  estimated that  mts reached the countries ports through july th compared to  mts at the same  juncture last season  this discrepancy helped widen to the output gap in the world’s top producer to nearl y   mts according to reuters  other news services had the spread even wider which does at least yield some fundamental justification for current price levels particularly with positive grind figures reported out o f  europe and north america  while the later might present a misrepresentation of global processing the  headline data along with an inverted curve does allude to an undersupplied market  on a final notecommitments data released by the exchange revealed managed money positions decreased by  lots net with options as prices touched new multidecade highs over the reporting period      in new york the market gapped higher on the open due to an initial bout of technical buying  this rall y  failed to gain steam as a steady barrage of commercial selling prevented any further upside momentum for the duration leaving the market in an inside day formation  perhaps the most interesting action occurred in nearb y structure as sepdec’s premium continues to erode  sepdec traded as low as  premium and couldhave further room to weaken with a growing net spec long position  lots that is mainly concentrated in  sep  there has been minor activity in the grading room with  lots in the queue and  lots passing thus far  in the fundamental news front brazilian arrivals were  tonnes for the second quarter down  from the previous year  tonnes\n",
      "                      \u001b[0m\n"
     ]
    },
    {
     "name": "stderr",
     "output_type": "stream",
     "text": [
      "Exception ignored on calling ctypes callback function: <function LLModel._prompt_callback at 0x7f9f37eeb760>\n",
      "Traceback (most recent call last):\n",
      "  File \"/home/quentin/.pyenv/versions/3.10.6/envs/weather_checker/lib/python3.10/site-packages/gpt4all/pyllmodel.py\", line 479, in _prompt_callback\n",
      "    @staticmethod\n",
      "KeyboardInterrupt: \n",
      "Exception ignored on calling ctypes callback function: <function LLModel._prompt_callback at 0x7f9f37eeb760>\n",
      "Traceback (most recent call last):\n",
      "  File \"/home/quentin/.pyenv/versions/3.10.6/envs/weather_checker/lib/python3.10/site-packages/gpt4all/pyllmodel.py\", line 479, in _prompt_callback\n",
      "    @staticmethod\n",
      "KeyboardInterrupt: \n",
      "Exception ignored on calling ctypes callback function: <function LLModel._prompt_callback at 0x7f9f37eeb760>\n",
      "Traceback (most recent call last):\n",
      "  File \"/home/quentin/.pyenv/versions/3.10.6/envs/weather_checker/lib/python3.10/site-packages/gpt4all/pyllmodel.py\", line 479, in _prompt_callback\n",
      "    @staticmethod\n",
      "KeyboardInterrupt: \n"
     ]
    }
   ],
   "source": [
    "%%time\n",
    "map_reduce_outputs_local = map_reduce_chain_local({\"input_documents\": docs})"
   ]
  },
  {
   "cell_type": "code",
   "execution_count": null,
   "id": "b887d74b-b128-47dd-90ce-0dd1d8d01c2d",
   "metadata": {},
   "outputs": [],
   "source": [
    "print(map_reduce_outputs_local[\"output_text\"])"
   ]
  },
  {
   "cell_type": "code",
   "execution_count": null,
   "id": "6838c32d-3660-4ea7-b0a4-6569015d5112",
   "metadata": {},
   "outputs": [],
   "source": [
    "#now using HuggingFace summarisation model"
   ]
  },
  {
   "cell_type": "code",
   "execution_count": 43,
   "id": "718205d2-7c10-462d-bbe4-ecea1fc2a985",
   "metadata": {},
   "outputs": [
    {
     "name": "stderr",
     "output_type": "stream",
     "text": [
      "Token indices sequence length is longer than the specified maximum sequence length for this model (1258 > 1024). Running this sequence through the model will result in indexing errors\n"
     ]
    },
    {
     "ename": "IndexError",
     "evalue": "index out of range in self",
     "output_type": "error",
     "traceback": [
      "\u001b[0;31m---------------------------------------------------------------------------\u001b[0m",
      "\u001b[0;31mIndexError\u001b[0m                                Traceback (most recent call last)",
      "Cell \u001b[0;32mIn[43], line 3\u001b[0m\n\u001b[1;32m      1\u001b[0m \u001b[38;5;28;01mfrom\u001b[39;00m \u001b[38;5;21;01mtransformers\u001b[39;00m \u001b[38;5;28;01mimport\u001b[39;00m pipeline\n\u001b[1;32m      2\u001b[0m pipe_summarise \u001b[38;5;241m=\u001b[39m pipeline(\u001b[38;5;124m\"\u001b[39m\u001b[38;5;124msummarization\u001b[39m\u001b[38;5;124m\"\u001b[39m, model \u001b[38;5;241m=\u001b[39m \u001b[38;5;124m\"\u001b[39m\u001b[38;5;124msshleifer/distilbart-xsum-12-6\u001b[39m\u001b[38;5;124m\"\u001b[39m)\n\u001b[0;32m----> 3\u001b[0m article \u001b[38;5;241m=\u001b[39m \u001b[43mpipe_summarise\u001b[49m\u001b[43m(\u001b[49m\u001b[43mcomments_full_small\u001b[49m\u001b[43m[\u001b[49m\u001b[38;5;241;43m0\u001b[39;49m\u001b[43m]\u001b[49m\u001b[43m)\u001b[49m\n",
      "File \u001b[0;32m~/.pyenv/versions/3.10.6/envs/weather_checker/lib/python3.10/site-packages/transformers/pipelines/text2text_generation.py:269\u001b[0m, in \u001b[0;36mSummarizationPipeline.__call__\u001b[0;34m(self, *args, **kwargs)\u001b[0m\n\u001b[1;32m    245\u001b[0m \u001b[38;5;28;01mdef\u001b[39;00m \u001b[38;5;21m__call__\u001b[39m(\u001b[38;5;28mself\u001b[39m, \u001b[38;5;241m*\u001b[39margs, \u001b[38;5;241m*\u001b[39m\u001b[38;5;241m*\u001b[39mkwargs):\n\u001b[1;32m    246\u001b[0m \u001b[38;5;250m    \u001b[39m\u001b[38;5;124mr\u001b[39m\u001b[38;5;124;03m\"\"\"\u001b[39;00m\n\u001b[1;32m    247\u001b[0m \u001b[38;5;124;03m    Summarize the text(s) given as inputs.\u001b[39;00m\n\u001b[1;32m    248\u001b[0m \n\u001b[0;32m   (...)\u001b[0m\n\u001b[1;32m    267\u001b[0m \u001b[38;5;124;03m          ids of the summary.\u001b[39;00m\n\u001b[1;32m    268\u001b[0m \u001b[38;5;124;03m    \"\"\"\u001b[39;00m\n\u001b[0;32m--> 269\u001b[0m     \u001b[38;5;28;01mreturn\u001b[39;00m \u001b[38;5;28;43msuper\u001b[39;49m\u001b[43m(\u001b[49m\u001b[43m)\u001b[49m\u001b[38;5;241;43m.\u001b[39;49m\u001b[38;5;21;43m__call__\u001b[39;49m\u001b[43m(\u001b[49m\u001b[38;5;241;43m*\u001b[39;49m\u001b[43margs\u001b[49m\u001b[43m,\u001b[49m\u001b[43m \u001b[49m\u001b[38;5;241;43m*\u001b[39;49m\u001b[38;5;241;43m*\u001b[39;49m\u001b[43mkwargs\u001b[49m\u001b[43m)\u001b[49m\n",
      "File \u001b[0;32m~/.pyenv/versions/3.10.6/envs/weather_checker/lib/python3.10/site-packages/transformers/pipelines/text2text_generation.py:167\u001b[0m, in \u001b[0;36mText2TextGenerationPipeline.__call__\u001b[0;34m(self, *args, **kwargs)\u001b[0m\n\u001b[1;32m    138\u001b[0m \u001b[38;5;28;01mdef\u001b[39;00m \u001b[38;5;21m__call__\u001b[39m(\u001b[38;5;28mself\u001b[39m, \u001b[38;5;241m*\u001b[39margs, \u001b[38;5;241m*\u001b[39m\u001b[38;5;241m*\u001b[39mkwargs):\n\u001b[1;32m    139\u001b[0m \u001b[38;5;250m    \u001b[39m\u001b[38;5;124mr\u001b[39m\u001b[38;5;124;03m\"\"\"\u001b[39;00m\n\u001b[1;32m    140\u001b[0m \u001b[38;5;124;03m    Generate the output text(s) using text(s) given as inputs.\u001b[39;00m\n\u001b[1;32m    141\u001b[0m \n\u001b[0;32m   (...)\u001b[0m\n\u001b[1;32m    164\u001b[0m \u001b[38;5;124;03m          ids of the generated text.\u001b[39;00m\n\u001b[1;32m    165\u001b[0m \u001b[38;5;124;03m    \"\"\"\u001b[39;00m\n\u001b[0;32m--> 167\u001b[0m     result \u001b[38;5;241m=\u001b[39m \u001b[38;5;28;43msuper\u001b[39;49m\u001b[43m(\u001b[49m\u001b[43m)\u001b[49m\u001b[38;5;241;43m.\u001b[39;49m\u001b[38;5;21;43m__call__\u001b[39;49m\u001b[43m(\u001b[49m\u001b[38;5;241;43m*\u001b[39;49m\u001b[43margs\u001b[49m\u001b[43m,\u001b[49m\u001b[43m \u001b[49m\u001b[38;5;241;43m*\u001b[39;49m\u001b[38;5;241;43m*\u001b[39;49m\u001b[43mkwargs\u001b[49m\u001b[43m)\u001b[49m\n\u001b[1;32m    168\u001b[0m     \u001b[38;5;28;01mif\u001b[39;00m (\n\u001b[1;32m    169\u001b[0m         \u001b[38;5;28misinstance\u001b[39m(args[\u001b[38;5;241m0\u001b[39m], \u001b[38;5;28mlist\u001b[39m)\n\u001b[1;32m    170\u001b[0m         \u001b[38;5;129;01mand\u001b[39;00m \u001b[38;5;28mall\u001b[39m(\u001b[38;5;28misinstance\u001b[39m(el, \u001b[38;5;28mstr\u001b[39m) \u001b[38;5;28;01mfor\u001b[39;00m el \u001b[38;5;129;01min\u001b[39;00m args[\u001b[38;5;241m0\u001b[39m])\n\u001b[1;32m    171\u001b[0m         \u001b[38;5;129;01mand\u001b[39;00m \u001b[38;5;28mall\u001b[39m(\u001b[38;5;28mlen\u001b[39m(res) \u001b[38;5;241m==\u001b[39m \u001b[38;5;241m1\u001b[39m \u001b[38;5;28;01mfor\u001b[39;00m res \u001b[38;5;129;01min\u001b[39;00m result)\n\u001b[1;32m    172\u001b[0m     ):\n\u001b[1;32m    173\u001b[0m         \u001b[38;5;28;01mreturn\u001b[39;00m [res[\u001b[38;5;241m0\u001b[39m] \u001b[38;5;28;01mfor\u001b[39;00m res \u001b[38;5;129;01min\u001b[39;00m result]\n",
      "File \u001b[0;32m~/.pyenv/versions/3.10.6/envs/weather_checker/lib/python3.10/site-packages/transformers/pipelines/base.py:1162\u001b[0m, in \u001b[0;36mPipeline.__call__\u001b[0;34m(self, inputs, num_workers, batch_size, *args, **kwargs)\u001b[0m\n\u001b[1;32m   1154\u001b[0m     \u001b[38;5;28;01mreturn\u001b[39;00m \u001b[38;5;28mnext\u001b[39m(\n\u001b[1;32m   1155\u001b[0m         \u001b[38;5;28miter\u001b[39m(\n\u001b[1;32m   1156\u001b[0m             \u001b[38;5;28mself\u001b[39m\u001b[38;5;241m.\u001b[39mget_iterator(\n\u001b[0;32m   (...)\u001b[0m\n\u001b[1;32m   1159\u001b[0m         )\n\u001b[1;32m   1160\u001b[0m     )\n\u001b[1;32m   1161\u001b[0m \u001b[38;5;28;01melse\u001b[39;00m:\n\u001b[0;32m-> 1162\u001b[0m     \u001b[38;5;28;01mreturn\u001b[39;00m \u001b[38;5;28;43mself\u001b[39;49m\u001b[38;5;241;43m.\u001b[39;49m\u001b[43mrun_single\u001b[49m\u001b[43m(\u001b[49m\u001b[43minputs\u001b[49m\u001b[43m,\u001b[49m\u001b[43m \u001b[49m\u001b[43mpreprocess_params\u001b[49m\u001b[43m,\u001b[49m\u001b[43m \u001b[49m\u001b[43mforward_params\u001b[49m\u001b[43m,\u001b[49m\u001b[43m \u001b[49m\u001b[43mpostprocess_params\u001b[49m\u001b[43m)\u001b[49m\n",
      "File \u001b[0;32m~/.pyenv/versions/3.10.6/envs/weather_checker/lib/python3.10/site-packages/transformers/pipelines/base.py:1169\u001b[0m, in \u001b[0;36mPipeline.run_single\u001b[0;34m(self, inputs, preprocess_params, forward_params, postprocess_params)\u001b[0m\n\u001b[1;32m   1167\u001b[0m \u001b[38;5;28;01mdef\u001b[39;00m \u001b[38;5;21mrun_single\u001b[39m(\u001b[38;5;28mself\u001b[39m, inputs, preprocess_params, forward_params, postprocess_params):\n\u001b[1;32m   1168\u001b[0m     model_inputs \u001b[38;5;241m=\u001b[39m \u001b[38;5;28mself\u001b[39m\u001b[38;5;241m.\u001b[39mpreprocess(inputs, \u001b[38;5;241m*\u001b[39m\u001b[38;5;241m*\u001b[39mpreprocess_params)\n\u001b[0;32m-> 1169\u001b[0m     model_outputs \u001b[38;5;241m=\u001b[39m \u001b[38;5;28;43mself\u001b[39;49m\u001b[38;5;241;43m.\u001b[39;49m\u001b[43mforward\u001b[49m\u001b[43m(\u001b[49m\u001b[43mmodel_inputs\u001b[49m\u001b[43m,\u001b[49m\u001b[43m \u001b[49m\u001b[38;5;241;43m*\u001b[39;49m\u001b[38;5;241;43m*\u001b[39;49m\u001b[43mforward_params\u001b[49m\u001b[43m)\u001b[49m\n\u001b[1;32m   1170\u001b[0m     outputs \u001b[38;5;241m=\u001b[39m \u001b[38;5;28mself\u001b[39m\u001b[38;5;241m.\u001b[39mpostprocess(model_outputs, \u001b[38;5;241m*\u001b[39m\u001b[38;5;241m*\u001b[39mpostprocess_params)\n\u001b[1;32m   1171\u001b[0m     \u001b[38;5;28;01mreturn\u001b[39;00m outputs\n",
      "File \u001b[0;32m~/.pyenv/versions/3.10.6/envs/weather_checker/lib/python3.10/site-packages/transformers/pipelines/base.py:1068\u001b[0m, in \u001b[0;36mPipeline.forward\u001b[0;34m(self, model_inputs, **forward_params)\u001b[0m\n\u001b[1;32m   1066\u001b[0m     \u001b[38;5;28;01mwith\u001b[39;00m inference_context():\n\u001b[1;32m   1067\u001b[0m         model_inputs \u001b[38;5;241m=\u001b[39m \u001b[38;5;28mself\u001b[39m\u001b[38;5;241m.\u001b[39m_ensure_tensor_on_device(model_inputs, device\u001b[38;5;241m=\u001b[39m\u001b[38;5;28mself\u001b[39m\u001b[38;5;241m.\u001b[39mdevice)\n\u001b[0;32m-> 1068\u001b[0m         model_outputs \u001b[38;5;241m=\u001b[39m \u001b[38;5;28;43mself\u001b[39;49m\u001b[38;5;241;43m.\u001b[39;49m\u001b[43m_forward\u001b[49m\u001b[43m(\u001b[49m\u001b[43mmodel_inputs\u001b[49m\u001b[43m,\u001b[49m\u001b[43m \u001b[49m\u001b[38;5;241;43m*\u001b[39;49m\u001b[38;5;241;43m*\u001b[39;49m\u001b[43mforward_params\u001b[49m\u001b[43m)\u001b[49m\n\u001b[1;32m   1069\u001b[0m         model_outputs \u001b[38;5;241m=\u001b[39m \u001b[38;5;28mself\u001b[39m\u001b[38;5;241m.\u001b[39m_ensure_tensor_on_device(model_outputs, device\u001b[38;5;241m=\u001b[39mtorch\u001b[38;5;241m.\u001b[39mdevice(\u001b[38;5;124m\"\u001b[39m\u001b[38;5;124mcpu\u001b[39m\u001b[38;5;124m\"\u001b[39m))\n\u001b[1;32m   1070\u001b[0m \u001b[38;5;28;01melse\u001b[39;00m:\n",
      "File \u001b[0;32m~/.pyenv/versions/3.10.6/envs/weather_checker/lib/python3.10/site-packages/transformers/pipelines/text2text_generation.py:191\u001b[0m, in \u001b[0;36mText2TextGenerationPipeline._forward\u001b[0;34m(self, model_inputs, **generate_kwargs)\u001b[0m\n\u001b[1;32m    184\u001b[0m     in_b, input_length \u001b[38;5;241m=\u001b[39m tf\u001b[38;5;241m.\u001b[39mshape(model_inputs[\u001b[38;5;124m\"\u001b[39m\u001b[38;5;124minput_ids\u001b[39m\u001b[38;5;124m\"\u001b[39m])\u001b[38;5;241m.\u001b[39mnumpy()\n\u001b[1;32m    186\u001b[0m \u001b[38;5;28mself\u001b[39m\u001b[38;5;241m.\u001b[39mcheck_inputs(\n\u001b[1;32m    187\u001b[0m     input_length,\n\u001b[1;32m    188\u001b[0m     generate_kwargs\u001b[38;5;241m.\u001b[39mget(\u001b[38;5;124m\"\u001b[39m\u001b[38;5;124mmin_length\u001b[39m\u001b[38;5;124m\"\u001b[39m, \u001b[38;5;28mself\u001b[39m\u001b[38;5;241m.\u001b[39mmodel\u001b[38;5;241m.\u001b[39mconfig\u001b[38;5;241m.\u001b[39mmin_length),\n\u001b[1;32m    189\u001b[0m     generate_kwargs\u001b[38;5;241m.\u001b[39mget(\u001b[38;5;124m\"\u001b[39m\u001b[38;5;124mmax_length\u001b[39m\u001b[38;5;124m\"\u001b[39m, \u001b[38;5;28mself\u001b[39m\u001b[38;5;241m.\u001b[39mmodel\u001b[38;5;241m.\u001b[39mconfig\u001b[38;5;241m.\u001b[39mmax_length),\n\u001b[1;32m    190\u001b[0m )\n\u001b[0;32m--> 191\u001b[0m output_ids \u001b[38;5;241m=\u001b[39m \u001b[38;5;28;43mself\u001b[39;49m\u001b[38;5;241;43m.\u001b[39;49m\u001b[43mmodel\u001b[49m\u001b[38;5;241;43m.\u001b[39;49m\u001b[43mgenerate\u001b[49m\u001b[43m(\u001b[49m\u001b[38;5;241;43m*\u001b[39;49m\u001b[38;5;241;43m*\u001b[39;49m\u001b[43mmodel_inputs\u001b[49m\u001b[43m,\u001b[49m\u001b[43m \u001b[49m\u001b[38;5;241;43m*\u001b[39;49m\u001b[38;5;241;43m*\u001b[39;49m\u001b[43mgenerate_kwargs\u001b[49m\u001b[43m)\u001b[49m\n\u001b[1;32m    192\u001b[0m out_b \u001b[38;5;241m=\u001b[39m output_ids\u001b[38;5;241m.\u001b[39mshape[\u001b[38;5;241m0\u001b[39m]\n\u001b[1;32m    193\u001b[0m \u001b[38;5;28;01mif\u001b[39;00m \u001b[38;5;28mself\u001b[39m\u001b[38;5;241m.\u001b[39mframework \u001b[38;5;241m==\u001b[39m \u001b[38;5;124m\"\u001b[39m\u001b[38;5;124mpt\u001b[39m\u001b[38;5;124m\"\u001b[39m:\n",
      "File \u001b[0;32m~/.pyenv/versions/3.10.6/envs/weather_checker/lib/python3.10/site-packages/torch/utils/_contextlib.py:115\u001b[0m, in \u001b[0;36mcontext_decorator.<locals>.decorate_context\u001b[0;34m(*args, **kwargs)\u001b[0m\n\u001b[1;32m    112\u001b[0m \u001b[38;5;129m@functools\u001b[39m\u001b[38;5;241m.\u001b[39mwraps(func)\n\u001b[1;32m    113\u001b[0m \u001b[38;5;28;01mdef\u001b[39;00m \u001b[38;5;21mdecorate_context\u001b[39m(\u001b[38;5;241m*\u001b[39margs, \u001b[38;5;241m*\u001b[39m\u001b[38;5;241m*\u001b[39mkwargs):\n\u001b[1;32m    114\u001b[0m     \u001b[38;5;28;01mwith\u001b[39;00m ctx_factory():\n\u001b[0;32m--> 115\u001b[0m         \u001b[38;5;28;01mreturn\u001b[39;00m \u001b[43mfunc\u001b[49m\u001b[43m(\u001b[49m\u001b[38;5;241;43m*\u001b[39;49m\u001b[43margs\u001b[49m\u001b[43m,\u001b[49m\u001b[43m \u001b[49m\u001b[38;5;241;43m*\u001b[39;49m\u001b[38;5;241;43m*\u001b[39;49m\u001b[43mkwargs\u001b[49m\u001b[43m)\u001b[49m\n",
      "File \u001b[0;32m~/.pyenv/versions/3.10.6/envs/weather_checker/lib/python3.10/site-packages/transformers/generation/utils.py:1370\u001b[0m, in \u001b[0;36mGenerationMixin.generate\u001b[0;34m(self, inputs, generation_config, logits_processor, stopping_criteria, prefix_allowed_tokens_fn, synced_gpus, assistant_model, streamer, negative_prompt_ids, negative_prompt_attention_mask, **kwargs)\u001b[0m\n\u001b[1;32m   1362\u001b[0m         logger\u001b[38;5;241m.\u001b[39mwarning(\n\u001b[1;32m   1363\u001b[0m             \u001b[38;5;124m\"\u001b[39m\u001b[38;5;124mA decoder-only architecture is being used, but right-padding was detected! For correct \u001b[39m\u001b[38;5;124m\"\u001b[39m\n\u001b[1;32m   1364\u001b[0m             \u001b[38;5;124m\"\u001b[39m\u001b[38;5;124mgeneration results, please set `padding_side=\u001b[39m\u001b[38;5;124m'\u001b[39m\u001b[38;5;124mleft\u001b[39m\u001b[38;5;124m'\u001b[39m\u001b[38;5;124m` when initializing the tokenizer.\u001b[39m\u001b[38;5;124m\"\u001b[39m\n\u001b[1;32m   1365\u001b[0m         )\n\u001b[1;32m   1367\u001b[0m \u001b[38;5;28;01mif\u001b[39;00m \u001b[38;5;28mself\u001b[39m\u001b[38;5;241m.\u001b[39mconfig\u001b[38;5;241m.\u001b[39mis_encoder_decoder \u001b[38;5;129;01mand\u001b[39;00m \u001b[38;5;124m\"\u001b[39m\u001b[38;5;124mencoder_outputs\u001b[39m\u001b[38;5;124m\"\u001b[39m \u001b[38;5;129;01mnot\u001b[39;00m \u001b[38;5;129;01min\u001b[39;00m model_kwargs:\n\u001b[1;32m   1368\u001b[0m     \u001b[38;5;66;03m# if model is encoder decoder encoder_outputs are created\u001b[39;00m\n\u001b[1;32m   1369\u001b[0m     \u001b[38;5;66;03m# and added to `model_kwargs`\u001b[39;00m\n\u001b[0;32m-> 1370\u001b[0m     model_kwargs \u001b[38;5;241m=\u001b[39m \u001b[38;5;28;43mself\u001b[39;49m\u001b[38;5;241;43m.\u001b[39;49m\u001b[43m_prepare_encoder_decoder_kwargs_for_generation\u001b[49m\u001b[43m(\u001b[49m\n\u001b[1;32m   1371\u001b[0m \u001b[43m        \u001b[49m\u001b[43minputs_tensor\u001b[49m\u001b[43m,\u001b[49m\u001b[43m \u001b[49m\u001b[43mmodel_kwargs\u001b[49m\u001b[43m,\u001b[49m\u001b[43m \u001b[49m\u001b[43mmodel_input_name\u001b[49m\n\u001b[1;32m   1372\u001b[0m \u001b[43m    \u001b[49m\u001b[43m)\u001b[49m\n\u001b[1;32m   1374\u001b[0m \u001b[38;5;66;03m# 5. Prepare `input_ids` which will be used for auto-regressive generation\u001b[39;00m\n\u001b[1;32m   1375\u001b[0m \u001b[38;5;28;01mif\u001b[39;00m \u001b[38;5;28mself\u001b[39m\u001b[38;5;241m.\u001b[39mconfig\u001b[38;5;241m.\u001b[39mis_encoder_decoder:\n",
      "File \u001b[0;32m~/.pyenv/versions/3.10.6/envs/weather_checker/lib/python3.10/site-packages/transformers/generation/utils.py:491\u001b[0m, in \u001b[0;36mGenerationMixin._prepare_encoder_decoder_kwargs_for_generation\u001b[0;34m(self, inputs_tensor, model_kwargs, model_input_name)\u001b[0m\n\u001b[1;32m    489\u001b[0m encoder_kwargs[\u001b[38;5;124m\"\u001b[39m\u001b[38;5;124mreturn_dict\u001b[39m\u001b[38;5;124m\"\u001b[39m] \u001b[38;5;241m=\u001b[39m \u001b[38;5;28;01mTrue\u001b[39;00m\n\u001b[1;32m    490\u001b[0m encoder_kwargs[model_input_name] \u001b[38;5;241m=\u001b[39m inputs_tensor\n\u001b[0;32m--> 491\u001b[0m model_kwargs[\u001b[38;5;124m\"\u001b[39m\u001b[38;5;124mencoder_outputs\u001b[39m\u001b[38;5;124m\"\u001b[39m]: ModelOutput \u001b[38;5;241m=\u001b[39m \u001b[43mencoder\u001b[49m\u001b[43m(\u001b[49m\u001b[38;5;241;43m*\u001b[39;49m\u001b[38;5;241;43m*\u001b[39;49m\u001b[43mencoder_kwargs\u001b[49m\u001b[43m)\u001b[49m\n\u001b[1;32m    493\u001b[0m \u001b[38;5;28;01mreturn\u001b[39;00m model_kwargs\n",
      "File \u001b[0;32m~/.pyenv/versions/3.10.6/envs/weather_checker/lib/python3.10/site-packages/torch/nn/modules/module.py:1511\u001b[0m, in \u001b[0;36mModule._wrapped_call_impl\u001b[0;34m(self, *args, **kwargs)\u001b[0m\n\u001b[1;32m   1509\u001b[0m     \u001b[38;5;28;01mreturn\u001b[39;00m \u001b[38;5;28mself\u001b[39m\u001b[38;5;241m.\u001b[39m_compiled_call_impl(\u001b[38;5;241m*\u001b[39margs, \u001b[38;5;241m*\u001b[39m\u001b[38;5;241m*\u001b[39mkwargs)  \u001b[38;5;66;03m# type: ignore[misc]\u001b[39;00m\n\u001b[1;32m   1510\u001b[0m \u001b[38;5;28;01melse\u001b[39;00m:\n\u001b[0;32m-> 1511\u001b[0m     \u001b[38;5;28;01mreturn\u001b[39;00m \u001b[38;5;28;43mself\u001b[39;49m\u001b[38;5;241;43m.\u001b[39;49m\u001b[43m_call_impl\u001b[49m\u001b[43m(\u001b[49m\u001b[38;5;241;43m*\u001b[39;49m\u001b[43margs\u001b[49m\u001b[43m,\u001b[49m\u001b[43m \u001b[49m\u001b[38;5;241;43m*\u001b[39;49m\u001b[38;5;241;43m*\u001b[39;49m\u001b[43mkwargs\u001b[49m\u001b[43m)\u001b[49m\n",
      "File \u001b[0;32m~/.pyenv/versions/3.10.6/envs/weather_checker/lib/python3.10/site-packages/torch/nn/modules/module.py:1520\u001b[0m, in \u001b[0;36mModule._call_impl\u001b[0;34m(self, *args, **kwargs)\u001b[0m\n\u001b[1;32m   1515\u001b[0m \u001b[38;5;66;03m# If we don't have any hooks, we want to skip the rest of the logic in\u001b[39;00m\n\u001b[1;32m   1516\u001b[0m \u001b[38;5;66;03m# this function, and just call forward.\u001b[39;00m\n\u001b[1;32m   1517\u001b[0m \u001b[38;5;28;01mif\u001b[39;00m \u001b[38;5;129;01mnot\u001b[39;00m (\u001b[38;5;28mself\u001b[39m\u001b[38;5;241m.\u001b[39m_backward_hooks \u001b[38;5;129;01mor\u001b[39;00m \u001b[38;5;28mself\u001b[39m\u001b[38;5;241m.\u001b[39m_backward_pre_hooks \u001b[38;5;129;01mor\u001b[39;00m \u001b[38;5;28mself\u001b[39m\u001b[38;5;241m.\u001b[39m_forward_hooks \u001b[38;5;129;01mor\u001b[39;00m \u001b[38;5;28mself\u001b[39m\u001b[38;5;241m.\u001b[39m_forward_pre_hooks\n\u001b[1;32m   1518\u001b[0m         \u001b[38;5;129;01mor\u001b[39;00m _global_backward_pre_hooks \u001b[38;5;129;01mor\u001b[39;00m _global_backward_hooks\n\u001b[1;32m   1519\u001b[0m         \u001b[38;5;129;01mor\u001b[39;00m _global_forward_hooks \u001b[38;5;129;01mor\u001b[39;00m _global_forward_pre_hooks):\n\u001b[0;32m-> 1520\u001b[0m     \u001b[38;5;28;01mreturn\u001b[39;00m \u001b[43mforward_call\u001b[49m\u001b[43m(\u001b[49m\u001b[38;5;241;43m*\u001b[39;49m\u001b[43margs\u001b[49m\u001b[43m,\u001b[49m\u001b[43m \u001b[49m\u001b[38;5;241;43m*\u001b[39;49m\u001b[38;5;241;43m*\u001b[39;49m\u001b[43mkwargs\u001b[49m\u001b[43m)\u001b[49m\n\u001b[1;32m   1522\u001b[0m \u001b[38;5;28;01mtry\u001b[39;00m:\n\u001b[1;32m   1523\u001b[0m     result \u001b[38;5;241m=\u001b[39m \u001b[38;5;28;01mNone\u001b[39;00m\n",
      "File \u001b[0;32m~/.pyenv/versions/3.10.6/envs/weather_checker/lib/python3.10/site-packages/transformers/models/bart/modeling_bart.py:1154\u001b[0m, in \u001b[0;36mBartEncoder.forward\u001b[0;34m(self, input_ids, attention_mask, head_mask, inputs_embeds, output_attentions, output_hidden_states, return_dict)\u001b[0m\n\u001b[1;32m   1151\u001b[0m \u001b[38;5;28;01mif\u001b[39;00m inputs_embeds \u001b[38;5;129;01mis\u001b[39;00m \u001b[38;5;28;01mNone\u001b[39;00m:\n\u001b[1;32m   1152\u001b[0m     inputs_embeds \u001b[38;5;241m=\u001b[39m \u001b[38;5;28mself\u001b[39m\u001b[38;5;241m.\u001b[39membed_tokens(input_ids) \u001b[38;5;241m*\u001b[39m \u001b[38;5;28mself\u001b[39m\u001b[38;5;241m.\u001b[39membed_scale\n\u001b[0;32m-> 1154\u001b[0m embed_pos \u001b[38;5;241m=\u001b[39m \u001b[38;5;28;43mself\u001b[39;49m\u001b[38;5;241;43m.\u001b[39;49m\u001b[43membed_positions\u001b[49m\u001b[43m(\u001b[49m\u001b[38;5;28;43minput\u001b[39;49m\u001b[43m)\u001b[49m\n\u001b[1;32m   1155\u001b[0m embed_pos \u001b[38;5;241m=\u001b[39m embed_pos\u001b[38;5;241m.\u001b[39mto(inputs_embeds\u001b[38;5;241m.\u001b[39mdevice)\n\u001b[1;32m   1157\u001b[0m hidden_states \u001b[38;5;241m=\u001b[39m inputs_embeds \u001b[38;5;241m+\u001b[39m embed_pos\n",
      "File \u001b[0;32m~/.pyenv/versions/3.10.6/envs/weather_checker/lib/python3.10/site-packages/torch/nn/modules/module.py:1511\u001b[0m, in \u001b[0;36mModule._wrapped_call_impl\u001b[0;34m(self, *args, **kwargs)\u001b[0m\n\u001b[1;32m   1509\u001b[0m     \u001b[38;5;28;01mreturn\u001b[39;00m \u001b[38;5;28mself\u001b[39m\u001b[38;5;241m.\u001b[39m_compiled_call_impl(\u001b[38;5;241m*\u001b[39margs, \u001b[38;5;241m*\u001b[39m\u001b[38;5;241m*\u001b[39mkwargs)  \u001b[38;5;66;03m# type: ignore[misc]\u001b[39;00m\n\u001b[1;32m   1510\u001b[0m \u001b[38;5;28;01melse\u001b[39;00m:\n\u001b[0;32m-> 1511\u001b[0m     \u001b[38;5;28;01mreturn\u001b[39;00m \u001b[38;5;28;43mself\u001b[39;49m\u001b[38;5;241;43m.\u001b[39;49m\u001b[43m_call_impl\u001b[49m\u001b[43m(\u001b[49m\u001b[38;5;241;43m*\u001b[39;49m\u001b[43margs\u001b[49m\u001b[43m,\u001b[49m\u001b[43m \u001b[49m\u001b[38;5;241;43m*\u001b[39;49m\u001b[38;5;241;43m*\u001b[39;49m\u001b[43mkwargs\u001b[49m\u001b[43m)\u001b[49m\n",
      "File \u001b[0;32m~/.pyenv/versions/3.10.6/envs/weather_checker/lib/python3.10/site-packages/torch/nn/modules/module.py:1520\u001b[0m, in \u001b[0;36mModule._call_impl\u001b[0;34m(self, *args, **kwargs)\u001b[0m\n\u001b[1;32m   1515\u001b[0m \u001b[38;5;66;03m# If we don't have any hooks, we want to skip the rest of the logic in\u001b[39;00m\n\u001b[1;32m   1516\u001b[0m \u001b[38;5;66;03m# this function, and just call forward.\u001b[39;00m\n\u001b[1;32m   1517\u001b[0m \u001b[38;5;28;01mif\u001b[39;00m \u001b[38;5;129;01mnot\u001b[39;00m (\u001b[38;5;28mself\u001b[39m\u001b[38;5;241m.\u001b[39m_backward_hooks \u001b[38;5;129;01mor\u001b[39;00m \u001b[38;5;28mself\u001b[39m\u001b[38;5;241m.\u001b[39m_backward_pre_hooks \u001b[38;5;129;01mor\u001b[39;00m \u001b[38;5;28mself\u001b[39m\u001b[38;5;241m.\u001b[39m_forward_hooks \u001b[38;5;129;01mor\u001b[39;00m \u001b[38;5;28mself\u001b[39m\u001b[38;5;241m.\u001b[39m_forward_pre_hooks\n\u001b[1;32m   1518\u001b[0m         \u001b[38;5;129;01mor\u001b[39;00m _global_backward_pre_hooks \u001b[38;5;129;01mor\u001b[39;00m _global_backward_hooks\n\u001b[1;32m   1519\u001b[0m         \u001b[38;5;129;01mor\u001b[39;00m _global_forward_hooks \u001b[38;5;129;01mor\u001b[39;00m _global_forward_pre_hooks):\n\u001b[0;32m-> 1520\u001b[0m     \u001b[38;5;28;01mreturn\u001b[39;00m \u001b[43mforward_call\u001b[49m\u001b[43m(\u001b[49m\u001b[38;5;241;43m*\u001b[39;49m\u001b[43margs\u001b[49m\u001b[43m,\u001b[49m\u001b[43m \u001b[49m\u001b[38;5;241;43m*\u001b[39;49m\u001b[38;5;241;43m*\u001b[39;49m\u001b[43mkwargs\u001b[49m\u001b[43m)\u001b[49m\n\u001b[1;32m   1522\u001b[0m \u001b[38;5;28;01mtry\u001b[39;00m:\n\u001b[1;32m   1523\u001b[0m     result \u001b[38;5;241m=\u001b[39m \u001b[38;5;28;01mNone\u001b[39;00m\n",
      "File \u001b[0;32m~/.pyenv/versions/3.10.6/envs/weather_checker/lib/python3.10/site-packages/transformers/models/bart/modeling_bart.py:135\u001b[0m, in \u001b[0;36mBartLearnedPositionalEmbedding.forward\u001b[0;34m(self, input_ids, past_key_values_length)\u001b[0m\n\u001b[1;32m    130\u001b[0m bsz, seq_len \u001b[38;5;241m=\u001b[39m input_ids\u001b[38;5;241m.\u001b[39mshape[:\u001b[38;5;241m2\u001b[39m]\n\u001b[1;32m    131\u001b[0m positions \u001b[38;5;241m=\u001b[39m torch\u001b[38;5;241m.\u001b[39marange(\n\u001b[1;32m    132\u001b[0m     past_key_values_length, past_key_values_length \u001b[38;5;241m+\u001b[39m seq_len, dtype\u001b[38;5;241m=\u001b[39mtorch\u001b[38;5;241m.\u001b[39mlong, device\u001b[38;5;241m=\u001b[39m\u001b[38;5;28mself\u001b[39m\u001b[38;5;241m.\u001b[39mweight\u001b[38;5;241m.\u001b[39mdevice\n\u001b[1;32m    133\u001b[0m )\u001b[38;5;241m.\u001b[39mexpand(bsz, \u001b[38;5;241m-\u001b[39m\u001b[38;5;241m1\u001b[39m)\n\u001b[0;32m--> 135\u001b[0m \u001b[38;5;28;01mreturn\u001b[39;00m \u001b[38;5;28;43msuper\u001b[39;49m\u001b[43m(\u001b[49m\u001b[43m)\u001b[49m\u001b[38;5;241;43m.\u001b[39;49m\u001b[43mforward\u001b[49m\u001b[43m(\u001b[49m\u001b[43mpositions\u001b[49m\u001b[43m \u001b[49m\u001b[38;5;241;43m+\u001b[39;49m\u001b[43m \u001b[49m\u001b[38;5;28;43mself\u001b[39;49m\u001b[38;5;241;43m.\u001b[39;49m\u001b[43moffset\u001b[49m\u001b[43m)\u001b[49m\n",
      "File \u001b[0;32m~/.pyenv/versions/3.10.6/envs/weather_checker/lib/python3.10/site-packages/torch/nn/modules/sparse.py:163\u001b[0m, in \u001b[0;36mEmbedding.forward\u001b[0;34m(self, input)\u001b[0m\n\u001b[1;32m    162\u001b[0m \u001b[38;5;28;01mdef\u001b[39;00m \u001b[38;5;21mforward\u001b[39m(\u001b[38;5;28mself\u001b[39m, \u001b[38;5;28minput\u001b[39m: Tensor) \u001b[38;5;241m-\u001b[39m\u001b[38;5;241m>\u001b[39m Tensor:\n\u001b[0;32m--> 163\u001b[0m     \u001b[38;5;28;01mreturn\u001b[39;00m \u001b[43mF\u001b[49m\u001b[38;5;241;43m.\u001b[39;49m\u001b[43membedding\u001b[49m\u001b[43m(\u001b[49m\n\u001b[1;32m    164\u001b[0m \u001b[43m        \u001b[49m\u001b[38;5;28;43minput\u001b[39;49m\u001b[43m,\u001b[49m\u001b[43m \u001b[49m\u001b[38;5;28;43mself\u001b[39;49m\u001b[38;5;241;43m.\u001b[39;49m\u001b[43mweight\u001b[49m\u001b[43m,\u001b[49m\u001b[43m \u001b[49m\u001b[38;5;28;43mself\u001b[39;49m\u001b[38;5;241;43m.\u001b[39;49m\u001b[43mpadding_idx\u001b[49m\u001b[43m,\u001b[49m\u001b[43m \u001b[49m\u001b[38;5;28;43mself\u001b[39;49m\u001b[38;5;241;43m.\u001b[39;49m\u001b[43mmax_norm\u001b[49m\u001b[43m,\u001b[49m\n\u001b[1;32m    165\u001b[0m \u001b[43m        \u001b[49m\u001b[38;5;28;43mself\u001b[39;49m\u001b[38;5;241;43m.\u001b[39;49m\u001b[43mnorm_type\u001b[49m\u001b[43m,\u001b[49m\u001b[43m \u001b[49m\u001b[38;5;28;43mself\u001b[39;49m\u001b[38;5;241;43m.\u001b[39;49m\u001b[43mscale_grad_by_freq\u001b[49m\u001b[43m,\u001b[49m\u001b[43m \u001b[49m\u001b[38;5;28;43mself\u001b[39;49m\u001b[38;5;241;43m.\u001b[39;49m\u001b[43msparse\u001b[49m\u001b[43m)\u001b[49m\n",
      "File \u001b[0;32m~/.pyenv/versions/3.10.6/envs/weather_checker/lib/python3.10/site-packages/torch/nn/functional.py:2237\u001b[0m, in \u001b[0;36membedding\u001b[0;34m(input, weight, padding_idx, max_norm, norm_type, scale_grad_by_freq, sparse)\u001b[0m\n\u001b[1;32m   2231\u001b[0m     \u001b[38;5;66;03m# Note [embedding_renorm set_grad_enabled]\u001b[39;00m\n\u001b[1;32m   2232\u001b[0m     \u001b[38;5;66;03m# XXX: equivalent to\u001b[39;00m\n\u001b[1;32m   2233\u001b[0m     \u001b[38;5;66;03m# with torch.no_grad():\u001b[39;00m\n\u001b[1;32m   2234\u001b[0m     \u001b[38;5;66;03m#   torch.embedding_renorm_\u001b[39;00m\n\u001b[1;32m   2235\u001b[0m     \u001b[38;5;66;03m# remove once script supports set_grad_enabled\u001b[39;00m\n\u001b[1;32m   2236\u001b[0m     _no_grad_embedding_renorm_(weight, \u001b[38;5;28minput\u001b[39m, max_norm, norm_type)\n\u001b[0;32m-> 2237\u001b[0m \u001b[38;5;28;01mreturn\u001b[39;00m \u001b[43mtorch\u001b[49m\u001b[38;5;241;43m.\u001b[39;49m\u001b[43membedding\u001b[49m\u001b[43m(\u001b[49m\u001b[43mweight\u001b[49m\u001b[43m,\u001b[49m\u001b[43m \u001b[49m\u001b[38;5;28;43minput\u001b[39;49m\u001b[43m,\u001b[49m\u001b[43m \u001b[49m\u001b[43mpadding_idx\u001b[49m\u001b[43m,\u001b[49m\u001b[43m \u001b[49m\u001b[43mscale_grad_by_freq\u001b[49m\u001b[43m,\u001b[49m\u001b[43m \u001b[49m\u001b[43msparse\u001b[49m\u001b[43m)\u001b[49m\n",
      "\u001b[0;31mIndexError\u001b[0m: index out of range in self"
     ]
    }
   ],
   "source": [
    "from transformers import pipeline\n",
    "pipe_summarise = pipeline(\"summarization\", model = \"sshleifer/distilbart-xsum-12-6\")\n",
    "article = pipe_summarise(comments_full_small[0])"
   ]
  },
  {
   "cell_type": "code",
   "execution_count": null,
   "id": "259fd054-9ba2-4659-b452-cadbe9bede54",
   "metadata": {},
   "outputs": [],
   "source": []
  },
  {
   "cell_type": "code",
   "execution_count": null,
   "id": "475291a9-0c5d-4acc-857c-6e62445fbb10",
   "metadata": {},
   "outputs": [],
   "source": []
  },
  {
   "cell_type": "code",
   "execution_count": null,
   "id": "645ddaa4-27c8-45d3-9fce-b580f3c8fbc2",
   "metadata": {},
   "outputs": [],
   "source": []
  },
  {
   "cell_type": "code",
   "execution_count": 137,
   "id": "838ec113-2b29-45cb-a321-3d564d245037",
   "metadata": {},
   "outputs": [
    {
     "name": "stdout",
     "output_type": "stream",
     "text": [
      "CPU times: user 118 ms, sys: 27.1 ms, total: 145 ms\n",
      "Wall time: 115 ms\n"
     ]
    }
   ],
   "source": [
    "%%time\n",
    "from gensim.models import Word2Vec\n",
    "word2vec = Word2Vec(sentences=comments_db)\n",
    "wv = word2vec.wv"
   ]
  },
  {
   "cell_type": "code",
   "execution_count": 138,
   "id": "c3b108a3-e067-4df9-83d5-7b0c6af38b7e",
   "metadata": {},
   "outputs": [
    {
     "data": {
      "text/plain": [
       "{' ': 0,\n",
       " 'e': 1,\n",
       " 't': 2,\n",
       " 'n': 3,\n",
       " 'o': 4,\n",
       " 'a': 5,\n",
       " 'i': 6,\n",
       " 'r': 7,\n",
       " 's': 8,\n",
       " 'l': 9,\n",
       " 'd': 10,\n",
       " 'h': 11,\n",
       " 'c': 12,\n",
       " 'p': 13,\n",
       " 'm': 14,\n",
       " 'u': 15,\n",
       " 'g': 16,\n",
       " 'f': 17,\n",
       " 'y': 18,\n",
       " 'w': 19,\n",
       " 'v': 20,\n",
       " 'b': 21,\n",
       " 'k': 22,\n",
       " 'x': 23,\n",
       " 'j': 24,\n",
       " 'q': 25,\n",
       " '’': 26,\n",
       " '£': 27,\n",
       " '\\x0c': 28,\n",
       " 'z': 29,\n",
       " '–': 30}"
      ]
     },
     "execution_count": 138,
     "metadata": {},
     "output_type": "execute_result"
    }
   ],
   "source": [
    "wv.key_to_index"
   ]
  },
  {
   "cell_type": "code",
   "execution_count": null,
   "id": "229570cd-6217-4d12-9d0c-942b5b3c5020",
   "metadata": {},
   "outputs": [],
   "source": []
  },
  {
   "cell_type": "code",
   "execution_count": null,
   "id": "ab1bcc46-453b-401a-905e-09908d26a1c2",
   "metadata": {},
   "outputs": [],
   "source": []
  },
  {
   "cell_type": "code",
   "execution_count": null,
   "id": "7f6579ca-f198-4bdb-a892-b2cd28a136c9",
   "metadata": {},
   "outputs": [],
   "source": []
  },
  {
   "cell_type": "code",
   "execution_count": null,
   "id": "d3d4486d-bc67-4c65-ba80-1f10fa77970e",
   "metadata": {},
   "outputs": [],
   "source": []
  },
  {
   "cell_type": "code",
   "execution_count": null,
   "id": "0f3036c6-4292-4e8b-83c7-ac9d3d092f09",
   "metadata": {},
   "outputs": [],
   "source": [
    "#below are trials to extract text from the PDFs"
   ]
  },
  {
   "cell_type": "code",
   "execution_count": 66,
   "id": "a2cae95b-5bd9-4b63-8308-fa3819147b0a",
   "metadata": {},
   "outputs": [
    {
     "data": {
      "text/plain": [
       "'COCOA MARKET REPORT\\n\\n   Arb Settle Basis Ldn Close on 20-12-24\\n\\nWednesday, January 13, 2021\\n\\nSource:  Bloomberg and the I.C.E.\\n\\nI.C.E EU\\nCLOSE\\n1703\\n1648\\n1631\\n1619\\n1626\\n1623\\n1625\\n1627\\n1629\\n1636\\n\\nMAR 21\\nMAY 21\\nJUL 21\\nSEP 21\\nDEC 21\\nMAR 22\\nMAY 22\\nJUL 22\\nSEP 22\\nDEC 22\\nLondon Due: \\n\\n9\\n7\\n3\\n0\\n1\\n1\\n0\\n-1\\n-1\\n-1\\nMAY 21\\n\\nHI\\n1,721\\n1,663\\n1,644\\n1,632\\n1,637\\n1,634\\n1,635\\n1,636\\n\\nLOW\\n1,683\\n1,633\\n1,620\\n1,614\\n1,619\\n1,618\\n1,624\\n1,630\\n\\n-£8\\n\\nLower\\n\\nVOLUME\\n5252\\n5058\\n3610\\n1340\\n862\\n170\\n90\\n50\\n\\nOPEN INTEREST \\n248\\n-734\\n92\\n376\\n-99\\n67\\n-9\\n22\\n\\n73,478\\n39,523\\n29,528\\n27,699\\n34,104\\n10,766\\n4,240\\n2,074\\n406\\n18\\n221,836\\n\\n4\\n-33\\n\\n16,432\\nStock Market Indices\\n31060.47\\nDJIA\\n3809.84\\nS&P500\\nNASDAQ\\n13128.95\\nFTSE 100 IDX  6745.52\\nNIKKEI225\\n28456.6\\nCommodity Indices:\\n471.72\\nCCI\\n\\nBCOM\\n\\nGSCI\\n\\nTRJ CRB\\n\\nBltc Frt Idx\\n\\n80.61\\n\\n432.40\\n\\n175.19\\n\\n1849\\n\\n90.343\\n\\nDXY\\nCommodities (2nd Pos.):\\nSugar\\n\\n14.95\\n\\nLDN VOLUMES\\nFinal:\\nSprds:\\n EFP:\\nEFS:\\nCalls:\\nPuts: \\n\\n45.36\\n44.34\\n\\n16,432 Switch\\n5,936 H1/K1\\n199\\nH1/N1\\n0\\nH1/U1\\n670\\nH1/Z1\\nH1/H2\\nK1/N1\\nK1/U1\\nK1/Z1\\nK1/H2\\nK1/K2\\n42.60 N1/U1\\n42.73 N1/Z1\\nN1/H2\\n1643 N1/K2\\n1651 N1/N2\\n1656 U1/Z1\\n1699 U1/H2\\n1717 U1/K2\\nK2/N2\\n1729\\n\\n  2nd Mth Cont.\\nLDN RSI\\n  9-Day = \\n14-Day =\\nSTOCHASTIC  \\n\\n%K  =\\n%D  =\\n\\nMOVING AVE. \\n  5-Day = \\n10-Day = \\n20-Day = \\n50-Day = \\n100-Day= \\n200-Day=\\n\\n~    LONDON  SPREADS    ~  \\n\\nBid/Ask Hi  Low Volume\\n60     49\\n78     62\\n89     76\\n84     80\\n85     75\\n21     12\\n32     22\\n27     24\\n27     27\\n25     25\\n13     9\\n6     3\\n\\n1596 \\n104 \\n50 \\n197 \\n114 \\n1937 \\n199 \\n13 \\n3 \\n33 \\n725 \\n47 \\n\\n56/57\\n74/76\\n86/89\\n80/82\\n82/85\\n18/19\\n30/32\\n23/26\\n25/29\\n22/27\\n12/13\\n5/7\\n7/10\\n4/8\\n1/7\\n-7/-6\\n-5/-3\\n-8/-5\\n-4/-1\\n\\nGBP @ LDN CLOSE\\n\\nEUR @ LDN CLOSE\\n\\nUSD:\\nEUR:\\nCHF:\\nJPY:\\nCAN:\\nRUB:\\n\\n0.7337\\n0.8922\\n0.8268\\n141.60\\n1.7326\\n100.50\\n\\n-0.006\\n-0.008\\n-0.005\\n0.83\\n0.006\\n-0.34\\n\\nUSD:\\nGBP:\\nCHF:\\nJPY:\\nCAN:\\nRUB:\\n\\n0.8224\\n1.1208\\n0.9267\\n126.33\\n1.5458\\n89.666\\n\\n0.0005\\n0.0102\\n0.0032\\n-0.4200\\n-0.0085\\n-1.1313\\n\\n  I.C.E US STOCKS in CERTIFIED WAREHOUSEs  (~145 lb. BAGS)\\nNew York\\n227,884\\n  I.C.E EU COCOA STOCKS - In Exchange Nominated Warehouses\\n\\nDate\\n13-Jan-21\\n\\nDelaware\\n2,987,382\\n\\n7     7\\n\\n12 \\n\\n-5     -7\\n-4     -4\\n-6     -6\\n-1     -2\\n\\n669 \\n2 \\n2 \\n11 \\n\\nCoffee\\n\\nCrude\\n\\nGold\\n\\n3 mth\\nLIBOR\\nRates\\n\\n127.25\\n\\n52.96\\n\\n1858.80\\n\\nUSD\\n\\nGBP\\n\\nEUR\\n\\nSEP 21\\n\\nGBP\\n-130 MAR 21\\n-154 MAY 21\\n-165\\nJUL 21\\n-173\\n-161\\nDEC 21\\n-157 MAR 22\\n-152 MAY 22\\n-147\\nJUL 22\\n-146\\n-138\\n\\nDEC 22\\n\\nSEP 22\\n\\nI.C.E. US\\nCLOSE/REF\\n2499\\n2457\\n2450\\n2445\\n2440\\n2433\\n2429\\n2426\\n2429\\n2429\\n\\n1\\n9\\n7\\n6\\n6\\n8\\n8\\n8\\n8\\n8\\n\\nICE TAS\\n(Trade at Settlement)\\n\\nMAY 21\\n\\nMAR 21\\n\\nUS\\n2530\\n2510\\n2483\\n2463\\n2436\\n2416\\n2369\\n Change NY ATM \\n3-MTH\\n\\nJUL 21\\n\\nH1/N1\\n\\nK1/N1\\n\\nH1/K1\\n\\n-0.63\\n\\n6-MTH\\n\\nLdn\\n7\\n\\nImp Vol\\n\\n29.19\\n\\n26.61\\n\\nUS\\n719\\n435\\n201\\n143\\n201\\n0\\n Change\\n\\n-0.20\\n\\nVALUE\\nDATE\\n\\n03/17/21\\n\\n05/19/21\\n\\n07/21/21\\n\\n09/15/21\\n\\n12/15/21\\n\\n03/16/22\\n\\n05/18/22\\n\\n07/20/22\\n\\n09/21/22\\n\\n12/21/22\\n\\nGBP/USD       ARB\\n\\n1.3628\\n1.3633\\n1.3638\\n1.3642\\n1.3647\\n1.3654\\n1.3666\\n1.3673\\n1.3678\\n1.3682\\n1.3691\\n\\nUSD\\n-177\\n-209\\n-225\\n-236\\n-220\\n-215\\n-207\\n-201\\n-200\\n-189\\n\\nSUPRT & RES.\\n\\nLDN\\n1693\\n1678\\n1663\\n1648\\n1633\\n1618\\n1588\\nImp Vol\\n\\n25.01\\n\\n23.09\\n\\n292.25\\n\\n-8.22 MAY 21\\n8.65 3rd Res.\\n56.52 2nd Res.\\n-8.59 1st Res.\\nPivot\\n1st Sup.\\n2nd Sup.\\n3rd Sup.\\nLDN ATM \\n3-MTH\\n\\n3.08\\n\\n-0.01\\n\\n-0.90\\n\\n0.24\\n\\n6-MTH\\n\\n88\\n\\n0.250\\n\\n0.34\\n\\n3.80\\n\\n-0.32\\n\\n7.00\\n\\n0.234\\n\\n0.031\\n\\n0.062\\n\\nHI\\n2,538\\n2,489\\n2,481\\n2,471\\n2,460\\n2,446\\n2,445\\n\\nLOW\\n2,486\\n2,442\\n2,438\\n2,433\\n2,434\\n2,429\\n2,420\\n\\nN.Y. VOLUMES  \\nFinal:\\nSprds:\\n EFP:\\n EFS:\\nCalls:\\nPuts:\\n  2nd Mth Cont.\\nNY RSI\\n\\n31,357\\n10,698\\n364\\n0\\n6,714\\n191\\n\\n  9-Day =\\n 14-Day =\\nSTOCHASTIC\\n\\n %K = \\n %D = \\nMOVING AVE. \\n  5-Day =\\n10-Day =\\n20-Day =\\n50-Day =\\n100-Day=\\n200-Day=\\n\\n44.19\\n44.88\\n\\n19.78\\n28.09\\n\\n2457\\n2476\\n2483\\n2517\\n2510\\n2419\\n\\nNY\\nLAST\\n2,489\\n2,446\\n2,440\\n2,433\\n2,436\\n2,429\\n2,420\\n2,413\\n2,467\\n\\nSwitch\\nH1/K1\\nH1/N1\\nH1/U1\\nH1/Z1\\nH1/H2\\nK1/N1\\nK1/U1\\nK1/Z1\\nK1/H2\\nK1/K2\\nN1/U1\\nN1/Z1\\nN1/H2\\nN1/K2\\nN1/N2\\nU1/Z1\\nU1/H2\\nU1/K2\\nZ1/H2\\n\\nVOL.\\n15,200\\n9,356\\n4,146\\n1,316\\n958\\n347\\n34\\n\\nOPEN INTEREST \\n88,085\\n-1,450\\n-27\\n59,741\\n1,339\\n29,884\\n161\\n19,480\\n-168\\n11,668\\n131\\n5,624\\n32\\n701\\n279\\n1\\n5,201\\n\\n31,357\\n\\n220,663\\n\\n19\\n\\n~    NEW  YORK  SPREADS    ~  \\n\\nBid/Ask\\n42/43\\n48/49\\n53/55\\n58/61\\n65/69\\n6/7\\n11/13\\n16/19\\n23/27\\n27/32\\n5/6\\n10/12\\n17/20\\n20/25\\n21/29\\n5/6\\n12/14\\n15/19\\n7/8\\n\\nHi  Low\\n52     42\\n58     47\\n65     55\\n66     66\\n\\n8     4\\n14     9\\n18     17\\n26     21\\n34     27\\n7     4\\n10     10\\n19     16\\n23     23\\n\\n6     5\\n13     12\\n19     19\\n10     6\\n\\nVolume\\n5438 \\n221 \\n40 \\n1 \\n\\n3013 \\n321\\n29 \\n84 \\n33 \\n450 \\n1 \\n52 \\n17 \\n\\n854 \\n102 \\n2 \\n241 \\n\\n0.186\\n19.96\\n\\nUSD @ LDN CLOSE\\n1.3628\\n1.2159\\n0.8875\\n103.90\\n1.2713\\n73.746\\n\\n0.0116\\n-0.0008\\n-0.0025\\n-0.28\\n-0.0061\\n-0.881\\n\\nGBP:\\nEUR:\\nCHF:\\nJPY:\\nCAN:\\nRUB:\\n\\nKEY RATES\\n\\nUSD @ LDN CLOSE        \\n\\nUS Fed\\nBOE\\nPBOC\\nECB\\nSwiss NB\\nBOJ\\n\\n0.25\\n0.10\\n1.39\\n(0.50)\\n(0.78)\\n(0.10)\\n\\nAUD: \\nIND:\\nSGD:\\nMYR:\\nINR:\\nCNY:\\n\\n0.7740\\n14110.0\\n1.3264\\n\\n73.15\\n6.465\\n\\n0.0034\\n-108.0\\n-0.0033\\n\\n-0.2439\\n-0.0089\\n\\nMXP:\\nDKK:\\nSEK:\\nNOK:\\nVND:\\nPNG:\\n\\nUSD @ LDN CLOSE\\n19.794\\n6.118\\n8.336\\n8.489\\n\\n-0.300\\n0.005\\n0.048\\n-0.040\\n\\nBRZ:\\nARP:\\nCLP:\\nVEB:\\nDOP:\\nXOF:\\n\\nUSD @ LDN CLOSE\\n\\n85.560\\n740.67\\n2.597\\n\\n539.48\\n\\n-0.23\\n\\nHampton Roads\\n0\\n\\n    Albany\\n0\\n\\nBaltimore\\n0\\n\\nTOTAL\\n3,215,266\\n\\nNet Chng.\\n22,495\\n\\nValid Certs\\n136,406\\n\\nPassed\\n0\\n\\nPending\\n126\\n\\nDate\\n13-Jan\\n\\nUS COT\\nw/Opt.\\n\\nEU COT\\nw/Opt.\\n\\nValid\\n2,000\\n\\n5-Jan\\n\\nExp\\n3,290\\n\\nCom +\\n69,872\\n\\nCom +\\n5-Jan 155,804\\n\\nSDU (10 mts)\\nNon-Tend\\n254\\n\\nLive\\n\\nCom -\\n135,389\\n\\nCom -\\n176,155\\n\\nCom Net\\n-65,517\\n\\nCom Net\\n-20,351\\n\\nTotal\\n5,708\\n\\nSwp +\\n22,873\\n\\nSwp +\\n17,953\\n\\nValid\\n20\\n\\nSwp -\\n4,646\\n\\nSwp -\\n17,527\\n\\nExp\\n73\\n\\nSwp Net\\n18,227\\n\\nSwp Net\\n426\\n\\nLDU (100 mts)\\nNon-Tend\\n6\\n\\nMng $ +\\n50,955\\n\\nMng $ +\\n19,741\\n\\nLive\\n\\nMng $ -\\n23,808\\n\\nMng $ -\\n3,074\\n\\nTotal\\n99\\n\\nValid\\n32\\nMng $ Net\\n27,147\\n\\nMng $ Net\\n16,667\\n\\nExp\\n32\\n\\nOthr +\\n18,893\\n\\nOthr +\\n3,360\\n\\nBDU (1,000 mts)\\nNon-Tend\\n\\nOthr -\\n5,963\\n\\nOthr -\\n884\\n\\nLive\\n1\\n\\nOthr Net\\n12,930\\n\\nOthr Net\\n2,476\\n\\nTotal\\n65\\n\\nNR +\\n14,778\\n\\nNR +\\n3,680\\n\\nValid\\n54,000\\n\\nNR -\\n7,564\\n\\nNR -\\n2,898\\n\\nExp\\n72,200\\n\\nNR Net\\n7,214\\n\\nNR Net\\n782\\n\\nTotal\\nNon-Tend\\n3,140\\n\\nOI\\n254,195\\n\\nOI\\n253,288\\n\\nLive\\n1,000\\n\\nNet Spec\\n65,518\\n\\nNet Spec\\n20,351\\n\\nALL\\n130,340\\n\\nChange\\n1,854\\n\\nChange\\n-5,765\\n\\n.\\n\\n     Although a rare bird, industry selling is a feature which occasionally flutters into view even on cocoa’s wilder moors – but best\\nto have the high strength binoculars at the ready though as it does not tend to indulge its hides of twitchers for too long. Even rarer –\\nin fact ornithologically speaking a brand-new species – the market was treated to the sight of origin buying today as a Bloomberg \\nstory winged its way across the newswires reporting the possibility of an Ivorian government purchase of 50,000 tons (not ‘tonnes’ \\naccording to the text) from farmers and cooperatives who are still long. It is true that when the wind blows even a turkey can fly and \\nmaybe  they  are  only  flying  a  kite but  perhaps  one  of  the  questions  any old  buzzard  might  ask  – there  could  be  a  few  -  to  those \\n‘familiar with the matter’ might be their intentions for the other 150,000 tons allegedly dotted around the place or where that falls \\nwithin the plans to ‘roll’ more than 200,000 tons of unsold main crop into the mid.  After that light relief, the fun stopped abruptly \\nas one’s focus returned to a London market whose non-descript performances of late – despite a nod in the direction of yesterday’s \\nbullish candle – continued. Pale volume is often a feature which develops in these stagnant scenarios and while it is not the only \\nharbinger, when periods of low turnover extend, they can herald a sharp move for which only a few are prepared. If so, this may \\nmanifest itself by way of thrusts out of some loose triangles (no doubt rationalised by the slew of grind data that is on its way), but \\nthose of a bullish bent – surely there must be some out there – should remember that markets like to fill gaps and the ones left on \\nvarious contracts on November 14th remain open. \\n     Given the recent pace of trading a quick glance at the settlements in New York would be enough for most to just as quickly look \\naway.  Yet under the surface there were some interesting trading flows that might be worth a few minutes of attention… hopefully.  \\nFirst, prices opened firm and spent the majority of the session trading about 1% higher testing a short-term ceiling that has been in \\nplace for the last seven sessions.  While the market has endured numerous rallies and retreats, as well as the opposite oscillations, \\nthroughout this latest stretch of range bound trading, interestingly today’s reversal came in tandem with a besiege of options trading\\nthat included more than 2,300 Mar21 2800-2950 calls spreads and nearly 1,500 additional 2800 calls.  Judging solely by the uptick \\nin  implied  volatility  and the  fact  that  each  continued  to  trade  the  same  price,  8  and  10 pts  respectively,  as  prices  fell,  both  were \\npresumably initiated from the buy side…again as prices fell a decline that continued throughout the 90 minutes that transpired for \\nthose volumes to transact as well as into the post settlement hours.  Perhaps it was just coincidence, tied to the positive inflation data \\nout of the US and the generally buoyant commodity sector in which cocoa has yet to participate, but the inverse nature of the futures \\nmovements  and  options  flow  was  curious.    Structure  too  landed  at  an  interesting  spot  after  firming  in  early  dealings  with \\nMar21/May21  trading  back  to  the  low  +$40s,  an  area  that  has  been  a  support  point  over  the  last  weeks.    Will  similar  strength\\nreemerge or will the uptick in exchange stocks and pending grading activity help move the pair lower?  Have a good evening. \\n\\nNEW YORK OFFICE\\nTODD C. LUNSTEAD\\nMICHAEL JULIANO\\n\\nP:  212-278-4836\\n\\n   THIS REPORT IS PREPARED FOR YOU DAILY BY THE COCOA GROUP OF SOCIETE GENERALE        \\nEmail your replies to:\\nSocieteGenerale-CocoaDesk@sgcib.com\\nDisclaimer Attached\\n\\nLONDON OFFICE\\nJONATHAN PROCTOR\\nANDREW PROCTOR\\n\\nP: 207-780-6677\\nJAMIE BALL\\n\\n     \\n     \\n     \\n     \\n \\n \\n \\n \\n \\n \\n\\x0c'"
      ]
     },
     "execution_count": 66,
     "metadata": {},
     "output_type": "execute_result"
    }
   ],
   "source": [
    "text = extract_text('raw_data/pdf_reports/210113.pdf', maxpages = 1)\n",
    "text"
   ]
  },
  {
   "cell_type": "code",
   "execution_count": 67,
   "id": "3b8fd5de-4468-45da-b474-37d0c885b4e4",
   "metadata": {},
   "outputs": [
    {
     "data": {
      "text/plain": [
       "9739"
      ]
     },
     "execution_count": 67,
     "metadata": {},
     "output_type": "execute_result"
    }
   ],
   "source": [
    "len(text)"
   ]
  },
  {
   "cell_type": "code",
   "execution_count": 99,
   "id": "18eed0f2-63fe-4881-b607-461e0a067c06",
   "metadata": {},
   "outputs": [
    {
     "data": {
      "text/plain": [
       "'\\nw/Opt.\\n\\nEU COT\\nw/Opt.\\n\\nValid\\n2,000\\n\\n5-Jan\\n\\nExp\\n3,290\\n\\nCom +\\n69,872\\n\\nCom +\\n5-Jan 155,804\\n\\nSDU (10 mts)\\nNon-Tend\\n254\\n\\nLive\\n\\nCom -\\n135,389\\n\\nCom -\\n176,155\\n\\nCom Net\\n-65,517\\n\\nCom Net\\n-20,351\\n\\nTotal\\n5,708\\n\\nSwp +\\n22,873\\n\\nSwp +\\n17,953\\n\\nValid\\n20\\n\\nSwp -\\n4,646\\n\\nSwp -\\n17,527\\n\\nExp\\n73\\n\\nSwp Net\\n18,227\\n\\nSwp Net\\n426\\n\\nLDU (100 mts)\\nNon-Tend\\n6\\n\\nMng $ +\\n50,955\\n\\nMng $ +\\n19,741\\n\\nLive\\n\\nMng $ -\\n23,808\\n\\nMng $ -\\n3,074\\n\\nTotal\\n99\\n\\nValid\\n32\\nMng $ Net\\n27,147\\n\\nMng $ Net\\n16,667\\n\\nExp\\n32\\n\\nOthr +\\n18,893\\n\\nOthr +\\n3,360\\n\\nBDU (1,000 mts)\\nNon-Tend\\n\\nOthr -\\n5,963\\n\\nOthr -\\n884\\n\\nLive\\n1\\n\\nOthr Net\\n12,930\\n\\nOthr Net\\n2,476\\n\\nTotal\\n65\\n\\nNR +\\n14,778\\n\\nNR +\\n3,680\\n\\nValid\\n54,000\\n\\nNR -\\n7,564\\n\\nNR -\\n2,898\\n\\nExp\\n72,200\\n\\nNR Net\\n7,214\\n\\nNR Net\\n782\\n\\nTotal\\nNon-Tend\\n3,140\\n\\nOI\\n254,195\\n\\nOI\\n253,288\\n\\nLive\\n1,000\\n\\nNet Spec\\n65,518\\n\\nNet Spec\\n20,351\\n\\nALL\\n130,340\\n\\nChange\\n1,854\\n\\nChange\\n-5,765\\n\\n.\\n\\n     Although a rare bird, industry selling is a feature which occasionally flutters into view even on cocoa’s wilder moors – but best\\nto have the high strength binoculars at the ready though as it does not tend to indulge its hides of twitchers for too long. Even rarer –\\nin fact ornithologically speaking a brand-new species – the market was treated to the sight of origin buying today as a Bloomberg \\nstory winged its way across the newswires reporting the possibility of an Ivorian government purchase of 50,000 tons (not ‘tonnes’ \\naccording to the text) from farmers and cooperatives who are still long. It is true that when the wind blows even a turkey can fly and \\nmaybe  they  are  only  flying  a  kite but  perhaps  one  of  the  questions  any old  buzzard  might  ask  – there  could  be  a  few  -  to  those \\n‘familiar with the matter’ might be their intentions for the other 150,000 tons allegedly dotted around the place or where that falls \\nwithin the plans to ‘roll’ more than 200,000 tons of unsold main crop into the mid.  After that light relief, the fun stopped abruptly \\nas one’s focus returned to a London market whose non-descript performances of late – despite a nod in the direction of yesterday’s \\nbullish candle – continued. Pale volume is often a feature which develops in these stagnant scenarios and while it is not the only \\nharbinger, when periods of low turnover extend, they can herald a sharp move for which only a few are prepared. If so, this may \\nmanifest itself by way of thrusts out of some loose triangles (no doubt rationalised by the slew of grind data that is on its way), but \\nthose of a bullish bent – surely there must be some out there – should remember that markets like to fill gaps and the ones left on \\nvarious contracts on November 14th remain open. \\n     Given the recent pace of trading a quick glance at the settlements in New York would be enough for most to just as quickly look \\naway.  Yet under the surface there were some interesting trading flows that might be worth a few minutes of attention… hopefully.  \\nFirst, prices opened firm and spent the majority of the session trading about 1% higher testing a short-term ceiling that has been in \\nplace for the last seven sessions.  While the market has endured numerous rallies and retreats, as well as the opposite oscillations, \\nthroughout this latest stretch of range bound trading, interestingly today’s reversal came in tandem with a besiege of options trading\\nthat included more than 2,300 Mar21 2800-2950 calls spreads and nearly 1,500 additional 2800 calls.  Judging solely by the uptick \\nin  implied  volatility  and the  fact  that  each  continued  to  trade  the  same  price,  8  and  10 pts  respectively,  as  prices  fell,  both  were \\npresumably initiated from the buy side…again as prices fell a decline that continued throughout the 90 minutes that transpired for \\nthose volumes to transact as well as into the post settlement hours.  Perhaps it was just coincidence, tied to the positive inflation data \\nout of the US and the generally buoyant commodity sector in which cocoa has yet to participate, but the inverse nature of the futures \\nmovements  and  options  flow  was  curious.    Structure  too  landed  at  an  interesting  spot  after  firming  in  early  dealings  with \\nMar21/May21  trading  back  to  the  low  +$40s,  an  area  that  has  been  a  support  point  over  the  last  weeks.    Will  similar  strength\\nreemerge or will the uptick in exchange stocks and pending grading activity help move the pair lower?  Have a good evening. \\n\\nNEW YORK OFFICE\\nTODD C. LUNSTEAD\\nMICHAEL JULIANO\\n\\nP:  212-278-4836\\n\\n   THIS REPORT IS PREPARED FOR YOU DAILY BY THE COCOA GROUP OF SOCIETE GENERALE        \\nEmail your replies to:\\nSocieteGenerale-CocoaDesk@sgcib.com\\nDisclaimer Attached\\n\\nLONDON OFFICE\\nJONATHAN PROCTOR\\nANDREW PROCTOR\\n\\nP: 207-780-6677\\nJAMIE BALL\\n\\n     \\n     \\n     \\n     \\n \\n \\n \\n \\n \\n \\n\\x0c'"
      ]
     },
     "execution_count": 99,
     "metadata": {},
     "output_type": "execute_result"
    }
   ],
   "source": [
    "comment = text.partition(\"COT\")[2]\n",
    "comment"
   ]
  },
  {
   "cell_type": "code",
   "execution_count": 104,
   "id": "e3f8dc64-cd0e-4999-b569-7f191da7378c",
   "metadata": {},
   "outputs": [
    {
     "data": {
      "text/plain": [
       "4076"
      ]
     },
     "execution_count": 104,
     "metadata": {},
     "output_type": "execute_result"
    }
   ],
   "source": [
    "comment = comment.lower()\n",
    "comment = ''.join(char for char in comment if not char.isdigit())\n",
    "\n",
    "for punctuation in string.punctuation:\n",
    "   comment = comment.replace(punctuation, '') \n",
    "\n",
    "comment = comment.replace('\\n',\"\")\n",
    "len(comment)"
   ]
  },
  {
   "cell_type": "code",
   "execution_count": 105,
   "id": "14f20681-ee2c-4ddd-a445-4d553400dbb0",
   "metadata": {},
   "outputs": [
    {
     "data": {
      "text/plain": [
       "'wopteu cotwoptvalidjanexpcom com jan sdu  mtsnontendlivecom com com netcom nettotalswp swp validswp swp expswp netswp netldu  mtsnontendmng  mng  livemng  mng  totalvalidmng  netmng  netexpothr othr bdu  mtsnontendothr othr liveothr netothr nettotalnr nr validnr nr expnr netnr nettotalnontendoioilivenet specnet specallchangechange     although a rare bird industry selling is a feature which occasionally flutters into view even on cocoa’s wilder moors – but bestto have the high strength binoculars at the ready though as it does not tend to indulge its hides of twitchers for too long even rarer –in fact ornithologically speaking a brandnew species – the market was treated to the sight of origin buying today as a bloomberg story winged its way across the newswires reporting the possibility of an ivorian government purchase of  tons not ‘tonnes’ according to the text from farmers and cooperatives who are still long it is true that when the wind blows even a turkey can fly and maybe  they  are  only  flying  a  kite but  perhaps  one  of  the  questions  any old  buzzard  might  ask  – there  could  be  a  few    to  those ‘familiar with the matter’ might be their intentions for the other  tons allegedly dotted around the place or where that falls within the plans to ‘roll’ more than  tons of unsold main crop into the mid  after that light relief the fun stopped abruptly as one’s focus returned to a london market whose nondescript performances of late – despite a nod in the direction of yesterday’s bullish candle – continued pale volume is often a feature which develops in these stagnant scenarios and while it is not the only harbinger when periods of low turnover extend they can herald a sharp move for which only a few are prepared if so this may manifest itself by way of thrusts out of some loose triangles no doubt rationalised by the slew of grind data that is on its way but those of a bullish bent – surely there must be some out there – should remember that markets like to fill gaps and the ones left on various contracts on november th remain open      given the recent pace of trading a quick glance at the settlements in new york would be enough for most to just as quickly look away  yet under the surface there were some interesting trading flows that might be worth a few minutes of attention… hopefully  first prices opened firm and spent the majority of the session trading about  higher testing a shortterm ceiling that has been in place for the last seven sessions  while the market has endured numerous rallies and retreats as well as the opposite oscillations throughout this latest stretch of range bound trading interestingly today’s reversal came in tandem with a besiege of options tradingthat included more than  mar  calls spreads and nearly  additional  calls  judging solely by the uptick in  implied  volatility  and the  fact  that  each  continued  to  trade  the  same  price    and   pts  respectively  as  prices  fell  both  were presumably initiated from the buy side…again as prices fell a decline that continued throughout the  minutes that transpired for those volumes to transact as well as into the post settlement hours  perhaps it was just coincidence tied to the positive inflation data out of the us and the generally buoyant commodity sector in which cocoa has yet to participate but the inverse nature of the futures movements  and  options  flow  was  curious    structure  too  landed  at  an  interesting  spot  after  firming  in  early  dealings  with marmay  trading  back  to  the  low  s  an  area  that  has  been  a  support  point  over  the  last  weeks    will  similar  strengthreemerge or will the uptick in exchange stocks and pending grading activity help move the pair lower  have a good evening new york officetodd c lunsteadmichael julianop     this report is prepared for you daily by the cocoa group of societe generale        email your replies tosocietegeneralecocoadesksgcibcomdisclaimer attachedlondon officejonathan proctorandrew proctorp jamie ball                          \\x0c'"
      ]
     },
     "execution_count": 105,
     "metadata": {},
     "output_type": "execute_result"
    }
   ],
   "source": [
    "comment"
   ]
  },
  {
   "cell_type": "code",
   "execution_count": 102,
   "id": "ca17096a-5810-43b7-9c8d-911c753abeef",
   "metadata": {},
   "outputs": [
    {
     "name": "stderr",
     "output_type": "stream",
     "text": [
      "config.json: 100%|██████████████████████████████████████████████████████████| 1.49k/1.49k [00:00<00:00, 2.73MB/s]\n",
      "model.safetensors: 100%|██████████████████████████████████████████████████████| 242M/242M [00:24<00:00, 9.89MB/s]\n",
      "generation_config.json: 100%|████████████████████████████████████████████████████| 112/112 [00:00<00:00, 306kB/s]\n",
      "tokenizer_config.json: 100%|████████████████████████████████████████████████| 2.32k/2.32k [00:00<00:00, 5.84MB/s]\n",
      "spiece.model: 100%|███████████████████████████████████████████████████████████| 792k/792k [00:00<00:00, 8.18MB/s]\n",
      "tokenizer.json: 100%|███████████████████████████████████████████████████████| 2.42M/2.42M [00:00<00:00, 3.42MB/s]\n",
      "special_tokens_map.json: 100%|██████████████████████████████████████████████| 2.20k/2.20k [00:00<00:00, 9.01MB/s]\n"
     ]
    }
   ],
   "source": [
    "from transformers import pipeline\n",
    "summarizer = pipeline(\"summarization\", model=\"Falconsai/text_summarization\")"
   ]
  },
  {
   "cell_type": "code",
   "execution_count": 103,
   "id": "7bec8ed1-895c-48cd-8610-b954bab894c1",
   "metadata": {},
   "outputs": [
    {
     "name": "stderr",
     "output_type": "stream",
     "text": [
      "Token indices sequence length is longer than the specified maximum sequence length for this model (996 > 512). Running this sequence through the model will result in indexing errors\n"
     ]
    },
    {
     "name": "stdout",
     "output_type": "stream",
     "text": [
      "[{'summary_text': 'the market was treated to the sight of origin buying today as a bloomberg story winged its way across the newswires reporting the possibility of an ivorian government purchase of tons not ‘tonnes’ according to the text from farmers and cooperatives who are still long . there could be a few to those ‘familiar with the matter’ might be their intentions for the other tons allegedly dotted around the place or where that falls within the plans to ‘roll’ more than tons of unsold main crop into the'}]\n"
     ]
    }
   ],
   "source": [
    "print(summarizer(comment, max_length=230, min_length=30, do_sample=False))"
   ]
  },
  {
   "cell_type": "code",
   "execution_count": 123,
   "id": "292b72be-3e03-450c-9342-c7930e98de6a",
   "metadata": {},
   "outputs": [
    {
     "ename": "FileNotFoundError",
     "evalue": "[Errno 2] No such file or directory: 'raw_data/pdf_reports/210113.pdf'",
     "output_type": "error",
     "traceback": [
      "\u001b[0;31m---------------------------------------------------------------------------\u001b[0m",
      "\u001b[0;31mFileNotFoundError\u001b[0m                         Traceback (most recent call last)",
      "Cell \u001b[0;32mIn[123], line 2\u001b[0m\n\u001b[1;32m      1\u001b[0m output_string \u001b[38;5;241m=\u001b[39m StringIO()\n\u001b[0;32m----> 2\u001b[0m \u001b[38;5;28;01mwith\u001b[39;00m \u001b[38;5;28;43mopen\u001b[39;49m\u001b[43m(\u001b[49m\u001b[38;5;124;43m'\u001b[39;49m\u001b[38;5;124;43mraw_data/pdf_reports/210113.pdf\u001b[39;49m\u001b[38;5;124;43m'\u001b[39;49m\u001b[43m,\u001b[49m\u001b[43m \u001b[49m\u001b[38;5;124;43m'\u001b[39;49m\u001b[38;5;124;43mrb\u001b[39;49m\u001b[38;5;124;43m'\u001b[39;49m\u001b[43m)\u001b[49m \u001b[38;5;28;01mas\u001b[39;00m fin:\n\u001b[1;32m      3\u001b[0m     extract_text_to_fp(fin, output_string, laparams\u001b[38;5;241m=\u001b[39mLAParams(),\n\u001b[1;32m      4\u001b[0m                        output_type\u001b[38;5;241m=\u001b[39m\u001b[38;5;124m'\u001b[39m\u001b[38;5;124mtext\u001b[39m\u001b[38;5;124m'\u001b[39m, codec\u001b[38;5;241m=\u001b[39m\u001b[38;5;28;01mNone\u001b[39;00m, maxpages\u001b[38;5;241m=\u001b[39m\u001b[38;5;241m1\u001b[39m)\n\u001b[1;32m      5\u001b[0m output_string\u001b[38;5;241m.\u001b[39mgetvalue()\n",
      "File \u001b[0;32m~/.pyenv/versions/3.10.6/envs/weather_checker/lib/python3.10/site-packages/IPython/core/interactiveshell.py:310\u001b[0m, in \u001b[0;36m_modified_open\u001b[0;34m(file, *args, **kwargs)\u001b[0m\n\u001b[1;32m    303\u001b[0m \u001b[38;5;28;01mif\u001b[39;00m file \u001b[38;5;129;01min\u001b[39;00m {\u001b[38;5;241m0\u001b[39m, \u001b[38;5;241m1\u001b[39m, \u001b[38;5;241m2\u001b[39m}:\n\u001b[1;32m    304\u001b[0m     \u001b[38;5;28;01mraise\u001b[39;00m \u001b[38;5;167;01mValueError\u001b[39;00m(\n\u001b[1;32m    305\u001b[0m         \u001b[38;5;124mf\u001b[39m\u001b[38;5;124m\"\u001b[39m\u001b[38;5;124mIPython won\u001b[39m\u001b[38;5;124m'\u001b[39m\u001b[38;5;124mt let you open fd=\u001b[39m\u001b[38;5;132;01m{\u001b[39;00mfile\u001b[38;5;132;01m}\u001b[39;00m\u001b[38;5;124m by default \u001b[39m\u001b[38;5;124m\"\u001b[39m\n\u001b[1;32m    306\u001b[0m         \u001b[38;5;124m\"\u001b[39m\u001b[38;5;124mas it is likely to crash IPython. If you know what you are doing, \u001b[39m\u001b[38;5;124m\"\u001b[39m\n\u001b[1;32m    307\u001b[0m         \u001b[38;5;124m\"\u001b[39m\u001b[38;5;124myou can use builtins\u001b[39m\u001b[38;5;124m'\u001b[39m\u001b[38;5;124m open.\u001b[39m\u001b[38;5;124m\"\u001b[39m\n\u001b[1;32m    308\u001b[0m     )\n\u001b[0;32m--> 310\u001b[0m \u001b[38;5;28;01mreturn\u001b[39;00m \u001b[43mio_open\u001b[49m\u001b[43m(\u001b[49m\u001b[43mfile\u001b[49m\u001b[43m,\u001b[49m\u001b[43m \u001b[49m\u001b[38;5;241;43m*\u001b[39;49m\u001b[43margs\u001b[49m\u001b[43m,\u001b[49m\u001b[43m \u001b[49m\u001b[38;5;241;43m*\u001b[39;49m\u001b[38;5;241;43m*\u001b[39;49m\u001b[43mkwargs\u001b[49m\u001b[43m)\u001b[49m\n",
      "\u001b[0;31mFileNotFoundError\u001b[0m: [Errno 2] No such file or directory: 'raw_data/pdf_reports/210113.pdf'"
     ]
    }
   ],
   "source": [
    "output_string = StringIO()\n",
    "with open('raw_data/pdf_reports/210113.pdf', 'rb') as fin:\n",
    "    extract_text_to_fp(fin, output_string, laparams=LAParams(),\n",
    "                       output_type='text', codec=None, maxpages=1)\n",
    "output_string.getvalue()"
   ]
  },
  {
   "cell_type": "code",
   "execution_count": 15,
   "id": "b751bb47-045d-4da1-9e25-398aa2c95b9a",
   "metadata": {},
   "outputs": [],
   "source": [
    "# Create a function to extract text\n",
    "def text_extraction(element):\n",
    "    # Extracting the text from the in-line text element\n",
    "    line_text = element.get_text()\n",
    "    \n",
    "    # Find the formats of the text\n",
    "    # Initialize the list with all the formats that appeared in the line of text\n",
    "    line_formats = []\n",
    "    for text_line in element:\n",
    "        if isinstance(text_line, LTTextContainer):\n",
    "            # Iterating through each character in the line of text\n",
    "            for character in text_line:\n",
    "                if isinstance(character, LTChar):\n",
    "                    # Append the font name of the character\n",
    "                    line_formats.append(character.fontname)\n",
    "                    # Append the font size of the character\n",
    "                    line_formats.append(character.size)\n",
    "    # Find the unique font sizes and names in the line\n",
    "    format_per_line = list(set(line_formats))\n",
    "    \n",
    "    # Return a tuple with the text in each line along with its format\n",
    "    return (line_text, format_per_line)"
   ]
  },
  {
   "cell_type": "code",
   "execution_count": 22,
   "id": "8db09dd0-858a-4412-af2e-70beca64729a",
   "metadata": {},
   "outputs": [],
   "source": [
    "# Extracting tables from the page\n",
    "\n",
    "def extract_table(pdf_path, page_num, table_num):\n",
    "    # Open the pdf file\n",
    "    pdf = pdfplumber.open(pdf_path)\n",
    "    # Find the examined page\n",
    "    table_page = pdf.pages[page_num]\n",
    "    # Extract the appropriate table\n",
    "    table = table_page.extract_tables()[table_num]\n",
    "    return table\n",
    "\n",
    "# Convert table into the appropriate format\n",
    "def table_converter(table):\n",
    "    table_string = ''\n",
    "    # Iterate through each row of the table\n",
    "    for row_num in range(len(table)):\n",
    "        row = table[row_num]\n",
    "        # Remove the line breaker from the wrapped texts\n",
    "        cleaned_row = [item.replace('\\n', ' ') if item is not None and '\\n' in item else 'None' if item is None else item for item in row]\n",
    "        # Convert the table into a string \n",
    "        table_string+=('|'+'|'.join(cleaned_row)+'|'+'\\n')\n",
    "    # Removing the last line break\n",
    "    table_string = table_string[:-1]\n",
    "    return table_string"
   ]
  },
  {
   "cell_type": "code",
   "execution_count": 23,
   "id": "52921ae6-fa33-414f-b38f-5ba1878151d9",
   "metadata": {},
   "outputs": [],
   "source": [
    "# Find the PDF path\n",
    "pdf_path = 'raw_data/pdf_reports/210113.pdf'\n",
    "# create a PDF file object\n",
    "pdfFileObj = open(pdf_path, 'rb')\n",
    "# create a PDF reader object\n",
    "pdfReaded = PyPDF2.PdfReader(pdfFileObj)\n",
    "\n",
    "# Create the dictionary to extract text from each image\n",
    "text_per_page = {}\n",
    "\n",
    "# We extract the pages from the PDF\n",
    "for pagenum, page in enumerate(extract_pages(pdf_path)):\n",
    "    #Initialize the variables needed for the text extraction from the page\n",
    "    pageObj = pdfReaded.pages[pagenum]\n",
    "    page_text = []\n",
    "    line_format = []  \n",
    "    text_from_tables = []\n",
    "    page_content = []\n",
    "    # Initialize the number of the examined tables\n",
    "    table_num = 0\n",
    "    first_element= True\n",
    "    table_extraction_flag= False\n",
    "    #Open the pdf file\n",
    "    pdf = pdfplumber.open(pdf_path)\n",
    "    #Find the examined page\n",
    "    page_tables = pdf.pages[pagenum]\n",
    "    # Find the number of tables on the page\n",
    "    tables = page_tables.find_tables()\n",
    "    \n",
    "    # Find all the elements\n",
    "    page_elements = [(element.y1, element) for element in page._objs]\n",
    "    # Sort all the elements as they appear in the page \n",
    "    page_elements.sort(key=lambda a: a[0], reverse=True)\n",
    "    # Find the elements that composed a page\n",
    "    for i,component in enumerate(page_elements):\n",
    "        # Extract the position of the top side of the element in the PDF\n",
    "        pos= component[0]\n",
    "        # Extract the element of the page layout\n",
    "        element = component[1]\n",
    "        \n",
    "        # Check if the element is a text element\n",
    "        if isinstance(element, LTTextContainer):\n",
    "            # Check if the text appeared in a table\n",
    "            if table_extraction_flag == False:\n",
    "                # Use the function to extract the text and format for each text element\n",
    "                (line_text, format_per_line) = text_extraction(element)\n",
    "                # Append the text of each line to the page text\n",
    "                page_text.append(line_text)\n",
    "                # Append the format for each line containing text\n",
    "                line_format.append(format_per_line)\n",
    "                page_content.append(line_text)\n",
    "            else:\n",
    "                # Omit the text that appeared in a table\n",
    "                pass\n",
    "\n",
    "           # Check the elements for tables\n",
    "        if isinstance(element, LTRect):\n",
    "            # If the first rectangular element\n",
    "            if first_element == True and (table_num+1) <= len(tables):\n",
    "                # Find the bounding box of the table\n",
    "                lower_side = page.bbox[3] - tables[table_num].bbox[3]\n",
    "                upper_side = element.y1 \n",
    "                # Extract the information from the table\n",
    "                table = extract_table(pdf_path, pagenum, table_num)\n",
    "                # Convert the table information in structured string format\n",
    "                table_string = table_converter(table)\n",
    "                # Append the table string into a list\n",
    "                text_from_tables.append(table_string)\n",
    "                page_content.append(table_string)\n",
    "                # Set the flag as True to avoid the content again\n",
    "                table_extraction_flag = True\n",
    "                # Make it another element\n",
    "                first_element = False\n",
    "                # Add a placeholder in the text and format lists\n",
    "                page_text.append('table')\n",
    "                line_format.append('table')"
   ]
  },
  {
   "cell_type": "code",
   "execution_count": 39,
   "id": "ca9b106b-1f58-4f75-ac46-adb8ae3ee3d7",
   "metadata": {},
   "outputs": [
    {
     "data": {
      "text/plain": [
       "[<pdfplumber.table.Table at 0x7fc357f5b9d0>]"
      ]
     },
     "execution_count": 39,
     "metadata": {},
     "output_type": "execute_result"
    }
   ],
   "source": [
    "tables"
   ]
  },
  {
   "cell_type": "code",
   "execution_count": 46,
   "id": "47eb0f7b-1bc7-482c-b20d-0178c7350bf0",
   "metadata": {},
   "outputs": [
    {
     "data": {
      "text/plain": [
       "<LTRect 16.080,685.920,596.640,687.120>"
      ]
     },
     "execution_count": 46,
     "metadata": {},
     "output_type": "execute_result"
    }
   ],
   "source": [
    "page_elements[1][1]"
   ]
  },
  {
   "cell_type": "code",
   "execution_count": null,
   "id": "a31b9c57-95e7-46f3-aa75-85915d680427",
   "metadata": {},
   "outputs": [],
   "source": []
  }
 ],
 "metadata": {
  "kernelspec": {
   "display_name": "Python 3 (ipykernel)",
   "language": "python",
   "name": "python3"
  },
  "language_info": {
   "codemirror_mode": {
    "name": "ipython",
    "version": 3
   },
   "file_extension": ".py",
   "mimetype": "text/x-python",
   "name": "python",
   "nbconvert_exporter": "python",
   "pygments_lexer": "ipython3",
   "version": "3.10.6"
  }
 },
 "nbformat": 4,
 "nbformat_minor": 5
}
